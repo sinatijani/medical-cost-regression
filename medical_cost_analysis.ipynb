{
 "cells": [
  {
   "cell_type": "code",
   "execution_count": 1,
   "metadata": {},
   "outputs": [
    {
     "name": "stdout",
     "output_type": "stream",
     "text": [
      "Requirement already satisfied: pandas in ./venv/lib/python3.13/site-packages (2.2.3)\n",
      "Requirement already satisfied: numpy in ./venv/lib/python3.13/site-packages (2.2.3)\n",
      "Requirement already satisfied: matplotlib in ./venv/lib/python3.13/site-packages (3.10.1)\n",
      "Requirement already satisfied: seaborn in ./venv/lib/python3.13/site-packages (0.13.2)\n",
      "Requirement already satisfied: openpyxl in ./venv/lib/python3.13/site-packages (3.1.5)\n",
      "Requirement already satisfied: python-dateutil>=2.8.2 in ./venv/lib/python3.13/site-packages (from pandas) (2.9.0.post0)\n",
      "Requirement already satisfied: pytz>=2020.1 in ./venv/lib/python3.13/site-packages (from pandas) (2025.1)\n",
      "Requirement already satisfied: tzdata>=2022.7 in ./venv/lib/python3.13/site-packages (from pandas) (2025.1)\n",
      "Requirement already satisfied: contourpy>=1.0.1 in ./venv/lib/python3.13/site-packages (from matplotlib) (1.3.1)\n",
      "Requirement already satisfied: cycler>=0.10 in ./venv/lib/python3.13/site-packages (from matplotlib) (0.12.1)\n",
      "Requirement already satisfied: fonttools>=4.22.0 in ./venv/lib/python3.13/site-packages (from matplotlib) (4.56.0)\n",
      "Requirement already satisfied: kiwisolver>=1.3.1 in ./venv/lib/python3.13/site-packages (from matplotlib) (1.4.8)\n",
      "Requirement already satisfied: packaging>=20.0 in ./venv/lib/python3.13/site-packages (from matplotlib) (24.2)\n",
      "Requirement already satisfied: pillow>=8 in ./venv/lib/python3.13/site-packages (from matplotlib) (11.1.0)\n",
      "Requirement already satisfied: pyparsing>=2.3.1 in ./venv/lib/python3.13/site-packages (from matplotlib) (3.2.1)\n",
      "Requirement already satisfied: et-xmlfile in ./venv/lib/python3.13/site-packages (from openpyxl) (2.0.0)\n",
      "Requirement already satisfied: six>=1.5 in ./venv/lib/python3.13/site-packages (from python-dateutil>=2.8.2->pandas) (1.17.0)\n",
      "Note: you may need to restart the kernel to use updated packages.\n"
     ]
    }
   ],
   "source": [
    "pip install pandas numpy matplotlib seaborn openpyxl"
   ]
  },
  {
   "cell_type": "code",
   "execution_count": 2,
   "metadata": {},
   "outputs": [
    {
     "name": "stdout",
     "output_type": "stream",
     "text": [
      "Requirement already satisfied: pip in ./venv/lib/python3.13/site-packages (25.0.1)\n",
      "Note: you may need to restart the kernel to use updated packages.\n"
     ]
    }
   ],
   "source": [
    "pip install --upgrade pip"
   ]
  },
  {
   "cell_type": "code",
   "execution_count": 3,
   "metadata": {},
   "outputs": [],
   "source": [
    "import pandas as pd\n",
    "import numpy as np\n",
    "import matplotlib.pyplot as plt\n",
    "import seaborn as sns"
   ]
  },
  {
   "cell_type": "code",
   "execution_count": 4,
   "metadata": {},
   "outputs": [],
   "source": [
    "# Load the data\n",
    "\n",
    "df = pd.read_excel('h243.xlsx')"
   ]
  },
  {
   "cell_type": "code",
   "execution_count": 5,
   "metadata": {},
   "outputs": [
    {
     "data": {
      "application/vnd.microsoft.datawrangler.viewer.v0+json": {
       "columns": [
        {
         "name": "index",
         "rawType": "int64",
         "type": "integer"
        },
        {
         "name": "DUID",
         "rawType": "int64",
         "type": "integer"
        },
        {
         "name": "PID",
         "rawType": "int64",
         "type": "integer"
        },
        {
         "name": "DUPERSID",
         "rawType": "int64",
         "type": "integer"
        },
        {
         "name": "PANEL",
         "rawType": "int64",
         "type": "integer"
        },
        {
         "name": "DATAYEAR",
         "rawType": "int64",
         "type": "integer"
        },
        {
         "name": "FAMID31",
         "rawType": "object",
         "type": "string"
        },
        {
         "name": "FAMID42",
         "rawType": "object",
         "type": "string"
        },
        {
         "name": "FAMID53",
         "rawType": "object",
         "type": "string"
        },
        {
         "name": "FAMID22",
         "rawType": "object",
         "type": "string"
        },
        {
         "name": "FAMIDYR",
         "rawType": "object",
         "type": "string"
        },
        {
         "name": "CPSFAMID",
         "rawType": "object",
         "type": "string"
        },
        {
         "name": "FCSZ1231",
         "rawType": "int64",
         "type": "integer"
        },
        {
         "name": "FCRP1231",
         "rawType": "int64",
         "type": "integer"
        },
        {
         "name": "RULETR31",
         "rawType": "object",
         "type": "string"
        },
        {
         "name": "RULETR42",
         "rawType": "object",
         "type": "string"
        },
        {
         "name": "RULETR53",
         "rawType": "object",
         "type": "string"
        },
        {
         "name": "RULETR22",
         "rawType": "object",
         "type": "string"
        },
        {
         "name": "RUSIZE31",
         "rawType": "int64",
         "type": "integer"
        },
        {
         "name": "RUSIZE42",
         "rawType": "int64",
         "type": "integer"
        },
        {
         "name": "RUSIZE53",
         "rawType": "int64",
         "type": "integer"
        },
        {
         "name": "RUSIZE22",
         "rawType": "int64",
         "type": "integer"
        },
        {
         "name": "RUCLAS31",
         "rawType": "int64",
         "type": "integer"
        },
        {
         "name": "RUCLAS42",
         "rawType": "int64",
         "type": "integer"
        },
        {
         "name": "RUCLAS53",
         "rawType": "int64",
         "type": "integer"
        },
        {
         "name": "RUCLAS22",
         "rawType": "int64",
         "type": "integer"
        },
        {
         "name": "FAMSZE31",
         "rawType": "int64",
         "type": "integer"
        },
        {
         "name": "FAMSZE42",
         "rawType": "int64",
         "type": "integer"
        },
        {
         "name": "FAMSZE53",
         "rawType": "int64",
         "type": "integer"
        },
        {
         "name": "FAMSZE22",
         "rawType": "int64",
         "type": "integer"
        },
        {
         "name": "FMRS1231",
         "rawType": "int64",
         "type": "integer"
        },
        {
         "name": "FAMS1231",
         "rawType": "int64",
         "type": "integer"
        },
        {
         "name": "FAMSZEYR",
         "rawType": "int64",
         "type": "integer"
        },
        {
         "name": "FAMRFPYR",
         "rawType": "int64",
         "type": "integer"
        },
        {
         "name": "REGION31",
         "rawType": "int64",
         "type": "integer"
        },
        {
         "name": "REGION42",
         "rawType": "int64",
         "type": "integer"
        },
        {
         "name": "REGION53",
         "rawType": "int64",
         "type": "integer"
        },
        {
         "name": "REGION22",
         "rawType": "int64",
         "type": "integer"
        },
        {
         "name": "REFPRS31",
         "rawType": "int64",
         "type": "integer"
        },
        {
         "name": "REFPRS42",
         "rawType": "int64",
         "type": "integer"
        },
        {
         "name": "REFPRS53",
         "rawType": "int64",
         "type": "integer"
        },
        {
         "name": "REFPRS22",
         "rawType": "int64",
         "type": "integer"
        },
        {
         "name": "RESP31",
         "rawType": "int64",
         "type": "integer"
        },
        {
         "name": "RESP42",
         "rawType": "int64",
         "type": "integer"
        },
        {
         "name": "RESP53",
         "rawType": "int64",
         "type": "integer"
        },
        {
         "name": "RESP22",
         "rawType": "int64",
         "type": "integer"
        },
        {
         "name": "PROXY31",
         "rawType": "int64",
         "type": "integer"
        },
        {
         "name": "PROXY42",
         "rawType": "int64",
         "type": "integer"
        },
        {
         "name": "PROXY53",
         "rawType": "int64",
         "type": "integer"
        },
        {
         "name": "PROXY22",
         "rawType": "int64",
         "type": "integer"
        },
        {
         "name": "INTVLANG",
         "rawType": "int64",
         "type": "integer"
        },
        {
         "name": "INTVTYPE31",
         "rawType": "int64",
         "type": "integer"
        },
        {
         "name": "INTVTYPE42",
         "rawType": "int64",
         "type": "integer"
        },
        {
         "name": "INTVTYPE53",
         "rawType": "int64",
         "type": "integer"
        },
        {
         "name": "BEGRFM31",
         "rawType": "int64",
         "type": "integer"
        },
        {
         "name": "BEGRFY31",
         "rawType": "int64",
         "type": "integer"
        },
        {
         "name": "ENDRFM31",
         "rawType": "int64",
         "type": "integer"
        },
        {
         "name": "ENDRFY31",
         "rawType": "int64",
         "type": "integer"
        },
        {
         "name": "BEGRFM42",
         "rawType": "int64",
         "type": "integer"
        },
        {
         "name": "BEGRFY42",
         "rawType": "int64",
         "type": "integer"
        },
        {
         "name": "ENDRFM42",
         "rawType": "int64",
         "type": "integer"
        },
        {
         "name": "ENDRFY42",
         "rawType": "int64",
         "type": "integer"
        },
        {
         "name": "BEGRFM53",
         "rawType": "int64",
         "type": "integer"
        },
        {
         "name": "BEGRFY53",
         "rawType": "int64",
         "type": "integer"
        },
        {
         "name": "ENDRFM53",
         "rawType": "int64",
         "type": "integer"
        },
        {
         "name": "ENDRFY53",
         "rawType": "int64",
         "type": "integer"
        },
        {
         "name": "ENDRFM22",
         "rawType": "int64",
         "type": "integer"
        },
        {
         "name": "ENDRFY22",
         "rawType": "int64",
         "type": "integer"
        },
        {
         "name": "KEYNESS",
         "rawType": "int64",
         "type": "integer"
        },
        {
         "name": "INSCOP31",
         "rawType": "int64",
         "type": "integer"
        },
        {
         "name": "INSCOP42",
         "rawType": "int64",
         "type": "integer"
        },
        {
         "name": "INSCOP53",
         "rawType": "int64",
         "type": "integer"
        },
        {
         "name": "INSCOP22",
         "rawType": "int64",
         "type": "integer"
        },
        {
         "name": "INSC1231",
         "rawType": "int64",
         "type": "integer"
        },
        {
         "name": "INSCOPE",
         "rawType": "int64",
         "type": "integer"
        },
        {
         "name": "ELGRND31",
         "rawType": "int64",
         "type": "integer"
        },
        {
         "name": "ELGRND42",
         "rawType": "int64",
         "type": "integer"
        },
        {
         "name": "ELGRND53",
         "rawType": "int64",
         "type": "integer"
        },
        {
         "name": "ELGRND22",
         "rawType": "int64",
         "type": "integer"
        },
        {
         "name": "PSTATS31",
         "rawType": "int64",
         "type": "integer"
        },
        {
         "name": "PSTATS42",
         "rawType": "int64",
         "type": "integer"
        },
        {
         "name": "PSTATS53",
         "rawType": "int64",
         "type": "integer"
        },
        {
         "name": "RURSLT31",
         "rawType": "int64",
         "type": "integer"
        },
        {
         "name": "RURSLT42",
         "rawType": "int64",
         "type": "integer"
        },
        {
         "name": "RURSLT53",
         "rawType": "int64",
         "type": "integer"
        },
        {
         "name": "AGE31X",
         "rawType": "int64",
         "type": "integer"
        },
        {
         "name": "AGE42X",
         "rawType": "int64",
         "type": "integer"
        },
        {
         "name": "AGE53X",
         "rawType": "int64",
         "type": "integer"
        },
        {
         "name": "AGE22X",
         "rawType": "int64",
         "type": "integer"
        },
        {
         "name": "AGELAST",
         "rawType": "int64",
         "type": "integer"
        },
        {
         "name": "DOBMM",
         "rawType": "int64",
         "type": "integer"
        },
        {
         "name": "DOBYY",
         "rawType": "int64",
         "type": "integer"
        },
        {
         "name": "SEX",
         "rawType": "int64",
         "type": "integer"
        },
        {
         "name": "RACEV1X",
         "rawType": "int64",
         "type": "integer"
        },
        {
         "name": "RACEV2X",
         "rawType": "int64",
         "type": "integer"
        },
        {
         "name": "RACEAX",
         "rawType": "int64",
         "type": "integer"
        },
        {
         "name": "RACEBX",
         "rawType": "int64",
         "type": "integer"
        },
        {
         "name": "RACEWX",
         "rawType": "int64",
         "type": "integer"
        },
        {
         "name": "RACETHX",
         "rawType": "int64",
         "type": "integer"
        },
        {
         "name": "HISPANX",
         "rawType": "int64",
         "type": "integer"
        },
        {
         "name": "HISPNCAT",
         "rawType": "int64",
         "type": "integer"
        },
        {
         "name": "MARRY31X",
         "rawType": "int64",
         "type": "integer"
        },
        {
         "name": "MARRY42X",
         "rawType": "int64",
         "type": "integer"
        },
        {
         "name": "MARRY53X",
         "rawType": "int64",
         "type": "integer"
        },
        {
         "name": "MARRY22X",
         "rawType": "int64",
         "type": "integer"
        },
        {
         "name": "SPOUID31",
         "rawType": "int64",
         "type": "integer"
        },
        {
         "name": "SPOUID42",
         "rawType": "int64",
         "type": "integer"
        },
        {
         "name": "SPOUID53",
         "rawType": "int64",
         "type": "integer"
        },
        {
         "name": "SPOUID22",
         "rawType": "int64",
         "type": "integer"
        },
        {
         "name": "SPOUIN31",
         "rawType": "int64",
         "type": "integer"
        },
        {
         "name": "SPOUIN42",
         "rawType": "int64",
         "type": "integer"
        },
        {
         "name": "SPOUIN53",
         "rawType": "int64",
         "type": "integer"
        },
        {
         "name": "SPOUIN22",
         "rawType": "int64",
         "type": "integer"
        },
        {
         "name": "EDUCYR",
         "rawType": "int64",
         "type": "integer"
        },
        {
         "name": "HIDEG",
         "rawType": "int64",
         "type": "integer"
        },
        {
         "name": "FTSTU31X",
         "rawType": "int64",
         "type": "integer"
        },
        {
         "name": "FTSTU42X",
         "rawType": "int64",
         "type": "integer"
        },
        {
         "name": "FTSTU53X",
         "rawType": "int64",
         "type": "integer"
        },
        {
         "name": "FTSTU22X",
         "rawType": "int64",
         "type": "integer"
        },
        {
         "name": "ACTDTY31",
         "rawType": "int64",
         "type": "integer"
        },
        {
         "name": "ACTDTY42",
         "rawType": "int64",
         "type": "integer"
        },
        {
         "name": "ACTDTY53",
         "rawType": "int64",
         "type": "integer"
        },
        {
         "name": "REFRL31X",
         "rawType": "int64",
         "type": "integer"
        },
        {
         "name": "REFRL42X",
         "rawType": "int64",
         "type": "integer"
        },
        {
         "name": "REFRL53X",
         "rawType": "int64",
         "type": "integer"
        },
        {
         "name": "REFRL22X",
         "rawType": "int64",
         "type": "integer"
        },
        {
         "name": "OTHLGSPK",
         "rawType": "int64",
         "type": "integer"
        },
        {
         "name": "WHTLGSPK",
         "rawType": "int64",
         "type": "integer"
        },
        {
         "name": "HWELLSPK",
         "rawType": "int64",
         "type": "integer"
        },
        {
         "name": "BORNUSA",
         "rawType": "int64",
         "type": "integer"
        },
        {
         "name": "YRSINUS",
         "rawType": "int64",
         "type": "integer"
        },
        {
         "name": "MOPID31X",
         "rawType": "int64",
         "type": "integer"
        },
        {
         "name": "MOPID42X",
         "rawType": "int64",
         "type": "integer"
        },
        {
         "name": "MOPID53X",
         "rawType": "int64",
         "type": "integer"
        },
        {
         "name": "DAPID31X",
         "rawType": "int64",
         "type": "integer"
        },
        {
         "name": "DAPID42X",
         "rawType": "int64",
         "type": "integer"
        },
        {
         "name": "DAPID53X",
         "rawType": "int64",
         "type": "integer"
        },
        {
         "name": "HIBPDX",
         "rawType": "int64",
         "type": "integer"
        },
        {
         "name": "HIBPAGED",
         "rawType": "int64",
         "type": "integer"
        },
        {
         "name": "BPMLDX",
         "rawType": "int64",
         "type": "integer"
        },
        {
         "name": "CHDDX",
         "rawType": "int64",
         "type": "integer"
        },
        {
         "name": "CHDAGED",
         "rawType": "int64",
         "type": "integer"
        },
        {
         "name": "ANGIDX",
         "rawType": "int64",
         "type": "integer"
        },
        {
         "name": "ANGIAGED",
         "rawType": "int64",
         "type": "integer"
        },
        {
         "name": "MIDX",
         "rawType": "int64",
         "type": "integer"
        },
        {
         "name": "MIAGED",
         "rawType": "int64",
         "type": "integer"
        },
        {
         "name": "OHRTDX",
         "rawType": "int64",
         "type": "integer"
        },
        {
         "name": "OHRTAGED",
         "rawType": "int64",
         "type": "integer"
        },
        {
         "name": "OHRTTYPE",
         "rawType": "int64",
         "type": "integer"
        },
        {
         "name": "STRKDX",
         "rawType": "int64",
         "type": "integer"
        },
        {
         "name": "STRKAGED",
         "rawType": "int64",
         "type": "integer"
        },
        {
         "name": "EMPHDX",
         "rawType": "int64",
         "type": "integer"
        },
        {
         "name": "EMPHAGED",
         "rawType": "int64",
         "type": "integer"
        },
        {
         "name": "CHBRON31",
         "rawType": "int64",
         "type": "integer"
        },
        {
         "name": "CHOLDX",
         "rawType": "int64",
         "type": "integer"
        },
        {
         "name": "CHOLAGED",
         "rawType": "int64",
         "type": "integer"
        },
        {
         "name": "CANCERDX",
         "rawType": "int64",
         "type": "integer"
        },
        {
         "name": "CABLADDR",
         "rawType": "int64",
         "type": "integer"
        },
        {
         "name": "CABREAST",
         "rawType": "int64",
         "type": "integer"
        },
        {
         "name": "CACERVIX",
         "rawType": "int64",
         "type": "integer"
        },
        {
         "name": "CACOLON",
         "rawType": "int64",
         "type": "integer"
        },
        {
         "name": "CALUNG",
         "rawType": "int64",
         "type": "integer"
        },
        {
         "name": "CALYMPH",
         "rawType": "int64",
         "type": "integer"
        },
        {
         "name": "CAMELANO",
         "rawType": "int64",
         "type": "integer"
        },
        {
         "name": "CAOTHER",
         "rawType": "int64",
         "type": "integer"
        },
        {
         "name": "CAPROSTA",
         "rawType": "int64",
         "type": "integer"
        },
        {
         "name": "CASKINNM",
         "rawType": "int64",
         "type": "integer"
        },
        {
         "name": "CASKINDK",
         "rawType": "int64",
         "type": "integer"
        },
        {
         "name": "CAUTERUS",
         "rawType": "int64",
         "type": "integer"
        },
        {
         "name": "DIABDX_M18",
         "rawType": "int64",
         "type": "integer"
        },
        {
         "name": "DIABAGED",
         "rawType": "int64",
         "type": "integer"
        },
        {
         "name": "JTPAIN31_M18",
         "rawType": "int64",
         "type": "integer"
        },
        {
         "name": "ARTHDX",
         "rawType": "int64",
         "type": "integer"
        },
        {
         "name": "ARTHTYPE",
         "rawType": "int64",
         "type": "integer"
        },
        {
         "name": "ARTHAGED",
         "rawType": "int64",
         "type": "integer"
        },
        {
         "name": "ASTHDX",
         "rawType": "int64",
         "type": "integer"
        },
        {
         "name": "ASTHAGED",
         "rawType": "int64",
         "type": "integer"
        },
        {
         "name": "ASSTIL31",
         "rawType": "int64",
         "type": "integer"
        },
        {
         "name": "ASATAK31",
         "rawType": "int64",
         "type": "integer"
        },
        {
         "name": "ASTHEP31",
         "rawType": "int64",
         "type": "integer"
        },
        {
         "name": "ASACUT31",
         "rawType": "int64",
         "type": "integer"
        },
        {
         "name": "ASMRCN31",
         "rawType": "int64",
         "type": "integer"
        },
        {
         "name": "ASPREV31",
         "rawType": "int64",
         "type": "integer"
        },
        {
         "name": "ASDALY31",
         "rawType": "int64",
         "type": "integer"
        },
        {
         "name": "ASPKFL31",
         "rawType": "int64",
         "type": "integer"
        },
        {
         "name": "ASEVFL31",
         "rawType": "int64",
         "type": "integer"
        },
        {
         "name": "ASWNFL31",
         "rawType": "int64",
         "type": "integer"
        },
        {
         "name": "ADHDADDX",
         "rawType": "int64",
         "type": "integer"
        },
        {
         "name": "ADHDAGED",
         "rawType": "int64",
         "type": "integer"
        },
        {
         "name": "COVIDEVER53",
         "rawType": "int64",
         "type": "integer"
        },
        {
         "name": "LCEVER53",
         "rawType": "int64",
         "type": "integer"
        },
        {
         "name": "COVSYMNOW53",
         "rawType": "int64",
         "type": "integer"
        },
        {
         "name": "COVREDABIL53",
         "rawType": "int64",
         "type": "integer"
        },
        {
         "name": "COVID12MO53",
         "rawType": "int64",
         "type": "integer"
        },
        {
         "name": "COVMNTHX53",
         "rawType": "int64",
         "type": "integer"
        },
        {
         "name": "COVYRDX53",
         "rawType": "int64",
         "type": "integer"
        },
        {
         "name": "RTHLTH31",
         "rawType": "int64",
         "type": "integer"
        },
        {
         "name": "RTHLTH42",
         "rawType": "int64",
         "type": "integer"
        },
        {
         "name": "RTHLTH53",
         "rawType": "int64",
         "type": "integer"
        },
        {
         "name": "MNHLTH31",
         "rawType": "int64",
         "type": "integer"
        },
        {
         "name": "MNHLTH42",
         "rawType": "int64",
         "type": "integer"
        },
        {
         "name": "MNHLTH53",
         "rawType": "int64",
         "type": "integer"
        },
        {
         "name": "IADLHP31",
         "rawType": "int64",
         "type": "integer"
        },
        {
         "name": "ADLHLP31",
         "rawType": "int64",
         "type": "integer"
        },
        {
         "name": "AIDHLP31",
         "rawType": "int64",
         "type": "integer"
        },
        {
         "name": "WLKLIM31",
         "rawType": "int64",
         "type": "integer"
        },
        {
         "name": "LFTDIF31",
         "rawType": "int64",
         "type": "integer"
        },
        {
         "name": "STPDIF31",
         "rawType": "int64",
         "type": "integer"
        },
        {
         "name": "WLKDIF31",
         "rawType": "int64",
         "type": "integer"
        },
        {
         "name": "MILDIF31",
         "rawType": "int64",
         "type": "integer"
        },
        {
         "name": "STNDIF31",
         "rawType": "int64",
         "type": "integer"
        },
        {
         "name": "BENDIF31",
         "rawType": "int64",
         "type": "integer"
        },
        {
         "name": "RCHDIF31",
         "rawType": "int64",
         "type": "integer"
        },
        {
         "name": "FNGRDF31",
         "rawType": "int64",
         "type": "integer"
        },
        {
         "name": "ACTLIM31",
         "rawType": "int64",
         "type": "integer"
        },
        {
         "name": "WRKLIM31",
         "rawType": "int64",
         "type": "integer"
        },
        {
         "name": "HSELIM31",
         "rawType": "int64",
         "type": "integer"
        },
        {
         "name": "SCHLIM31",
         "rawType": "int64",
         "type": "integer"
        },
        {
         "name": "UNABLE31",
         "rawType": "int64",
         "type": "integer"
        },
        {
         "name": "SOCLIM31",
         "rawType": "int64",
         "type": "integer"
        },
        {
         "name": "COGLIM31",
         "rawType": "int64",
         "type": "integer"
        },
        {
         "name": "DFHEAR42",
         "rawType": "int64",
         "type": "integer"
        },
        {
         "name": "DFSEE42",
         "rawType": "int64",
         "type": "integer"
        },
        {
         "name": "DFCOG42",
         "rawType": "int64",
         "type": "integer"
        },
        {
         "name": "DFWLKC42",
         "rawType": "int64",
         "type": "integer"
        },
        {
         "name": "DFDRSB42",
         "rawType": "int64",
         "type": "integer"
        },
        {
         "name": "DFERND42",
         "rawType": "int64",
         "type": "integer"
        },
        {
         "name": "ANYLMI22",
         "rawType": "int64",
         "type": "integer"
        },
        {
         "name": "CHPMED42",
         "rawType": "int64",
         "type": "integer"
        },
        {
         "name": "CHPMHB42",
         "rawType": "int64",
         "type": "integer"
        },
        {
         "name": "CHPMCN42",
         "rawType": "int64",
         "type": "integer"
        },
        {
         "name": "CHSERV42",
         "rawType": "int64",
         "type": "integer"
        },
        {
         "name": "CHSRHB42",
         "rawType": "int64",
         "type": "integer"
        },
        {
         "name": "CHSRCN42",
         "rawType": "int64",
         "type": "integer"
        },
        {
         "name": "CHLIMI42",
         "rawType": "int64",
         "type": "integer"
        },
        {
         "name": "CHLIHB42",
         "rawType": "int64",
         "type": "integer"
        },
        {
         "name": "CHLICO42",
         "rawType": "int64",
         "type": "integer"
        },
        {
         "name": "CHTHER42",
         "rawType": "int64",
         "type": "integer"
        },
        {
         "name": "CHTHHB42",
         "rawType": "int64",
         "type": "integer"
        },
        {
         "name": "CHTHCO42",
         "rawType": "int64",
         "type": "integer"
        },
        {
         "name": "CHCOUN42",
         "rawType": "int64",
         "type": "integer"
        },
        {
         "name": "CHEMPB42",
         "rawType": "int64",
         "type": "integer"
        },
        {
         "name": "CSHCN42",
         "rawType": "int64",
         "type": "integer"
        },
        {
         "name": "MESHGT42",
         "rawType": "int64",
         "type": "integer"
        },
        {
         "name": "WHNHGT42",
         "rawType": "int64",
         "type": "integer"
        },
        {
         "name": "MESWGT42",
         "rawType": "int64",
         "type": "integer"
        },
        {
         "name": "WHNWGT42",
         "rawType": "int64",
         "type": "integer"
        },
        {
         "name": "CHBMIX42",
         "rawType": "float64",
         "type": "float"
        },
        {
         "name": "MESVIS42",
         "rawType": "int64",
         "type": "integer"
        },
        {
         "name": "EATHLT42",
         "rawType": "int64",
         "type": "integer"
        },
        {
         "name": "WHNEAT42",
         "rawType": "int64",
         "type": "integer"
        },
        {
         "name": "PHYSCL42",
         "rawType": "int64",
         "type": "integer"
        },
        {
         "name": "WHNPHY42",
         "rawType": "int64",
         "type": "integer"
        },
        {
         "name": "SAFEST42",
         "rawType": "int64",
         "type": "integer"
        },
        {
         "name": "WHNSAF42",
         "rawType": "int64",
         "type": "integer"
        },
        {
         "name": "BOOST42",
         "rawType": "int64",
         "type": "integer"
        },
        {
         "name": "WHNBST42",
         "rawType": "int64",
         "type": "integer"
        },
        {
         "name": "LAPBLT42",
         "rawType": "int64",
         "type": "integer"
        },
        {
         "name": "WHNLAP42",
         "rawType": "int64",
         "type": "integer"
        },
        {
         "name": "HELMET42",
         "rawType": "int64",
         "type": "integer"
        },
        {
         "name": "WHNHEL42",
         "rawType": "int64",
         "type": "integer"
        },
        {
         "name": "NOSMOK42",
         "rawType": "int64",
         "type": "integer"
        },
        {
         "name": "WHNSMK42",
         "rawType": "int64",
         "type": "integer"
        },
        {
         "name": "TIMALN42",
         "rawType": "int64",
         "type": "integer"
        },
        {
         "name": "LSTETH53",
         "rawType": "int64",
         "type": "integer"
        },
        {
         "name": "PHYEXE53",
         "rawType": "int64",
         "type": "integer"
        },
        {
         "name": "OFTSMK53",
         "rawType": "int64",
         "type": "integer"
        },
        {
         "name": "COVAXEVR31",
         "rawType": "int64",
         "type": "integer"
        },
        {
         "name": "COVAXEVR42",
         "rawType": "int64",
         "type": "integer"
        },
        {
         "name": "COVAXEVR53",
         "rawType": "int64",
         "type": "integer"
        },
        {
         "name": "BOOSTERSHOT31",
         "rawType": "int64",
         "type": "integer"
        },
        {
         "name": "BOOSTERSHOT42",
         "rawType": "int64",
         "type": "integer"
        },
        {
         "name": "COVAXNEW53",
         "rawType": "int64",
         "type": "integer"
        },
        {
         "name": "SAQELIG",
         "rawType": "int64",
         "type": "integer"
        },
        {
         "name": "ADPROX42",
         "rawType": "int64",
         "type": "integer"
        },
        {
         "name": "ADSEX42",
         "rawType": "int64",
         "type": "integer"
        },
        {
         "name": "ADAGE42",
         "rawType": "int64",
         "type": "integer"
        },
        {
         "name": "ADGENH42",
         "rawType": "int64",
         "type": "integer"
        },
        {
         "name": "ADDAYA42",
         "rawType": "int64",
         "type": "integer"
        },
        {
         "name": "ADCLIM42",
         "rawType": "int64",
         "type": "integer"
        },
        {
         "name": "ADACLS42",
         "rawType": "int64",
         "type": "integer"
        },
        {
         "name": "ADWKLM42",
         "rawType": "int64",
         "type": "integer"
        },
        {
         "name": "ADEMLS42",
         "rawType": "int64",
         "type": "integer"
        },
        {
         "name": "ADMWCF42",
         "rawType": "int64",
         "type": "integer"
        },
        {
         "name": "ADPAIN42",
         "rawType": "int64",
         "type": "integer"
        },
        {
         "name": "ADPCFL42",
         "rawType": "int64",
         "type": "integer"
        },
        {
         "name": "ADENGY42",
         "rawType": "int64",
         "type": "integer"
        },
        {
         "name": "ADPRST42",
         "rawType": "int64",
         "type": "integer"
        },
        {
         "name": "ADSOCA42",
         "rawType": "int64",
         "type": "integer"
        },
        {
         "name": "ADCOMPAN42",
         "rawType": "int64",
         "type": "integer"
        },
        {
         "name": "ADLEFTOUT42",
         "rawType": "int64",
         "type": "integer"
        },
        {
         "name": "ADISOL42",
         "rawType": "int64",
         "type": "integer"
        },
        {
         "name": "ADNERV42",
         "rawType": "int64",
         "type": "integer"
        },
        {
         "name": "ADHOPE42",
         "rawType": "int64",
         "type": "integer"
        },
        {
         "name": "ADREST42",
         "rawType": "int64",
         "type": "integer"
        },
        {
         "name": "ADSAD42",
         "rawType": "int64",
         "type": "integer"
        },
        {
         "name": "ADEFRT42",
         "rawType": "int64",
         "type": "integer"
        },
        {
         "name": "ADWRTH42",
         "rawType": "int64",
         "type": "integer"
        },
        {
         "name": "K6SUM42",
         "rawType": "int64",
         "type": "integer"
        },
        {
         "name": "ADINTR42",
         "rawType": "int64",
         "type": "integer"
        },
        {
         "name": "ADDPRS42",
         "rawType": "int64",
         "type": "integer"
        },
        {
         "name": "PHQ242",
         "rawType": "int64",
         "type": "integer"
        },
        {
         "name": "ADSLEEP42",
         "rawType": "int64",
         "type": "integer"
        },
        {
         "name": "ADDAYEXER42",
         "rawType": "int64",
         "type": "integer"
        },
        {
         "name": "ADMINSEXER42",
         "rawType": "int64",
         "type": "integer"
        },
        {
         "name": "ADASKALC42",
         "rawType": "int64",
         "type": "integer"
        },
        {
         "name": "ADNUMDRK42",
         "rawType": "int64",
         "type": "integer"
        },
        {
         "name": "ADRNK542_M20",
         "rawType": "int64",
         "type": "integer"
        },
        {
         "name": "ADRNK442_M20",
         "rawType": "int64",
         "type": "integer"
        },
        {
         "name": "ADOFTALC42",
         "rawType": "int64",
         "type": "integer"
        },
        {
         "name": "ADSTAL42",
         "rawType": "int64",
         "type": "integer"
        },
        {
         "name": "ADMNTRT42",
         "rawType": "int64",
         "type": "integer"
        },
        {
         "name": "ADUNABTRT42",
         "rawType": "int64",
         "type": "integer"
        },
        {
         "name": "ADPROBTRT42",
         "rawType": "int64",
         "type": "integer"
        },
        {
         "name": "ADTRTEXP42",
         "rawType": "int64",
         "type": "integer"
        },
        {
         "name": "ADLATERENT42",
         "rawType": "int64",
         "type": "integer"
        },
        {
         "name": "ADLATEUTIL42",
         "rawType": "int64",
         "type": "integer"
        },
        {
         "name": "ADMISSCCLN42",
         "rawType": "int64",
         "type": "integer"
        },
        {
         "name": "ADDEBT42",
         "rawType": "int64",
         "type": "integer"
        },
        {
         "name": "ADUNEXPEXP42",
         "rawType": "int64",
         "type": "integer"
        },
        {
         "name": "ADBRTC42",
         "rawType": "int64",
         "type": "integer"
        },
        {
         "name": "ADMDVT42",
         "rawType": "int64",
         "type": "integer"
        },
        {
         "name": "ADFLST42",
         "rawType": "int64",
         "type": "integer"
        },
        {
         "name": "ADWGHD42",
         "rawType": "int64",
         "type": "integer"
        },
        {
         "name": "ADWTAD42",
         "rawType": "int64",
         "type": "integer"
        },
        {
         "name": "ADTBAC42",
         "rawType": "int64",
         "type": "integer"
        },
        {
         "name": "ADOFTB42",
         "rawType": "int64",
         "type": "integer"
        },
        {
         "name": "ADQTTB42",
         "rawType": "int64",
         "type": "integer"
        },
        {
         "name": "ADQTMD42",
         "rawType": "int64",
         "type": "integer"
        },
        {
         "name": "ADQTHP42",
         "rawType": "int64",
         "type": "integer"
        },
        {
         "name": "ADMOOD42",
         "rawType": "int64",
         "type": "integer"
        },
        {
         "name": "ADBPCK42",
         "rawType": "int64",
         "type": "integer"
        },
        {
         "name": "ADCHLC42",
         "rawType": "int64",
         "type": "integer"
        },
        {
         "name": "ADPNEU42",
         "rawType": "int64",
         "type": "integer"
        },
        {
         "name": "ADSHNG42",
         "rawType": "int64",
         "type": "integer"
        },
        {
         "name": "ADNOAP42",
         "rawType": "int64",
         "type": "integer"
        },
        {
         "name": "ADDSCU42",
         "rawType": "int64",
         "type": "integer"
        },
        {
         "name": "ADCOLN42",
         "rawType": "int64",
         "type": "integer"
        },
        {
         "name": "ADCLNS42",
         "rawType": "int64",
         "type": "integer"
        },
        {
         "name": "ADSGMD42",
         "rawType": "int64",
         "type": "integer"
        },
        {
         "name": "ADBLDS42",
         "rawType": "int64",
         "type": "integer"
        },
        {
         "name": "ADPROS42",
         "rawType": "int64",
         "type": "integer"
        },
        {
         "name": "ADPSAG42",
         "rawType": "int64",
         "type": "integer"
        },
        {
         "name": "ADUTRM42",
         "rawType": "int64",
         "type": "integer"
        },
        {
         "name": "ADPAP42",
         "rawType": "int64",
         "type": "integer"
        },
        {
         "name": "ADPAPG42",
         "rawType": "int64",
         "type": "integer"
        },
        {
         "name": "ADOSTP42",
         "rawType": "int64",
         "type": "integer"
        },
        {
         "name": "ADBNDN42",
         "rawType": "int64",
         "type": "integer"
        },
        {
         "name": "ADBRST42",
         "rawType": "int64",
         "type": "integer"
        },
        {
         "name": "ADMMGR42",
         "rawType": "int64",
         "type": "integer"
        },
        {
         "name": "VPCS42",
         "rawType": "float64",
         "type": "float"
        },
        {
         "name": "VMCS42",
         "rawType": "float64",
         "type": "float"
        },
        {
         "name": "VRFLAG42",
         "rawType": "int64",
         "type": "integer"
        },
        {
         "name": "ADCMPM42",
         "rawType": "int64",
         "type": "integer"
        },
        {
         "name": "ADCMPY42",
         "rawType": "int64",
         "type": "integer"
        },
        {
         "name": "ADLANG42",
         "rawType": "int64",
         "type": "integer"
        },
        {
         "name": "ADBMI42",
         "rawType": "float64",
         "type": "float"
        },
        {
         "name": "DCSELIG",
         "rawType": "int64",
         "type": "integer"
        },
        {
         "name": "DSDIA53",
         "rawType": "int64",
         "type": "integer"
        },
        {
         "name": "DSA1C53",
         "rawType": "int64",
         "type": "integer"
        },
        {
         "name": "DSFT2353",
         "rawType": "int64",
         "type": "integer"
        },
        {
         "name": "DSFT2253",
         "rawType": "int64",
         "type": "integer"
        },
        {
         "name": "DSFT2153",
         "rawType": "int64",
         "type": "integer"
        },
        {
         "name": "DSFB2153",
         "rawType": "int64",
         "type": "integer"
        },
        {
         "name": "DSFTNV53",
         "rawType": "int64",
         "type": "integer"
        },
        {
         "name": "DSEY2353",
         "rawType": "int64",
         "type": "integer"
        },
        {
         "name": "DSEY2253",
         "rawType": "int64",
         "type": "integer"
        },
        {
         "name": "DSEY2153",
         "rawType": "int64",
         "type": "integer"
        },
        {
         "name": "DSEB2153",
         "rawType": "int64",
         "type": "integer"
        },
        {
         "name": "DSEYNV53",
         "rawType": "int64",
         "type": "integer"
        },
        {
         "name": "DSCH2353",
         "rawType": "int64",
         "type": "integer"
        },
        {
         "name": "DSCH2253",
         "rawType": "int64",
         "type": "integer"
        },
        {
         "name": "DSCH2153",
         "rawType": "int64",
         "type": "integer"
        },
        {
         "name": "DSCB2153",
         "rawType": "int64",
         "type": "integer"
        },
        {
         "name": "DSCHNV53",
         "rawType": "int64",
         "type": "integer"
        },
        {
         "name": "DSFL2353",
         "rawType": "int64",
         "type": "integer"
        },
        {
         "name": "DSFL2253",
         "rawType": "int64",
         "type": "integer"
        },
        {
         "name": "DSFL2153",
         "rawType": "int64",
         "type": "integer"
        },
        {
         "name": "DSVB2153",
         "rawType": "int64",
         "type": "integer"
        },
        {
         "name": "DSFLNV53",
         "rawType": "int64",
         "type": "integer"
        },
        {
         "name": "DSKIDN53",
         "rawType": "int64",
         "type": "integer"
        },
        {
         "name": "DSEYPR53",
         "rawType": "int64",
         "type": "integer"
        },
        {
         "name": "DSDIET53",
         "rawType": "int64",
         "type": "integer"
        },
        {
         "name": "DSMED53",
         "rawType": "int64",
         "type": "integer"
        },
        {
         "name": "DSINSU53",
         "rawType": "int64",
         "type": "integer"
        },
        {
         "name": "DSCPCP53",
         "rawType": "int64",
         "type": "integer"
        },
        {
         "name": "DSCNPC53",
         "rawType": "int64",
         "type": "integer"
        },
        {
         "name": "DSCPHN53",
         "rawType": "int64",
         "type": "integer"
        },
        {
         "name": "DSCINT53",
         "rawType": "int64",
         "type": "integer"
        },
        {
         "name": "DSCGRP53",
         "rawType": "int64",
         "type": "integer"
        },
        {
         "name": "DSCONF53",
         "rawType": "int64",
         "type": "integer"
        },
        {
         "name": "DSPRX53",
         "rawType": "int64",
         "type": "integer"
        },
        {
         "name": "DDNWRK22",
         "rawType": "int64",
         "type": "integer"
        },
        {
         "name": "OTHDYS22",
         "rawType": "int64",
         "type": "integer"
        },
        {
         "name": "OTHNDD22",
         "rawType": "int64",
         "type": "integer"
        },
        {
         "name": "ACCELI42",
         "rawType": "int64",
         "type": "integer"
        },
        {
         "name": "HAVEUS42",
         "rawType": "int64",
         "type": "integer"
        },
        {
         "name": "PRACTP42",
         "rawType": "int64",
         "type": "integer"
        },
        {
         "name": "YNOUSC42_M18",
         "rawType": "int64",
         "type": "integer"
        },
        {
         "name": "PROVTY42_M18",
         "rawType": "int64",
         "type": "integer"
        },
        {
         "name": "PLCTYP42",
         "rawType": "int64",
         "type": "integer"
        },
        {
         "name": "TMTKUS42",
         "rawType": "int64",
         "type": "integer"
        },
        {
         "name": "TYPEPE42",
         "rawType": "int64",
         "type": "integer"
        },
        {
         "name": "LOCATN42",
         "rawType": "int64",
         "type": "integer"
        },
        {
         "name": "HSPLAP42",
         "rawType": "int64",
         "type": "integer"
        },
        {
         "name": "WHITPR42",
         "rawType": "int64",
         "type": "integer"
        },
        {
         "name": "BLCKPR42",
         "rawType": "int64",
         "type": "integer"
        },
        {
         "name": "ASIANP42",
         "rawType": "int64",
         "type": "integer"
        },
        {
         "name": "NATAMP42",
         "rawType": "int64",
         "type": "integer"
        },
        {
         "name": "PACISP42",
         "rawType": "int64",
         "type": "integer"
        },
        {
         "name": "OTHRCP42",
         "rawType": "int64",
         "type": "integer"
        },
        {
         "name": "GENDRP42",
         "rawType": "int64",
         "type": "integer"
        },
        {
         "name": "PHNREG42",
         "rawType": "int64",
         "type": "integer"
        },
        {
         "name": "OFFHOU42",
         "rawType": "int64",
         "type": "integer"
        },
        {
         "name": "AFTHOU42",
         "rawType": "int64",
         "type": "integer"
        },
        {
         "name": "TREATM42",
         "rawType": "int64",
         "type": "integer"
        },
        {
         "name": "DECIDE42",
         "rawType": "int64",
         "type": "integer"
        },
        {
         "name": "EXPLOP42",
         "rawType": "int64",
         "type": "integer"
        },
        {
         "name": "PRVSPK42",
         "rawType": "int64",
         "type": "integer"
        },
        {
         "name": "DLAYCA42",
         "rawType": "int64",
         "type": "integer"
        },
        {
         "name": "AFRDCA42",
         "rawType": "int64",
         "type": "integer"
        },
        {
         "name": "DLAYDN42",
         "rawType": "int64",
         "type": "integer"
        },
        {
         "name": "AFRDDN42",
         "rawType": "int64",
         "type": "integer"
        },
        {
         "name": "DLAYPM42",
         "rawType": "int64",
         "type": "integer"
        },
        {
         "name": "AFRDPM42",
         "rawType": "int64",
         "type": "integer"
        },
        {
         "name": "EMPST31",
         "rawType": "int64",
         "type": "integer"
        },
        {
         "name": "EMPST42",
         "rawType": "int64",
         "type": "integer"
        },
        {
         "name": "EMPST53",
         "rawType": "int64",
         "type": "integer"
        },
        {
         "name": "RNDFLG31",
         "rawType": "int64",
         "type": "integer"
        },
        {
         "name": "MORJOB31",
         "rawType": "int64",
         "type": "integer"
        },
        {
         "name": "MORJOB42",
         "rawType": "int64",
         "type": "integer"
        },
        {
         "name": "MORJOB53",
         "rawType": "int64",
         "type": "integer"
        },
        {
         "name": "EVRWRK",
         "rawType": "int64",
         "type": "integer"
        },
        {
         "name": "HRWG31X",
         "rawType": "float64",
         "type": "float"
        },
        {
         "name": "HRWG42X",
         "rawType": "float64",
         "type": "float"
        },
        {
         "name": "HRWG53X",
         "rawType": "float64",
         "type": "float"
        },
        {
         "name": "HRWGIM31",
         "rawType": "int64",
         "type": "integer"
        },
        {
         "name": "HRWGIM42",
         "rawType": "int64",
         "type": "integer"
        },
        {
         "name": "HRWGIM53",
         "rawType": "int64",
         "type": "integer"
        },
        {
         "name": "HRHOW31",
         "rawType": "int64",
         "type": "integer"
        },
        {
         "name": "HRHOW42",
         "rawType": "int64",
         "type": "integer"
        },
        {
         "name": "HRHOW53",
         "rawType": "int64",
         "type": "integer"
        },
        {
         "name": "DIFFWG31",
         "rawType": "int64",
         "type": "integer"
        },
        {
         "name": "DIFFWG42",
         "rawType": "int64",
         "type": "integer"
        },
        {
         "name": "DIFFWG53",
         "rawType": "int64",
         "type": "integer"
        },
        {
         "name": "NHRWG31",
         "rawType": "float64",
         "type": "float"
        },
        {
         "name": "NHRWG42",
         "rawType": "float64",
         "type": "float"
        },
        {
         "name": "NHRWG53",
         "rawType": "float64",
         "type": "float"
        },
        {
         "name": "HOUR31",
         "rawType": "int64",
         "type": "integer"
        },
        {
         "name": "HOUR42",
         "rawType": "int64",
         "type": "integer"
        },
        {
         "name": "HOUR53",
         "rawType": "int64",
         "type": "integer"
        },
        {
         "name": "TEMPJB31",
         "rawType": "int64",
         "type": "integer"
        },
        {
         "name": "TEMPJB42",
         "rawType": "int64",
         "type": "integer"
        },
        {
         "name": "TEMPJB53",
         "rawType": "int64",
         "type": "integer"
        },
        {
         "name": "SSNLJB31",
         "rawType": "int64",
         "type": "integer"
        },
        {
         "name": "SSNLJB42",
         "rawType": "int64",
         "type": "integer"
        },
        {
         "name": "SSNLJB53",
         "rawType": "int64",
         "type": "integer"
        },
        {
         "name": "SELFCM31",
         "rawType": "int64",
         "type": "integer"
        },
        {
         "name": "SELFCM42",
         "rawType": "int64",
         "type": "integer"
        },
        {
         "name": "SELFCM53",
         "rawType": "int64",
         "type": "integer"
        },
        {
         "name": "DISVW31X",
         "rawType": "int64",
         "type": "integer"
        },
        {
         "name": "DISVW42X",
         "rawType": "int64",
         "type": "integer"
        },
        {
         "name": "DISVW53X",
         "rawType": "int64",
         "type": "integer"
        },
        {
         "name": "CHOIC31",
         "rawType": "int64",
         "type": "integer"
        },
        {
         "name": "CHOIC42",
         "rawType": "int64",
         "type": "integer"
        },
        {
         "name": "CHOIC53",
         "rawType": "int64",
         "type": "integer"
        },
        {
         "name": "INDCAT31",
         "rawType": "int64",
         "type": "integer"
        },
        {
         "name": "INDCAT42",
         "rawType": "int64",
         "type": "integer"
        },
        {
         "name": "INDCAT53",
         "rawType": "int64",
         "type": "integer"
        },
        {
         "name": "NUMEMP31",
         "rawType": "int64",
         "type": "integer"
        },
        {
         "name": "NUMEMP42",
         "rawType": "int64",
         "type": "integer"
        },
        {
         "name": "NUMEMP53",
         "rawType": "int64",
         "type": "integer"
        },
        {
         "name": "MORE31",
         "rawType": "int64",
         "type": "integer"
        },
        {
         "name": "MORE42",
         "rawType": "int64",
         "type": "integer"
        },
        {
         "name": "MORE53",
         "rawType": "int64",
         "type": "integer"
        },
        {
         "name": "UNION31",
         "rawType": "int64",
         "type": "integer"
        },
        {
         "name": "UNION42",
         "rawType": "int64",
         "type": "integer"
        },
        {
         "name": "UNION53",
         "rawType": "int64",
         "type": "integer"
        },
        {
         "name": "NWK31",
         "rawType": "int64",
         "type": "integer"
        },
        {
         "name": "NWK42",
         "rawType": "int64",
         "type": "integer"
        },
        {
         "name": "NWK53",
         "rawType": "int64",
         "type": "integer"
        },
        {
         "name": "CHGJ3142",
         "rawType": "int64",
         "type": "integer"
        },
        {
         "name": "CHGJ4253",
         "rawType": "int64",
         "type": "integer"
        },
        {
         "name": "YCHJ3142",
         "rawType": "int64",
         "type": "integer"
        },
        {
         "name": "YCHJ4253",
         "rawType": "int64",
         "type": "integer"
        },
        {
         "name": "STJBMM31",
         "rawType": "int64",
         "type": "integer"
        },
        {
         "name": "STJBYY31",
         "rawType": "int64",
         "type": "integer"
        },
        {
         "name": "STJBMM42",
         "rawType": "int64",
         "type": "integer"
        },
        {
         "name": "STJBYY42",
         "rawType": "int64",
         "type": "integer"
        },
        {
         "name": "STJBMM53",
         "rawType": "int64",
         "type": "integer"
        },
        {
         "name": "STJBYY53",
         "rawType": "int64",
         "type": "integer"
        },
        {
         "name": "EVRETIRE",
         "rawType": "int64",
         "type": "integer"
        },
        {
         "name": "OCCCAT31",
         "rawType": "int64",
         "type": "integer"
        },
        {
         "name": "OCCCAT42",
         "rawType": "int64",
         "type": "integer"
        },
        {
         "name": "OCCCAT53",
         "rawType": "int64",
         "type": "integer"
        },
        {
         "name": "PAYVAC31",
         "rawType": "int64",
         "type": "integer"
        },
        {
         "name": "PAYVAC42",
         "rawType": "int64",
         "type": "integer"
        },
        {
         "name": "PAYVAC53",
         "rawType": "int64",
         "type": "integer"
        },
        {
         "name": "SICPAY31",
         "rawType": "int64",
         "type": "integer"
        },
        {
         "name": "SICPAY42",
         "rawType": "int64",
         "type": "integer"
        },
        {
         "name": "SICPAY53",
         "rawType": "int64",
         "type": "integer"
        },
        {
         "name": "PAYDR31",
         "rawType": "int64",
         "type": "integer"
        },
        {
         "name": "PAYDR42",
         "rawType": "int64",
         "type": "integer"
        },
        {
         "name": "PAYDR53",
         "rawType": "int64",
         "type": "integer"
        },
        {
         "name": "RETPLN31",
         "rawType": "int64",
         "type": "integer"
        },
        {
         "name": "RETPLN42",
         "rawType": "int64",
         "type": "integer"
        },
        {
         "name": "RETPLN53",
         "rawType": "int64",
         "type": "integer"
        },
        {
         "name": "BSNTY31",
         "rawType": "int64",
         "type": "integer"
        },
        {
         "name": "BSNTY42",
         "rawType": "int64",
         "type": "integer"
        },
        {
         "name": "BSNTY53",
         "rawType": "int64",
         "type": "integer"
        },
        {
         "name": "JOBORG31",
         "rawType": "int64",
         "type": "integer"
        },
        {
         "name": "JOBORG42",
         "rawType": "int64",
         "type": "integer"
        },
        {
         "name": "JOBORG53",
         "rawType": "int64",
         "type": "integer"
        },
        {
         "name": "HELD31X",
         "rawType": "int64",
         "type": "integer"
        },
        {
         "name": "HELD42X",
         "rawType": "int64",
         "type": "integer"
        },
        {
         "name": "HELD53X",
         "rawType": "int64",
         "type": "integer"
        },
        {
         "name": "OFFER31X",
         "rawType": "int64",
         "type": "integer"
        },
        {
         "name": "OFFER42X",
         "rawType": "int64",
         "type": "integer"
        },
        {
         "name": "OFFER53X",
         "rawType": "int64",
         "type": "integer"
        },
        {
         "name": "OFREMP31",
         "rawType": "int64",
         "type": "integer"
        },
        {
         "name": "OFREMP42",
         "rawType": "int64",
         "type": "integer"
        },
        {
         "name": "OFREMP53",
         "rawType": "int64",
         "type": "integer"
        },
        {
         "name": "EMPST31H",
         "rawType": "int64",
         "type": "integer"
        },
        {
         "name": "EMPST42H",
         "rawType": "int64",
         "type": "integer"
        },
        {
         "name": "EMPST53H",
         "rawType": "int64",
         "type": "integer"
        },
        {
         "name": "SLFCM31H",
         "rawType": "int64",
         "type": "integer"
        },
        {
         "name": "SLFCM42H",
         "rawType": "int64",
         "type": "integer"
        },
        {
         "name": "SLFCM53H",
         "rawType": "int64",
         "type": "integer"
        },
        {
         "name": "NMEMP31H",
         "rawType": "int64",
         "type": "integer"
        },
        {
         "name": "NMEMP42H",
         "rawType": "int64",
         "type": "integer"
        },
        {
         "name": "NMEMP53H",
         "rawType": "int64",
         "type": "integer"
        },
        {
         "name": "MORE31H",
         "rawType": "int64",
         "type": "integer"
        },
        {
         "name": "MORE42H",
         "rawType": "int64",
         "type": "integer"
        },
        {
         "name": "MORE53H",
         "rawType": "int64",
         "type": "integer"
        },
        {
         "name": "INDCT31H",
         "rawType": "int64",
         "type": "integer"
        },
        {
         "name": "INDCT42H",
         "rawType": "int64",
         "type": "integer"
        },
        {
         "name": "INDCT53H",
         "rawType": "int64",
         "type": "integer"
        },
        {
         "name": "OCCCT31H",
         "rawType": "int64",
         "type": "integer"
        },
        {
         "name": "OCCCT42H",
         "rawType": "int64",
         "type": "integer"
        },
        {
         "name": "OCCCT53H",
         "rawType": "int64",
         "type": "integer"
        },
        {
         "name": "HOUR31H",
         "rawType": "int64",
         "type": "integer"
        },
        {
         "name": "HOUR42H",
         "rawType": "int64",
         "type": "integer"
        },
        {
         "name": "HOUR53H",
         "rawType": "int64",
         "type": "integer"
        },
        {
         "name": "JBORG31H",
         "rawType": "int64",
         "type": "integer"
        },
        {
         "name": "JBORG42H",
         "rawType": "int64",
         "type": "integer"
        },
        {
         "name": "JBORG53H",
         "rawType": "int64",
         "type": "integer"
        },
        {
         "name": "UNION31H",
         "rawType": "int64",
         "type": "integer"
        },
        {
         "name": "UNION42H",
         "rawType": "int64",
         "type": "integer"
        },
        {
         "name": "UNION53H",
         "rawType": "int64",
         "type": "integer"
        },
        {
         "name": "BSNTY31H",
         "rawType": "int64",
         "type": "integer"
        },
        {
         "name": "BSNTY42H",
         "rawType": "int64",
         "type": "integer"
        },
        {
         "name": "BSNTY53H",
         "rawType": "int64",
         "type": "integer"
        },
        {
         "name": "HRWG31H",
         "rawType": "float64",
         "type": "float"
        },
        {
         "name": "HRWG42H",
         "rawType": "float64",
         "type": "float"
        },
        {
         "name": "HRWG53H",
         "rawType": "float64",
         "type": "float"
        },
        {
         "name": "CMJHLD31",
         "rawType": "int64",
         "type": "integer"
        },
        {
         "name": "CMJHLD42",
         "rawType": "int64",
         "type": "integer"
        },
        {
         "name": "CMJHLD53",
         "rawType": "int64",
         "type": "integer"
        },
        {
         "name": "OFFER31H",
         "rawType": "int64",
         "type": "integer"
        },
        {
         "name": "OFFER42H",
         "rawType": "int64",
         "type": "integer"
        },
        {
         "name": "OFFER53H",
         "rawType": "int64",
         "type": "integer"
        },
        {
         "name": "OFEMP31H",
         "rawType": "int64",
         "type": "integer"
        },
        {
         "name": "OFEMP42H",
         "rawType": "int64",
         "type": "integer"
        },
        {
         "name": "OFEMP53H",
         "rawType": "int64",
         "type": "integer"
        },
        {
         "name": "PYVAC31H",
         "rawType": "int64",
         "type": "integer"
        },
        {
         "name": "PYVAC42H",
         "rawType": "int64",
         "type": "integer"
        },
        {
         "name": "PYVAC53H",
         "rawType": "int64",
         "type": "integer"
        },
        {
         "name": "SCPAY31H",
         "rawType": "int64",
         "type": "integer"
        },
        {
         "name": "SCPAY42H",
         "rawType": "int64",
         "type": "integer"
        },
        {
         "name": "SCPAY53H",
         "rawType": "int64",
         "type": "integer"
        },
        {
         "name": "PAYDR31H",
         "rawType": "int64",
         "type": "integer"
        },
        {
         "name": "PAYDR42H",
         "rawType": "int64",
         "type": "integer"
        },
        {
         "name": "PAYDR53H",
         "rawType": "int64",
         "type": "integer"
        },
        {
         "name": "RTPLN31H",
         "rawType": "int64",
         "type": "integer"
        },
        {
         "name": "RTPLN42H",
         "rawType": "int64",
         "type": "integer"
        },
        {
         "name": "RTPLN53H",
         "rawType": "int64",
         "type": "integer"
        },
        {
         "name": "FILEDR22",
         "rawType": "int64",
         "type": "integer"
        },
        {
         "name": "WILFIL22",
         "rawType": "int64",
         "type": "integer"
        },
        {
         "name": "FLSTAT22",
         "rawType": "int64",
         "type": "integer"
        },
        {
         "name": "FILER22",
         "rawType": "int64",
         "type": "integer"
        },
        {
         "name": "JTINRU22",
         "rawType": "int64",
         "type": "integer"
        },
        {
         "name": "JNTPID22",
         "rawType": "int64",
         "type": "integer"
        },
        {
         "name": "TAXFRM22",
         "rawType": "int64",
         "type": "integer"
        },
        {
         "name": "FOODST22",
         "rawType": "int64",
         "type": "integer"
        },
        {
         "name": "FOODMN22",
         "rawType": "int64",
         "type": "integer"
        },
        {
         "name": "FOODVL22",
         "rawType": "int64",
         "type": "integer"
        },
        {
         "name": "TTLP22X",
         "rawType": "int64",
         "type": "integer"
        },
        {
         "name": "FAMINC22",
         "rawType": "int64",
         "type": "integer"
        },
        {
         "name": "POVCAT22",
         "rawType": "int64",
         "type": "integer"
        },
        {
         "name": "POVLEV22",
         "rawType": "float64",
         "type": "float"
        },
        {
         "name": "WAGEP22X",
         "rawType": "int64",
         "type": "integer"
        },
        {
         "name": "WAGIMP22",
         "rawType": "int64",
         "type": "integer"
        },
        {
         "name": "BUSNP22X",
         "rawType": "int64",
         "type": "integer"
        },
        {
         "name": "BUSIMP22",
         "rawType": "int64",
         "type": "integer"
        },
        {
         "name": "UNEMP22X",
         "rawType": "int64",
         "type": "integer"
        },
        {
         "name": "UNEIMP22",
         "rawType": "int64",
         "type": "integer"
        },
        {
         "name": "WCMPP22X",
         "rawType": "int64",
         "type": "integer"
        },
        {
         "name": "WCPIMP22",
         "rawType": "int64",
         "type": "integer"
        },
        {
         "name": "INTRP22X",
         "rawType": "int64",
         "type": "integer"
        },
        {
         "name": "INTIMP22",
         "rawType": "int64",
         "type": "integer"
        },
        {
         "name": "DIVDP22X",
         "rawType": "int64",
         "type": "integer"
        },
        {
         "name": "DIVIMP22",
         "rawType": "int64",
         "type": "integer"
        },
        {
         "name": "SALEP22X",
         "rawType": "int64",
         "type": "integer"
        },
        {
         "name": "SALIMP22",
         "rawType": "int64",
         "type": "integer"
        },
        {
         "name": "PENSP22X",
         "rawType": "int64",
         "type": "integer"
        },
        {
         "name": "PENIMP22",
         "rawType": "int64",
         "type": "integer"
        },
        {
         "name": "SSECP22X",
         "rawType": "int64",
         "type": "integer"
        },
        {
         "name": "SSCIMP22",
         "rawType": "int64",
         "type": "integer"
        },
        {
         "name": "TRSTP22X",
         "rawType": "int64",
         "type": "integer"
        },
        {
         "name": "TRTIMP22",
         "rawType": "int64",
         "type": "integer"
        },
        {
         "name": "VETSP22X",
         "rawType": "int64",
         "type": "integer"
        },
        {
         "name": "VETIMP22",
         "rawType": "int64",
         "type": "integer"
        },
        {
         "name": "IRASP22X",
         "rawType": "int64",
         "type": "integer"
        },
        {
         "name": "IRAIMP22",
         "rawType": "int64",
         "type": "integer"
        },
        {
         "name": "ALIMP22X",
         "rawType": "int64",
         "type": "integer"
        },
        {
         "name": "ALIIMP22",
         "rawType": "int64",
         "type": "integer"
        },
        {
         "name": "CHLDP22X",
         "rawType": "int64",
         "type": "integer"
        },
        {
         "name": "CHLIMP22",
         "rawType": "int64",
         "type": "integer"
        },
        {
         "name": "CASHP22X",
         "rawType": "int64",
         "type": "integer"
        },
        {
         "name": "CSHIMP22",
         "rawType": "int64",
         "type": "integer"
        },
        {
         "name": "SSIP22X",
         "rawType": "int64",
         "type": "integer"
        },
        {
         "name": "SSIIMP22",
         "rawType": "int64",
         "type": "integer"
        },
        {
         "name": "PUBP22X",
         "rawType": "int64",
         "type": "integer"
        },
        {
         "name": "PUBIMP22",
         "rawType": "int64",
         "type": "integer"
        },
        {
         "name": "OTHRP22X",
         "rawType": "int64",
         "type": "integer"
        },
        {
         "name": "OTHIMP22",
         "rawType": "int64",
         "type": "integer"
        },
        {
         "name": "HIEUIDX",
         "rawType": "object",
         "type": "string"
        },
        {
         "name": "TRIJA22X",
         "rawType": "int64",
         "type": "integer"
        },
        {
         "name": "TRIFE22X",
         "rawType": "int64",
         "type": "integer"
        },
        {
         "name": "TRIMA22X",
         "rawType": "int64",
         "type": "integer"
        },
        {
         "name": "TRIAP22X",
         "rawType": "int64",
         "type": "integer"
        },
        {
         "name": "TRIMY22X",
         "rawType": "int64",
         "type": "integer"
        },
        {
         "name": "TRIJU22X",
         "rawType": "int64",
         "type": "integer"
        },
        {
         "name": "TRIJL22X",
         "rawType": "int64",
         "type": "integer"
        },
        {
         "name": "TRIAU22X",
         "rawType": "int64",
         "type": "integer"
        },
        {
         "name": "TRISE22X",
         "rawType": "int64",
         "type": "integer"
        },
        {
         "name": "TRIOC22X",
         "rawType": "int64",
         "type": "integer"
        },
        {
         "name": "TRINO22X",
         "rawType": "int64",
         "type": "integer"
        },
        {
         "name": "TRIDE22X",
         "rawType": "int64",
         "type": "integer"
        },
        {
         "name": "MCRJA22",
         "rawType": "int64",
         "type": "integer"
        },
        {
         "name": "MCRFE22",
         "rawType": "int64",
         "type": "integer"
        },
        {
         "name": "MCRMA22",
         "rawType": "int64",
         "type": "integer"
        },
        {
         "name": "MCRAP22",
         "rawType": "int64",
         "type": "integer"
        },
        {
         "name": "MCRMY22",
         "rawType": "int64",
         "type": "integer"
        },
        {
         "name": "MCRJU22",
         "rawType": "int64",
         "type": "integer"
        },
        {
         "name": "MCRJL22",
         "rawType": "int64",
         "type": "integer"
        },
        {
         "name": "MCRAU22",
         "rawType": "int64",
         "type": "integer"
        },
        {
         "name": "MCRSE22",
         "rawType": "int64",
         "type": "integer"
        },
        {
         "name": "MCROC22",
         "rawType": "int64",
         "type": "integer"
        },
        {
         "name": "MCRNO22",
         "rawType": "int64",
         "type": "integer"
        },
        {
         "name": "MCRDE22",
         "rawType": "int64",
         "type": "integer"
        },
        {
         "name": "MCRJA22X",
         "rawType": "int64",
         "type": "integer"
        },
        {
         "name": "MCRFE22X",
         "rawType": "int64",
         "type": "integer"
        },
        {
         "name": "MCRMA22X",
         "rawType": "int64",
         "type": "integer"
        },
        {
         "name": "MCRAP22X",
         "rawType": "int64",
         "type": "integer"
        },
        {
         "name": "MCRMY22X",
         "rawType": "int64",
         "type": "integer"
        },
        {
         "name": "MCRJU22X",
         "rawType": "int64",
         "type": "integer"
        },
        {
         "name": "MCRJL22X",
         "rawType": "int64",
         "type": "integer"
        },
        {
         "name": "MCRAU22X",
         "rawType": "int64",
         "type": "integer"
        },
        {
         "name": "MCRSE22X",
         "rawType": "int64",
         "type": "integer"
        },
        {
         "name": "MCROC22X",
         "rawType": "int64",
         "type": "integer"
        },
        {
         "name": "MCRNO22X",
         "rawType": "int64",
         "type": "integer"
        },
        {
         "name": "MCRDE22X",
         "rawType": "int64",
         "type": "integer"
        },
        {
         "name": "MCDJA22",
         "rawType": "int64",
         "type": "integer"
        },
        {
         "name": "MCDFE22",
         "rawType": "int64",
         "type": "integer"
        },
        {
         "name": "MCDMA22",
         "rawType": "int64",
         "type": "integer"
        },
        {
         "name": "MCDAP22",
         "rawType": "int64",
         "type": "integer"
        },
        {
         "name": "MCDMY22",
         "rawType": "int64",
         "type": "integer"
        },
        {
         "name": "MCDJU22",
         "rawType": "int64",
         "type": "integer"
        },
        {
         "name": "MCDJL22",
         "rawType": "int64",
         "type": "integer"
        },
        {
         "name": "MCDAU22",
         "rawType": "int64",
         "type": "integer"
        },
        {
         "name": "MCDSE22",
         "rawType": "int64",
         "type": "integer"
        },
        {
         "name": "MCDOC22",
         "rawType": "int64",
         "type": "integer"
        },
        {
         "name": "MCDNO22",
         "rawType": "int64",
         "type": "integer"
        },
        {
         "name": "MCDDE22",
         "rawType": "int64",
         "type": "integer"
        },
        {
         "name": "MCDJA22X",
         "rawType": "int64",
         "type": "integer"
        },
        {
         "name": "MCDFE22X",
         "rawType": "int64",
         "type": "integer"
        },
        {
         "name": "MCDMA22X",
         "rawType": "int64",
         "type": "integer"
        },
        {
         "name": "MCDAP22X",
         "rawType": "int64",
         "type": "integer"
        },
        {
         "name": "MCDMY22X",
         "rawType": "int64",
         "type": "integer"
        },
        {
         "name": "MCDJU22X",
         "rawType": "int64",
         "type": "integer"
        },
        {
         "name": "MCDJL22X",
         "rawType": "int64",
         "type": "integer"
        },
        {
         "name": "MCDAU22X",
         "rawType": "int64",
         "type": "integer"
        },
        {
         "name": "MCDSE22X",
         "rawType": "int64",
         "type": "integer"
        },
        {
         "name": "MCDOC22X",
         "rawType": "int64",
         "type": "integer"
        },
        {
         "name": "MCDNO22X",
         "rawType": "int64",
         "type": "integer"
        },
        {
         "name": "MCDDE22X",
         "rawType": "int64",
         "type": "integer"
        },
        {
         "name": "GVAJA22",
         "rawType": "int64",
         "type": "integer"
        },
        {
         "name": "GVAFE22",
         "rawType": "int64",
         "type": "integer"
        },
        {
         "name": "GVAMA22",
         "rawType": "int64",
         "type": "integer"
        },
        {
         "name": "GVAAP22",
         "rawType": "int64",
         "type": "integer"
        },
        {
         "name": "GVAMY22",
         "rawType": "int64",
         "type": "integer"
        },
        {
         "name": "GVAJU22",
         "rawType": "int64",
         "type": "integer"
        },
        {
         "name": "GVAJL22",
         "rawType": "int64",
         "type": "integer"
        },
        {
         "name": "GVAAU22",
         "rawType": "int64",
         "type": "integer"
        },
        {
         "name": "GVASE22",
         "rawType": "int64",
         "type": "integer"
        },
        {
         "name": "GVAOC22",
         "rawType": "int64",
         "type": "integer"
        },
        {
         "name": "GVANO22",
         "rawType": "int64",
         "type": "integer"
        },
        {
         "name": "GVADE22",
         "rawType": "int64",
         "type": "integer"
        },
        {
         "name": "GVBJA22",
         "rawType": "int64",
         "type": "integer"
        },
        {
         "name": "GVBFE22",
         "rawType": "int64",
         "type": "integer"
        },
        {
         "name": "GVBMA22",
         "rawType": "int64",
         "type": "integer"
        },
        {
         "name": "GVBAP22",
         "rawType": "int64",
         "type": "integer"
        },
        {
         "name": "GVBMY22",
         "rawType": "int64",
         "type": "integer"
        },
        {
         "name": "GVBJU22",
         "rawType": "int64",
         "type": "integer"
        },
        {
         "name": "GVBJL22",
         "rawType": "int64",
         "type": "integer"
        },
        {
         "name": "GVBAU22",
         "rawType": "int64",
         "type": "integer"
        },
        {
         "name": "GVBSE22",
         "rawType": "int64",
         "type": "integer"
        },
        {
         "name": "GVBOC22",
         "rawType": "int64",
         "type": "integer"
        },
        {
         "name": "GVBNO22",
         "rawType": "int64",
         "type": "integer"
        },
        {
         "name": "GVBDE22",
         "rawType": "int64",
         "type": "integer"
        },
        {
         "name": "GVCJA22",
         "rawType": "int64",
         "type": "integer"
        },
        {
         "name": "GVCFE22",
         "rawType": "int64",
         "type": "integer"
        },
        {
         "name": "GVCMA22",
         "rawType": "int64",
         "type": "integer"
        },
        {
         "name": "GVCAP22",
         "rawType": "int64",
         "type": "integer"
        },
        {
         "name": "GVCMY22",
         "rawType": "int64",
         "type": "integer"
        },
        {
         "name": "GVCJU22",
         "rawType": "int64",
         "type": "integer"
        },
        {
         "name": "GVCJL22",
         "rawType": "int64",
         "type": "integer"
        },
        {
         "name": "GVCAU22",
         "rawType": "int64",
         "type": "integer"
        },
        {
         "name": "GVCSE22",
         "rawType": "int64",
         "type": "integer"
        },
        {
         "name": "GVCOC22",
         "rawType": "int64",
         "type": "integer"
        },
        {
         "name": "GVCNO22",
         "rawType": "int64",
         "type": "integer"
        },
        {
         "name": "GVCDE22",
         "rawType": "int64",
         "type": "integer"
        },
        {
         "name": "VAPJA22",
         "rawType": "int64",
         "type": "integer"
        },
        {
         "name": "VAPFE22",
         "rawType": "int64",
         "type": "integer"
        },
        {
         "name": "VAPMA22",
         "rawType": "int64",
         "type": "integer"
        },
        {
         "name": "VAPAP22",
         "rawType": "int64",
         "type": "integer"
        },
        {
         "name": "VAPMY22",
         "rawType": "int64",
         "type": "integer"
        },
        {
         "name": "VAPJU22",
         "rawType": "int64",
         "type": "integer"
        },
        {
         "name": "VAPJL22",
         "rawType": "int64",
         "type": "integer"
        },
        {
         "name": "VAPAU22",
         "rawType": "int64",
         "type": "integer"
        },
        {
         "name": "VAPSE22",
         "rawType": "int64",
         "type": "integer"
        },
        {
         "name": "VAPOC22",
         "rawType": "int64",
         "type": "integer"
        },
        {
         "name": "VAPNO22",
         "rawType": "int64",
         "type": "integer"
        },
        {
         "name": "VAPDE22",
         "rawType": "int64",
         "type": "integer"
        },
        {
         "name": "IHSJA22",
         "rawType": "int64",
         "type": "integer"
        },
        {
         "name": "IHSFE22",
         "rawType": "int64",
         "type": "integer"
        },
        {
         "name": "IHSMA22",
         "rawType": "int64",
         "type": "integer"
        },
        {
         "name": "IHSAP22",
         "rawType": "int64",
         "type": "integer"
        },
        {
         "name": "IHSMY22",
         "rawType": "int64",
         "type": "integer"
        },
        {
         "name": "IHSJU22",
         "rawType": "int64",
         "type": "integer"
        },
        {
         "name": "IHSJL22",
         "rawType": "int64",
         "type": "integer"
        },
        {
         "name": "IHSAU22",
         "rawType": "int64",
         "type": "integer"
        },
        {
         "name": "IHSSE22",
         "rawType": "int64",
         "type": "integer"
        },
        {
         "name": "IHSOC22",
         "rawType": "int64",
         "type": "integer"
        },
        {
         "name": "IHSNO22",
         "rawType": "int64",
         "type": "integer"
        },
        {
         "name": "IHSDE22",
         "rawType": "int64",
         "type": "integer"
        },
        {
         "name": "PUBJA22X",
         "rawType": "int64",
         "type": "integer"
        },
        {
         "name": "PUBFE22X",
         "rawType": "int64",
         "type": "integer"
        },
        {
         "name": "PUBMA22X",
         "rawType": "int64",
         "type": "integer"
        },
        {
         "name": "PUBAP22X",
         "rawType": "int64",
         "type": "integer"
        },
        {
         "name": "PUBMY22X",
         "rawType": "int64",
         "type": "integer"
        },
        {
         "name": "PUBJU22X",
         "rawType": "int64",
         "type": "integer"
        },
        {
         "name": "PUBJL22X",
         "rawType": "int64",
         "type": "integer"
        },
        {
         "name": "PUBAU22X",
         "rawType": "int64",
         "type": "integer"
        },
        {
         "name": "PUBSE22X",
         "rawType": "int64",
         "type": "integer"
        },
        {
         "name": "PUBOC22X",
         "rawType": "int64",
         "type": "integer"
        },
        {
         "name": "PUBNO22X",
         "rawType": "int64",
         "type": "integer"
        },
        {
         "name": "PUBDE22X",
         "rawType": "int64",
         "type": "integer"
        },
        {
         "name": "PEGJA22",
         "rawType": "int64",
         "type": "integer"
        },
        {
         "name": "PEGFE22",
         "rawType": "int64",
         "type": "integer"
        },
        {
         "name": "PEGMA22",
         "rawType": "int64",
         "type": "integer"
        },
        {
         "name": "PEGAP22",
         "rawType": "int64",
         "type": "integer"
        },
        {
         "name": "PEGMY22",
         "rawType": "int64",
         "type": "integer"
        },
        {
         "name": "PEGJU22",
         "rawType": "int64",
         "type": "integer"
        },
        {
         "name": "PEGJL22",
         "rawType": "int64",
         "type": "integer"
        },
        {
         "name": "PEGAU22",
         "rawType": "int64",
         "type": "integer"
        },
        {
         "name": "PEGSE22",
         "rawType": "int64",
         "type": "integer"
        },
        {
         "name": "PEGOC22",
         "rawType": "int64",
         "type": "integer"
        },
        {
         "name": "PEGNO22",
         "rawType": "int64",
         "type": "integer"
        },
        {
         "name": "PEGDE22",
         "rawType": "int64",
         "type": "integer"
        },
        {
         "name": "PDKJA22",
         "rawType": "int64",
         "type": "integer"
        },
        {
         "name": "PDKFE22",
         "rawType": "int64",
         "type": "integer"
        },
        {
         "name": "PDKMA22",
         "rawType": "int64",
         "type": "integer"
        },
        {
         "name": "PDKAP22",
         "rawType": "int64",
         "type": "integer"
        },
        {
         "name": "PDKMY22",
         "rawType": "int64",
         "type": "integer"
        },
        {
         "name": "PDKJU22",
         "rawType": "int64",
         "type": "integer"
        },
        {
         "name": "PDKJL22",
         "rawType": "int64",
         "type": "integer"
        },
        {
         "name": "PDKAU22",
         "rawType": "int64",
         "type": "integer"
        },
        {
         "name": "PDKSE22",
         "rawType": "int64",
         "type": "integer"
        },
        {
         "name": "PDKOC22",
         "rawType": "int64",
         "type": "integer"
        },
        {
         "name": "PDKNO22",
         "rawType": "int64",
         "type": "integer"
        },
        {
         "name": "PDKDE22",
         "rawType": "int64",
         "type": "integer"
        },
        {
         "name": "PNGJA22",
         "rawType": "int64",
         "type": "integer"
        },
        {
         "name": "PNGFE22",
         "rawType": "int64",
         "type": "integer"
        },
        {
         "name": "PNGMA22",
         "rawType": "int64",
         "type": "integer"
        },
        {
         "name": "PNGAP22",
         "rawType": "int64",
         "type": "integer"
        },
        {
         "name": "PNGMY22",
         "rawType": "int64",
         "type": "integer"
        },
        {
         "name": "PNGJU22",
         "rawType": "int64",
         "type": "integer"
        },
        {
         "name": "PNGJL22",
         "rawType": "int64",
         "type": "integer"
        },
        {
         "name": "PNGAU22",
         "rawType": "int64",
         "type": "integer"
        },
        {
         "name": "PNGSE22",
         "rawType": "int64",
         "type": "integer"
        },
        {
         "name": "PNGOC22",
         "rawType": "int64",
         "type": "integer"
        },
        {
         "name": "PNGNO22",
         "rawType": "int64",
         "type": "integer"
        },
        {
         "name": "PNGDE22",
         "rawType": "int64",
         "type": "integer"
        },
        {
         "name": "POGJA22",
         "rawType": "int64",
         "type": "integer"
        },
        {
         "name": "POGFE22",
         "rawType": "int64",
         "type": "integer"
        },
        {
         "name": "POGMA22",
         "rawType": "int64",
         "type": "integer"
        },
        {
         "name": "POGAP22",
         "rawType": "int64",
         "type": "integer"
        },
        {
         "name": "POGMY22",
         "rawType": "int64",
         "type": "integer"
        },
        {
         "name": "POGJU22",
         "rawType": "int64",
         "type": "integer"
        },
        {
         "name": "POGJL22",
         "rawType": "int64",
         "type": "integer"
        },
        {
         "name": "POGAU22",
         "rawType": "int64",
         "type": "integer"
        },
        {
         "name": "POGSE22",
         "rawType": "int64",
         "type": "integer"
        },
        {
         "name": "POGOC22",
         "rawType": "int64",
         "type": "integer"
        },
        {
         "name": "POGNO22",
         "rawType": "int64",
         "type": "integer"
        },
        {
         "name": "POGDE22",
         "rawType": "int64",
         "type": "integer"
        },
        {
         "name": "POEJA22",
         "rawType": "int64",
         "type": "integer"
        },
        {
         "name": "POEFE22",
         "rawType": "int64",
         "type": "integer"
        },
        {
         "name": "POEMA22",
         "rawType": "int64",
         "type": "integer"
        },
        {
         "name": "POEAP22",
         "rawType": "int64",
         "type": "integer"
        },
        {
         "name": "POEMY22",
         "rawType": "int64",
         "type": "integer"
        },
        {
         "name": "POEJU22",
         "rawType": "int64",
         "type": "integer"
        },
        {
         "name": "POEJL22",
         "rawType": "int64",
         "type": "integer"
        },
        {
         "name": "POEAU22",
         "rawType": "int64",
         "type": "integer"
        },
        {
         "name": "POESE22",
         "rawType": "int64",
         "type": "integer"
        },
        {
         "name": "POEOC22",
         "rawType": "int64",
         "type": "integer"
        },
        {
         "name": "POENO22",
         "rawType": "int64",
         "type": "integer"
        },
        {
         "name": "POEDE22",
         "rawType": "int64",
         "type": "integer"
        },
        {
         "name": "PNEJA22",
         "rawType": "int64",
         "type": "integer"
        },
        {
         "name": "PNEFE22",
         "rawType": "int64",
         "type": "integer"
        },
        {
         "name": "PNEMA22",
         "rawType": "int64",
         "type": "integer"
        },
        {
         "name": "PNEAP22",
         "rawType": "int64",
         "type": "integer"
        },
        {
         "name": "PNEMY22",
         "rawType": "int64",
         "type": "integer"
        },
        {
         "name": "PNEJU22",
         "rawType": "int64",
         "type": "integer"
        },
        {
         "name": "PNEJL22",
         "rawType": "int64",
         "type": "integer"
        },
        {
         "name": "PNEAU22",
         "rawType": "int64",
         "type": "integer"
        },
        {
         "name": "PNESE22",
         "rawType": "int64",
         "type": "integer"
        },
        {
         "name": "PNEOC22",
         "rawType": "int64",
         "type": "integer"
        },
        {
         "name": "PNENO22",
         "rawType": "int64",
         "type": "integer"
        },
        {
         "name": "PNEDE22",
         "rawType": "int64",
         "type": "integer"
        },
        {
         "name": "PRXJA22",
         "rawType": "int64",
         "type": "integer"
        },
        {
         "name": "PRXFE22",
         "rawType": "int64",
         "type": "integer"
        },
        {
         "name": "PRXMA22",
         "rawType": "int64",
         "type": "integer"
        },
        {
         "name": "PRXAP22",
         "rawType": "int64",
         "type": "integer"
        },
        {
         "name": "PRXMY22",
         "rawType": "int64",
         "type": "integer"
        },
        {
         "name": "PRXJU22",
         "rawType": "int64",
         "type": "integer"
        },
        {
         "name": "PRXJL22",
         "rawType": "int64",
         "type": "integer"
        },
        {
         "name": "PRXAU22",
         "rawType": "int64",
         "type": "integer"
        },
        {
         "name": "PRXSE22",
         "rawType": "int64",
         "type": "integer"
        },
        {
         "name": "PRXOC22",
         "rawType": "int64",
         "type": "integer"
        },
        {
         "name": "PRXNO22",
         "rawType": "int64",
         "type": "integer"
        },
        {
         "name": "PRXDE22",
         "rawType": "int64",
         "type": "integer"
        },
        {
         "name": "PRIJA22",
         "rawType": "int64",
         "type": "integer"
        },
        {
         "name": "PRIFE22",
         "rawType": "int64",
         "type": "integer"
        },
        {
         "name": "PRIMA22",
         "rawType": "int64",
         "type": "integer"
        },
        {
         "name": "PRIAP22",
         "rawType": "int64",
         "type": "integer"
        },
        {
         "name": "PRIMY22",
         "rawType": "int64",
         "type": "integer"
        },
        {
         "name": "PRIJU22",
         "rawType": "int64",
         "type": "integer"
        },
        {
         "name": "PRIJL22",
         "rawType": "int64",
         "type": "integer"
        },
        {
         "name": "PRIAU22",
         "rawType": "int64",
         "type": "integer"
        },
        {
         "name": "PRISE22",
         "rawType": "int64",
         "type": "integer"
        },
        {
         "name": "PRIOC22",
         "rawType": "int64",
         "type": "integer"
        },
        {
         "name": "PRINO22",
         "rawType": "int64",
         "type": "integer"
        },
        {
         "name": "PRIDE22",
         "rawType": "int64",
         "type": "integer"
        },
        {
         "name": "HPEJA22",
         "rawType": "int64",
         "type": "integer"
        },
        {
         "name": "HPEFE22",
         "rawType": "int64",
         "type": "integer"
        },
        {
         "name": "HPEMA22",
         "rawType": "int64",
         "type": "integer"
        },
        {
         "name": "HPEAP22",
         "rawType": "int64",
         "type": "integer"
        },
        {
         "name": "HPEMY22",
         "rawType": "int64",
         "type": "integer"
        },
        {
         "name": "HPEJU22",
         "rawType": "int64",
         "type": "integer"
        },
        {
         "name": "HPEJL22",
         "rawType": "int64",
         "type": "integer"
        },
        {
         "name": "HPEAU22",
         "rawType": "int64",
         "type": "integer"
        },
        {
         "name": "HPESE22",
         "rawType": "int64",
         "type": "integer"
        },
        {
         "name": "HPEOC22",
         "rawType": "int64",
         "type": "integer"
        },
        {
         "name": "HPENO22",
         "rawType": "int64",
         "type": "integer"
        },
        {
         "name": "HPEDE22",
         "rawType": "int64",
         "type": "integer"
        },
        {
         "name": "HPDJA22",
         "rawType": "int64",
         "type": "integer"
        },
        {
         "name": "HPDFE22",
         "rawType": "int64",
         "type": "integer"
        },
        {
         "name": "HPDMA22",
         "rawType": "int64",
         "type": "integer"
        },
        {
         "name": "HPDAP22",
         "rawType": "int64",
         "type": "integer"
        },
        {
         "name": "HPDMY22",
         "rawType": "int64",
         "type": "integer"
        },
        {
         "name": "HPDJU22",
         "rawType": "int64",
         "type": "integer"
        },
        {
         "name": "HPDJL22",
         "rawType": "int64",
         "type": "integer"
        },
        {
         "name": "HPDAU22",
         "rawType": "int64",
         "type": "integer"
        },
        {
         "name": "HPDSE22",
         "rawType": "int64",
         "type": "integer"
        },
        {
         "name": "HPDOC22",
         "rawType": "int64",
         "type": "integer"
        },
        {
         "name": "HPDNO22",
         "rawType": "int64",
         "type": "integer"
        },
        {
         "name": "HPDDE22",
         "rawType": "int64",
         "type": "integer"
        },
        {
         "name": "HPNJA22",
         "rawType": "int64",
         "type": "integer"
        },
        {
         "name": "HPNFE22",
         "rawType": "int64",
         "type": "integer"
        },
        {
         "name": "HPNMA22",
         "rawType": "int64",
         "type": "integer"
        },
        {
         "name": "HPNAP22",
         "rawType": "int64",
         "type": "integer"
        },
        {
         "name": "HPNMY22",
         "rawType": "int64",
         "type": "integer"
        },
        {
         "name": "HPNJU22",
         "rawType": "int64",
         "type": "integer"
        },
        {
         "name": "HPNJL22",
         "rawType": "int64",
         "type": "integer"
        },
        {
         "name": "HPNAU22",
         "rawType": "int64",
         "type": "integer"
        },
        {
         "name": "HPNSE22",
         "rawType": "int64",
         "type": "integer"
        },
        {
         "name": "HPNOC22",
         "rawType": "int64",
         "type": "integer"
        },
        {
         "name": "HPNNO22",
         "rawType": "int64",
         "type": "integer"
        },
        {
         "name": "HPNDE22",
         "rawType": "int64",
         "type": "integer"
        },
        {
         "name": "HPOJA22",
         "rawType": "int64",
         "type": "integer"
        },
        {
         "name": "HPOFE22",
         "rawType": "int64",
         "type": "integer"
        },
        {
         "name": "HPOMA22",
         "rawType": "int64",
         "type": "integer"
        },
        {
         "name": "HPOAP22",
         "rawType": "int64",
         "type": "integer"
        },
        {
         "name": "HPOMY22",
         "rawType": "int64",
         "type": "integer"
        },
        {
         "name": "HPOJU22",
         "rawType": "int64",
         "type": "integer"
        },
        {
         "name": "HPOJL22",
         "rawType": "int64",
         "type": "integer"
        },
        {
         "name": "HPOAU22",
         "rawType": "int64",
         "type": "integer"
        },
        {
         "name": "HPOSE22",
         "rawType": "int64",
         "type": "integer"
        },
        {
         "name": "HPOOC22",
         "rawType": "int64",
         "type": "integer"
        },
        {
         "name": "HPONO22",
         "rawType": "int64",
         "type": "integer"
        },
        {
         "name": "HPODE22",
         "rawType": "int64",
         "type": "integer"
        },
        {
         "name": "HPXJA22",
         "rawType": "int64",
         "type": "integer"
        },
        {
         "name": "HPXFE22",
         "rawType": "int64",
         "type": "integer"
        },
        {
         "name": "HPXMA22",
         "rawType": "int64",
         "type": "integer"
        },
        {
         "name": "HPXAP22",
         "rawType": "int64",
         "type": "integer"
        },
        {
         "name": "HPXMY22",
         "rawType": "int64",
         "type": "integer"
        },
        {
         "name": "HPXJU22",
         "rawType": "int64",
         "type": "integer"
        },
        {
         "name": "HPXJL22",
         "rawType": "int64",
         "type": "integer"
        },
        {
         "name": "HPXAU22",
         "rawType": "int64",
         "type": "integer"
        },
        {
         "name": "HPXSE22",
         "rawType": "int64",
         "type": "integer"
        },
        {
         "name": "HPXOC22",
         "rawType": "int64",
         "type": "integer"
        },
        {
         "name": "HPXNO22",
         "rawType": "int64",
         "type": "integer"
        },
        {
         "name": "HPXDE22",
         "rawType": "int64",
         "type": "integer"
        },
        {
         "name": "HPRJA22",
         "rawType": "int64",
         "type": "integer"
        },
        {
         "name": "HPRFE22",
         "rawType": "int64",
         "type": "integer"
        },
        {
         "name": "HPRMA22",
         "rawType": "int64",
         "type": "integer"
        },
        {
         "name": "HPRAP22",
         "rawType": "int64",
         "type": "integer"
        },
        {
         "name": "HPRMY22",
         "rawType": "int64",
         "type": "integer"
        },
        {
         "name": "HPRJU22",
         "rawType": "int64",
         "type": "integer"
        },
        {
         "name": "HPRJL22",
         "rawType": "int64",
         "type": "integer"
        },
        {
         "name": "HPRAU22",
         "rawType": "int64",
         "type": "integer"
        },
        {
         "name": "HPRSE22",
         "rawType": "int64",
         "type": "integer"
        },
        {
         "name": "HPROC22",
         "rawType": "int64",
         "type": "integer"
        },
        {
         "name": "HPRNO22",
         "rawType": "int64",
         "type": "integer"
        },
        {
         "name": "HPRDE22",
         "rawType": "int64",
         "type": "integer"
        },
        {
         "name": "INSJA22X",
         "rawType": "int64",
         "type": "integer"
        },
        {
         "name": "INSFE22X",
         "rawType": "int64",
         "type": "integer"
        },
        {
         "name": "INSMA22X",
         "rawType": "int64",
         "type": "integer"
        },
        {
         "name": "INSAP22X",
         "rawType": "int64",
         "type": "integer"
        },
        {
         "name": "INSMY22X",
         "rawType": "int64",
         "type": "integer"
        },
        {
         "name": "INSJU22X",
         "rawType": "int64",
         "type": "integer"
        },
        {
         "name": "INSJL22X",
         "rawType": "int64",
         "type": "integer"
        },
        {
         "name": "INSAU22X",
         "rawType": "int64",
         "type": "integer"
        },
        {
         "name": "INSSE22X",
         "rawType": "int64",
         "type": "integer"
        },
        {
         "name": "INSOC22X",
         "rawType": "int64",
         "type": "integer"
        },
        {
         "name": "INSNO22X",
         "rawType": "int64",
         "type": "integer"
        },
        {
         "name": "INSDE22X",
         "rawType": "int64",
         "type": "integer"
        },
        {
         "name": "PRVEV22",
         "rawType": "int64",
         "type": "integer"
        },
        {
         "name": "TRIEV22",
         "rawType": "int64",
         "type": "integer"
        },
        {
         "name": "MCREV22",
         "rawType": "int64",
         "type": "integer"
        },
        {
         "name": "MCDEV22",
         "rawType": "int64",
         "type": "integer"
        },
        {
         "name": "VAEV22",
         "rawType": "int64",
         "type": "integer"
        },
        {
         "name": "GVAEV22",
         "rawType": "int64",
         "type": "integer"
        },
        {
         "name": "GVBEV22",
         "rawType": "int64",
         "type": "integer"
        },
        {
         "name": "GVCEV22",
         "rawType": "int64",
         "type": "integer"
        },
        {
         "name": "UNINS22",
         "rawType": "int64",
         "type": "integer"
        },
        {
         "name": "INSCOV22",
         "rawType": "int64",
         "type": "integer"
        },
        {
         "name": "INSURC22",
         "rawType": "int64",
         "type": "integer"
        },
        {
         "name": "TRICH31X",
         "rawType": "int64",
         "type": "integer"
        },
        {
         "name": "TRICH42X",
         "rawType": "int64",
         "type": "integer"
        },
        {
         "name": "TRICH22X",
         "rawType": "int64",
         "type": "integer"
        },
        {
         "name": "TRI31X",
         "rawType": "int64",
         "type": "integer"
        },
        {
         "name": "TRI42X",
         "rawType": "int64",
         "type": "integer"
        },
        {
         "name": "TRI22X",
         "rawType": "int64",
         "type": "integer"
        },
        {
         "name": "MCRPHD22",
         "rawType": "int64",
         "type": "integer"
        },
        {
         "name": "MCRPD31",
         "rawType": "int64",
         "type": "integer"
        },
        {
         "name": "MCRPD42",
         "rawType": "int64",
         "type": "integer"
        },
        {
         "name": "MCRPD22",
         "rawType": "int64",
         "type": "integer"
        },
        {
         "name": "MCRPD31X",
         "rawType": "int64",
         "type": "integer"
        },
        {
         "name": "MCRPD42X",
         "rawType": "int64",
         "type": "integer"
        },
        {
         "name": "MCRPD22X",
         "rawType": "int64",
         "type": "integer"
        },
        {
         "name": "MCRPHO31",
         "rawType": "int64",
         "type": "integer"
        },
        {
         "name": "MCRPHO42",
         "rawType": "int64",
         "type": "integer"
        },
        {
         "name": "MCRPHO22",
         "rawType": "int64",
         "type": "integer"
        },
        {
         "name": "MCDHMO31",
         "rawType": "int64",
         "type": "integer"
        },
        {
         "name": "MCDHMO42",
         "rawType": "int64",
         "type": "integer"
        },
        {
         "name": "MCDHMO22",
         "rawType": "int64",
         "type": "integer"
        },
        {
         "name": "MCDMC31",
         "rawType": "int64",
         "type": "integer"
        },
        {
         "name": "MCDMC42",
         "rawType": "int64",
         "type": "integer"
        },
        {
         "name": "MCDMC22",
         "rawType": "int64",
         "type": "integer"
        },
        {
         "name": "PRVHMO31",
         "rawType": "int64",
         "type": "integer"
        },
        {
         "name": "PRVHMO42",
         "rawType": "int64",
         "type": "integer"
        },
        {
         "name": "PRVHMO22",
         "rawType": "int64",
         "type": "integer"
        },
        {
         "name": "FSAGT31",
         "rawType": "int64",
         "type": "integer"
        },
        {
         "name": "HASFSA31",
         "rawType": "int64",
         "type": "integer"
        },
        {
         "name": "PFSAMT31",
         "rawType": "int64",
         "type": "integer"
        },
        {
         "name": "PREVCOVR",
         "rawType": "int64",
         "type": "integer"
        },
        {
         "name": "MORECOVR",
         "rawType": "int64",
         "type": "integer"
        },
        {
         "name": "TRICR31X",
         "rawType": "int64",
         "type": "integer"
        },
        {
         "name": "TRICR42X",
         "rawType": "int64",
         "type": "integer"
        },
        {
         "name": "TRICR53X",
         "rawType": "int64",
         "type": "integer"
        },
        {
         "name": "TRICR22X",
         "rawType": "int64",
         "type": "integer"
        },
        {
         "name": "TRIAT31X",
         "rawType": "int64",
         "type": "integer"
        },
        {
         "name": "TRIAT42X",
         "rawType": "int64",
         "type": "integer"
        },
        {
         "name": "TRIAT53X",
         "rawType": "int64",
         "type": "integer"
        },
        {
         "name": "TRIAT22X",
         "rawType": "int64",
         "type": "integer"
        },
        {
         "name": "MCAID31",
         "rawType": "int64",
         "type": "integer"
        },
        {
         "name": "MCAID42",
         "rawType": "int64",
         "type": "integer"
        },
        {
         "name": "MCAID53",
         "rawType": "int64",
         "type": "integer"
        },
        {
         "name": "MCAID22",
         "rawType": "int64",
         "type": "integer"
        },
        {
         "name": "MCAID31X",
         "rawType": "int64",
         "type": "integer"
        },
        {
         "name": "MCAID42X",
         "rawType": "int64",
         "type": "integer"
        },
        {
         "name": "MCAID53X",
         "rawType": "int64",
         "type": "integer"
        },
        {
         "name": "MCAID22X",
         "rawType": "int64",
         "type": "integer"
        },
        {
         "name": "MCARE31",
         "rawType": "int64",
         "type": "integer"
        },
        {
         "name": "MCARE42",
         "rawType": "int64",
         "type": "integer"
        },
        {
         "name": "MCARE53",
         "rawType": "int64",
         "type": "integer"
        },
        {
         "name": "MCARE22",
         "rawType": "int64",
         "type": "integer"
        },
        {
         "name": "MCARE31X",
         "rawType": "int64",
         "type": "integer"
        },
        {
         "name": "MCARE42X",
         "rawType": "int64",
         "type": "integer"
        },
        {
         "name": "MCARE53X",
         "rawType": "int64",
         "type": "integer"
        },
        {
         "name": "MCARE22X",
         "rawType": "int64",
         "type": "integer"
        },
        {
         "name": "MCDAT31X",
         "rawType": "int64",
         "type": "integer"
        },
        {
         "name": "MCDAT42X",
         "rawType": "int64",
         "type": "integer"
        },
        {
         "name": "MCDAT53X",
         "rawType": "int64",
         "type": "integer"
        },
        {
         "name": "MCDAT22X",
         "rawType": "int64",
         "type": "integer"
        },
        {
         "name": "GOVTA31",
         "rawType": "int64",
         "type": "integer"
        },
        {
         "name": "GOVTA42",
         "rawType": "int64",
         "type": "integer"
        },
        {
         "name": "GOVTA53",
         "rawType": "int64",
         "type": "integer"
        },
        {
         "name": "GOVTA22",
         "rawType": "int64",
         "type": "integer"
        },
        {
         "name": "GOVAAT31",
         "rawType": "int64",
         "type": "integer"
        },
        {
         "name": "GOVAAT42",
         "rawType": "int64",
         "type": "integer"
        },
        {
         "name": "GOVAAT53",
         "rawType": "int64",
         "type": "integer"
        },
        {
         "name": "GOVAAT22",
         "rawType": "int64",
         "type": "integer"
        },
        {
         "name": "GOVTB31",
         "rawType": "int64",
         "type": "integer"
        },
        {
         "name": "GOVTB42",
         "rawType": "int64",
         "type": "integer"
        },
        {
         "name": "GOVTB53",
         "rawType": "int64",
         "type": "integer"
        },
        {
         "name": "GOVTB22",
         "rawType": "int64",
         "type": "integer"
        },
        {
         "name": "GOVBAT31",
         "rawType": "int64",
         "type": "integer"
        },
        {
         "name": "GOVBAT42",
         "rawType": "int64",
         "type": "integer"
        },
        {
         "name": "GOVBAT53",
         "rawType": "int64",
         "type": "integer"
        },
        {
         "name": "GOVBAT22",
         "rawType": "int64",
         "type": "integer"
        },
        {
         "name": "GOVTC31",
         "rawType": "int64",
         "type": "integer"
        },
        {
         "name": "GOVTC42",
         "rawType": "int64",
         "type": "integer"
        },
        {
         "name": "GOVTC53",
         "rawType": "int64",
         "type": "integer"
        },
        {
         "name": "GOVTC22",
         "rawType": "int64",
         "type": "integer"
        },
        {
         "name": "GOVCAT31",
         "rawType": "int64",
         "type": "integer"
        },
        {
         "name": "GOVCAT42",
         "rawType": "int64",
         "type": "integer"
        },
        {
         "name": "GOVCAT53",
         "rawType": "int64",
         "type": "integer"
        },
        {
         "name": "GOVCAT22",
         "rawType": "int64",
         "type": "integer"
        },
        {
         "name": "VAPROG31",
         "rawType": "int64",
         "type": "integer"
        },
        {
         "name": "VAPROG42",
         "rawType": "int64",
         "type": "integer"
        },
        {
         "name": "VAPROG53",
         "rawType": "int64",
         "type": "integer"
        },
        {
         "name": "VAPROG22",
         "rawType": "int64",
         "type": "integer"
        },
        {
         "name": "VAPRAT31",
         "rawType": "int64",
         "type": "integer"
        },
        {
         "name": "VAPRAT42",
         "rawType": "int64",
         "type": "integer"
        },
        {
         "name": "VAPRAT53",
         "rawType": "int64",
         "type": "integer"
        },
        {
         "name": "VAPRAT22",
         "rawType": "int64",
         "type": "integer"
        },
        {
         "name": "IHS31",
         "rawType": "int64",
         "type": "integer"
        },
        {
         "name": "IHS42",
         "rawType": "int64",
         "type": "integer"
        },
        {
         "name": "IHS53",
         "rawType": "int64",
         "type": "integer"
        },
        {
         "name": "IHS22",
         "rawType": "int64",
         "type": "integer"
        },
        {
         "name": "IHSAT31",
         "rawType": "int64",
         "type": "integer"
        },
        {
         "name": "IHSAT42",
         "rawType": "int64",
         "type": "integer"
        },
        {
         "name": "IHSAT53",
         "rawType": "int64",
         "type": "integer"
        },
        {
         "name": "IHSAT22",
         "rawType": "int64",
         "type": "integer"
        },
        {
         "name": "PRIDK31",
         "rawType": "int64",
         "type": "integer"
        },
        {
         "name": "PRIDK42",
         "rawType": "int64",
         "type": "integer"
        },
        {
         "name": "PRIDK53",
         "rawType": "int64",
         "type": "integer"
        },
        {
         "name": "PRIDK22",
         "rawType": "int64",
         "type": "integer"
        },
        {
         "name": "PRIEU31",
         "rawType": "int64",
         "type": "integer"
        },
        {
         "name": "PRIEU42",
         "rawType": "int64",
         "type": "integer"
        },
        {
         "name": "PRIEU53",
         "rawType": "int64",
         "type": "integer"
        },
        {
         "name": "PRIEU22",
         "rawType": "int64",
         "type": "integer"
        },
        {
         "name": "PRING31",
         "rawType": "int64",
         "type": "integer"
        },
        {
         "name": "PRING42",
         "rawType": "int64",
         "type": "integer"
        },
        {
         "name": "PRING53",
         "rawType": "int64",
         "type": "integer"
        },
        {
         "name": "PRING22",
         "rawType": "int64",
         "type": "integer"
        },
        {
         "name": "PRIOG31",
         "rawType": "int64",
         "type": "integer"
        },
        {
         "name": "PRIOG42",
         "rawType": "int64",
         "type": "integer"
        },
        {
         "name": "PRIOG53",
         "rawType": "int64",
         "type": "integer"
        },
        {
         "name": "PRIOG22",
         "rawType": "int64",
         "type": "integer"
        },
        {
         "name": "PRINEO31",
         "rawType": "int64",
         "type": "integer"
        },
        {
         "name": "PRINEO42",
         "rawType": "int64",
         "type": "integer"
        },
        {
         "name": "PRINEO53",
         "rawType": "int64",
         "type": "integer"
        },
        {
         "name": "PRINEO22",
         "rawType": "int64",
         "type": "integer"
        },
        {
         "name": "PRIEUO31",
         "rawType": "int64",
         "type": "integer"
        },
        {
         "name": "PRIEUO42",
         "rawType": "int64",
         "type": "integer"
        },
        {
         "name": "PRIEUO53",
         "rawType": "int64",
         "type": "integer"
        },
        {
         "name": "PRIEUO22",
         "rawType": "int64",
         "type": "integer"
        },
        {
         "name": "PRSTX31",
         "rawType": "int64",
         "type": "integer"
        },
        {
         "name": "PRSTX42",
         "rawType": "int64",
         "type": "integer"
        },
        {
         "name": "PRSTX53",
         "rawType": "int64",
         "type": "integer"
        },
        {
         "name": "PRSTX22",
         "rawType": "int64",
         "type": "integer"
        },
        {
         "name": "PRIV31",
         "rawType": "int64",
         "type": "integer"
        },
        {
         "name": "PRIV42",
         "rawType": "int64",
         "type": "integer"
        },
        {
         "name": "PRIV53",
         "rawType": "int64",
         "type": "integer"
        },
        {
         "name": "PRIV22",
         "rawType": "int64",
         "type": "integer"
        },
        {
         "name": "PRIVAT31",
         "rawType": "int64",
         "type": "integer"
        },
        {
         "name": "PRIVAT42",
         "rawType": "int64",
         "type": "integer"
        },
        {
         "name": "PRIVAT53",
         "rawType": "int64",
         "type": "integer"
        },
        {
         "name": "PRIVAT22",
         "rawType": "int64",
         "type": "integer"
        },
        {
         "name": "PUB31X",
         "rawType": "int64",
         "type": "integer"
        },
        {
         "name": "PUB42X",
         "rawType": "int64",
         "type": "integer"
        },
        {
         "name": "PUB53X",
         "rawType": "int64",
         "type": "integer"
        },
        {
         "name": "PUB22X",
         "rawType": "int64",
         "type": "integer"
        },
        {
         "name": "PUBAT31X",
         "rawType": "int64",
         "type": "integer"
        },
        {
         "name": "PUBAT42X",
         "rawType": "int64",
         "type": "integer"
        },
        {
         "name": "PUBAT53X",
         "rawType": "int64",
         "type": "integer"
        },
        {
         "name": "PUBAT22X",
         "rawType": "int64",
         "type": "integer"
        },
        {
         "name": "VERFLG31",
         "rawType": "int64",
         "type": "integer"
        },
        {
         "name": "VERFLG42",
         "rawType": "int64",
         "type": "integer"
        },
        {
         "name": "VERFLG22",
         "rawType": "int64",
         "type": "integer"
        },
        {
         "name": "INS31X",
         "rawType": "int64",
         "type": "integer"
        },
        {
         "name": "INS42X",
         "rawType": "int64",
         "type": "integer"
        },
        {
         "name": "INS53X",
         "rawType": "int64",
         "type": "integer"
        },
        {
         "name": "INS22X",
         "rawType": "int64",
         "type": "integer"
        },
        {
         "name": "INSAT31X",
         "rawType": "int64",
         "type": "integer"
        },
        {
         "name": "INSAT42X",
         "rawType": "int64",
         "type": "integer"
        },
        {
         "name": "INSAT53X",
         "rawType": "int64",
         "type": "integer"
        },
        {
         "name": "INSAT22X",
         "rawType": "int64",
         "type": "integer"
        },
        {
         "name": "DENTIN31",
         "rawType": "int64",
         "type": "integer"
        },
        {
         "name": "DENTIN42",
         "rawType": "int64",
         "type": "integer"
        },
        {
         "name": "DENTIN53_M23",
         "rawType": "int64",
         "type": "integer"
        },
        {
         "name": "DNTINS31",
         "rawType": "int64",
         "type": "integer"
        },
        {
         "name": "DNTINS22_M23",
         "rawType": "int64",
         "type": "integer"
        },
        {
         "name": "PMEDIN31",
         "rawType": "int64",
         "type": "integer"
        },
        {
         "name": "PMEDIN42",
         "rawType": "int64",
         "type": "integer"
        },
        {
         "name": "PMEDIN53",
         "rawType": "int64",
         "type": "integer"
        },
        {
         "name": "PMDINS31",
         "rawType": "int64",
         "type": "integer"
        },
        {
         "name": "PMDINS22",
         "rawType": "int64",
         "type": "integer"
        },
        {
         "name": "PROBPY42",
         "rawType": "int64",
         "type": "integer"
        },
        {
         "name": "CRFMPY42",
         "rawType": "int64",
         "type": "integer"
        },
        {
         "name": "PYUNBL42",
         "rawType": "int64",
         "type": "integer"
        },
        {
         "name": "PMEDUP31",
         "rawType": "int64",
         "type": "integer"
        },
        {
         "name": "PMEDUP42",
         "rawType": "int64",
         "type": "integer"
        },
        {
         "name": "PMEDUP53",
         "rawType": "int64",
         "type": "integer"
        },
        {
         "name": "PMEDPY31",
         "rawType": "int64",
         "type": "integer"
        },
        {
         "name": "PMEDPY42",
         "rawType": "int64",
         "type": "integer"
        },
        {
         "name": "PMEDPY53",
         "rawType": "int64",
         "type": "integer"
        },
        {
         "name": "TOTTCH22",
         "rawType": "int64",
         "type": "integer"
        },
        {
         "name": "TOTEXP22",
         "rawType": "int64",
         "type": "integer"
        },
        {
         "name": "TOTSLF22",
         "rawType": "int64",
         "type": "integer"
        },
        {
         "name": "TOTMCR22",
         "rawType": "int64",
         "type": "integer"
        },
        {
         "name": "TOTMCD22",
         "rawType": "int64",
         "type": "integer"
        },
        {
         "name": "TOTPRV22",
         "rawType": "int64",
         "type": "integer"
        },
        {
         "name": "TOTVA22",
         "rawType": "int64",
         "type": "integer"
        },
        {
         "name": "TOTTRI22",
         "rawType": "int64",
         "type": "integer"
        },
        {
         "name": "TOTOFD22",
         "rawType": "int64",
         "type": "integer"
        },
        {
         "name": "TOTSTL22",
         "rawType": "int64",
         "type": "integer"
        },
        {
         "name": "TOTWCP22",
         "rawType": "int64",
         "type": "integer"
        },
        {
         "name": "TOTOSR22",
         "rawType": "int64",
         "type": "integer"
        },
        {
         "name": "TOTPTR22",
         "rawType": "int64",
         "type": "integer"
        },
        {
         "name": "TOTOTH22",
         "rawType": "int64",
         "type": "integer"
        },
        {
         "name": "OBTOTV22",
         "rawType": "int64",
         "type": "integer"
        },
        {
         "name": "OBVTCH22",
         "rawType": "int64",
         "type": "integer"
        },
        {
         "name": "OBVEXP22",
         "rawType": "int64",
         "type": "integer"
        },
        {
         "name": "OBVSLF22",
         "rawType": "int64",
         "type": "integer"
        },
        {
         "name": "OBVMCR22",
         "rawType": "int64",
         "type": "integer"
        },
        {
         "name": "OBVMCD22",
         "rawType": "int64",
         "type": "integer"
        },
        {
         "name": "OBVPRV22",
         "rawType": "int64",
         "type": "integer"
        },
        {
         "name": "OBVVA22",
         "rawType": "int64",
         "type": "integer"
        },
        {
         "name": "OBVTRI22",
         "rawType": "int64",
         "type": "integer"
        },
        {
         "name": "OBVOFD22",
         "rawType": "int64",
         "type": "integer"
        },
        {
         "name": "OBVSTL22",
         "rawType": "int64",
         "type": "integer"
        },
        {
         "name": "OBVWCP22",
         "rawType": "int64",
         "type": "integer"
        },
        {
         "name": "OBVOSR22",
         "rawType": "int64",
         "type": "integer"
        },
        {
         "name": "OBVPTR22",
         "rawType": "int64",
         "type": "integer"
        },
        {
         "name": "OBVOTH22",
         "rawType": "int64",
         "type": "integer"
        },
        {
         "name": "OBDRV22",
         "rawType": "int64",
         "type": "integer"
        },
        {
         "name": "OBDTCH22",
         "rawType": "int64",
         "type": "integer"
        },
        {
         "name": "OBDEXP22",
         "rawType": "int64",
         "type": "integer"
        },
        {
         "name": "OBDSLF22",
         "rawType": "int64",
         "type": "integer"
        },
        {
         "name": "OBDMCR22",
         "rawType": "int64",
         "type": "integer"
        },
        {
         "name": "OBDMCD22",
         "rawType": "int64",
         "type": "integer"
        },
        {
         "name": "OBDPRV22",
         "rawType": "int64",
         "type": "integer"
        },
        {
         "name": "OBDVA22",
         "rawType": "int64",
         "type": "integer"
        },
        {
         "name": "OBDTRI22",
         "rawType": "int64",
         "type": "integer"
        },
        {
         "name": "OBDOFD22",
         "rawType": "int64",
         "type": "integer"
        },
        {
         "name": "OBDSTL22",
         "rawType": "int64",
         "type": "integer"
        },
        {
         "name": "OBDWCP22",
         "rawType": "int64",
         "type": "integer"
        },
        {
         "name": "OBDOSR22",
         "rawType": "int64",
         "type": "integer"
        },
        {
         "name": "OBDPTR22",
         "rawType": "int64",
         "type": "integer"
        },
        {
         "name": "OBDOTH22",
         "rawType": "int64",
         "type": "integer"
        },
        {
         "name": "OPTOTV22",
         "rawType": "int64",
         "type": "integer"
        },
        {
         "name": "OPTTCH22",
         "rawType": "int64",
         "type": "integer"
        },
        {
         "name": "OPTEXP22",
         "rawType": "int64",
         "type": "integer"
        },
        {
         "name": "OPTSLF22",
         "rawType": "int64",
         "type": "integer"
        },
        {
         "name": "OPTMCR22",
         "rawType": "int64",
         "type": "integer"
        },
        {
         "name": "OPTMCD22",
         "rawType": "int64",
         "type": "integer"
        },
        {
         "name": "OPTPRV22",
         "rawType": "int64",
         "type": "integer"
        },
        {
         "name": "OPTVA22",
         "rawType": "int64",
         "type": "integer"
        },
        {
         "name": "OPTTRI22",
         "rawType": "int64",
         "type": "integer"
        },
        {
         "name": "OPTOFD22",
         "rawType": "int64",
         "type": "integer"
        },
        {
         "name": "OPTSTL22",
         "rawType": "int64",
         "type": "integer"
        },
        {
         "name": "OPTWCP22",
         "rawType": "int64",
         "type": "integer"
        },
        {
         "name": "OPTOSR22",
         "rawType": "int64",
         "type": "integer"
        },
        {
         "name": "OPTPTR22",
         "rawType": "int64",
         "type": "integer"
        },
        {
         "name": "OPTOTH22",
         "rawType": "int64",
         "type": "integer"
        },
        {
         "name": "OPFTCH22",
         "rawType": "int64",
         "type": "integer"
        },
        {
         "name": "OPFEXP22",
         "rawType": "int64",
         "type": "integer"
        },
        {
         "name": "OPFSLF22",
         "rawType": "int64",
         "type": "integer"
        },
        {
         "name": "OPFMCR22",
         "rawType": "int64",
         "type": "integer"
        },
        {
         "name": "OPFMCD22",
         "rawType": "int64",
         "type": "integer"
        },
        {
         "name": "OPFPRV22",
         "rawType": "int64",
         "type": "integer"
        },
        {
         "name": "OPFVA22",
         "rawType": "int64",
         "type": "integer"
        },
        {
         "name": "OPFTRI22",
         "rawType": "int64",
         "type": "integer"
        },
        {
         "name": "OPFOFD22",
         "rawType": "int64",
         "type": "integer"
        },
        {
         "name": "OPFSTL22",
         "rawType": "int64",
         "type": "integer"
        },
        {
         "name": "OPFWCP22",
         "rawType": "int64",
         "type": "integer"
        },
        {
         "name": "OPFOSR22",
         "rawType": "int64",
         "type": "integer"
        },
        {
         "name": "OPFPTR22",
         "rawType": "int64",
         "type": "integer"
        },
        {
         "name": "OPFOTH22",
         "rawType": "int64",
         "type": "integer"
        },
        {
         "name": "OPDEXP22",
         "rawType": "int64",
         "type": "integer"
        },
        {
         "name": "OPDTCH22",
         "rawType": "int64",
         "type": "integer"
        },
        {
         "name": "OPDSLF22",
         "rawType": "int64",
         "type": "integer"
        },
        {
         "name": "OPDMCR22",
         "rawType": "int64",
         "type": "integer"
        },
        {
         "name": "OPDMCD22",
         "rawType": "int64",
         "type": "integer"
        },
        {
         "name": "OPDPRV22",
         "rawType": "int64",
         "type": "integer"
        },
        {
         "name": "OPDVA22",
         "rawType": "int64",
         "type": "integer"
        },
        {
         "name": "OPDTRI22",
         "rawType": "int64",
         "type": "integer"
        },
        {
         "name": "OPDOFD22",
         "rawType": "int64",
         "type": "integer"
        },
        {
         "name": "OPDSTL22",
         "rawType": "int64",
         "type": "integer"
        },
        {
         "name": "OPDWCP22",
         "rawType": "int64",
         "type": "integer"
        },
        {
         "name": "OPDOSR22",
         "rawType": "int64",
         "type": "integer"
        },
        {
         "name": "OPDPTR22",
         "rawType": "int64",
         "type": "integer"
        },
        {
         "name": "OPDOTH22",
         "rawType": "int64",
         "type": "integer"
        },
        {
         "name": "OPDRV22",
         "rawType": "int64",
         "type": "integer"
        },
        {
         "name": "OPVTCH22",
         "rawType": "int64",
         "type": "integer"
        },
        {
         "name": "OPVEXP22",
         "rawType": "int64",
         "type": "integer"
        },
        {
         "name": "OPVSLF22",
         "rawType": "int64",
         "type": "integer"
        },
        {
         "name": "OPVMCR22",
         "rawType": "int64",
         "type": "integer"
        },
        {
         "name": "OPVMCD22",
         "rawType": "int64",
         "type": "integer"
        },
        {
         "name": "OPVPRV22",
         "rawType": "int64",
         "type": "integer"
        },
        {
         "name": "OPVVA22",
         "rawType": "int64",
         "type": "integer"
        },
        {
         "name": "OPVTRI22",
         "rawType": "int64",
         "type": "integer"
        },
        {
         "name": "OPVOFD22",
         "rawType": "int64",
         "type": "integer"
        },
        {
         "name": "OPVSTL22",
         "rawType": "int64",
         "type": "integer"
        },
        {
         "name": "OPVWCP22",
         "rawType": "int64",
         "type": "integer"
        },
        {
         "name": "OPVOSR22",
         "rawType": "int64",
         "type": "integer"
        },
        {
         "name": "OPVPTR22",
         "rawType": "int64",
         "type": "integer"
        },
        {
         "name": "OPVOTH22",
         "rawType": "int64",
         "type": "integer"
        },
        {
         "name": "OPSEXP22",
         "rawType": "int64",
         "type": "integer"
        },
        {
         "name": "OPSTCH22",
         "rawType": "int64",
         "type": "integer"
        },
        {
         "name": "OPSSLF22",
         "rawType": "int64",
         "type": "integer"
        },
        {
         "name": "OPSMCR22",
         "rawType": "int64",
         "type": "integer"
        },
        {
         "name": "OPSMCD22",
         "rawType": "int64",
         "type": "integer"
        },
        {
         "name": "OPSPRV22",
         "rawType": "int64",
         "type": "integer"
        },
        {
         "name": "OPSVA22",
         "rawType": "int64",
         "type": "integer"
        },
        {
         "name": "OPSTRI22",
         "rawType": "int64",
         "type": "integer"
        },
        {
         "name": "OPSOFD22",
         "rawType": "int64",
         "type": "integer"
        },
        {
         "name": "OPSSTL22",
         "rawType": "int64",
         "type": "integer"
        },
        {
         "name": "OPSWCP22",
         "rawType": "int64",
         "type": "integer"
        },
        {
         "name": "OPSOSR22",
         "rawType": "int64",
         "type": "integer"
        },
        {
         "name": "OPSPTR22",
         "rawType": "int64",
         "type": "integer"
        },
        {
         "name": "OPSOTH22",
         "rawType": "int64",
         "type": "integer"
        },
        {
         "name": "ERTOT22",
         "rawType": "int64",
         "type": "integer"
        },
        {
         "name": "ERTTCH22",
         "rawType": "int64",
         "type": "integer"
        },
        {
         "name": "ERTEXP22",
         "rawType": "int64",
         "type": "integer"
        },
        {
         "name": "ERTSLF22",
         "rawType": "int64",
         "type": "integer"
        },
        {
         "name": "ERTMCR22",
         "rawType": "int64",
         "type": "integer"
        },
        {
         "name": "ERTMCD22",
         "rawType": "int64",
         "type": "integer"
        },
        {
         "name": "ERTPRV22",
         "rawType": "int64",
         "type": "integer"
        },
        {
         "name": "ERTVA22",
         "rawType": "int64",
         "type": "integer"
        },
        {
         "name": "ERTTRI22",
         "rawType": "int64",
         "type": "integer"
        },
        {
         "name": "ERTOFD22",
         "rawType": "int64",
         "type": "integer"
        },
        {
         "name": "ERTSTL22",
         "rawType": "int64",
         "type": "integer"
        },
        {
         "name": "ERTWCP22",
         "rawType": "int64",
         "type": "integer"
        },
        {
         "name": "ERTOSR22",
         "rawType": "int64",
         "type": "integer"
        },
        {
         "name": "ERTPTR22",
         "rawType": "int64",
         "type": "integer"
        },
        {
         "name": "ERTOTH22",
         "rawType": "int64",
         "type": "integer"
        },
        {
         "name": "ERFTCH22",
         "rawType": "int64",
         "type": "integer"
        },
        {
         "name": "ERFEXP22",
         "rawType": "int64",
         "type": "integer"
        },
        {
         "name": "ERFSLF22",
         "rawType": "int64",
         "type": "integer"
        },
        {
         "name": "ERFMCR22",
         "rawType": "int64",
         "type": "integer"
        },
        {
         "name": "ERFMCD22",
         "rawType": "int64",
         "type": "integer"
        },
        {
         "name": "ERFPRV22",
         "rawType": "int64",
         "type": "integer"
        },
        {
         "name": "ERFVA22",
         "rawType": "int64",
         "type": "integer"
        },
        {
         "name": "ERFTRI22",
         "rawType": "int64",
         "type": "integer"
        },
        {
         "name": "ERFOFD22",
         "rawType": "int64",
         "type": "integer"
        },
        {
         "name": "ERFSTL22",
         "rawType": "int64",
         "type": "integer"
        },
        {
         "name": "ERFWCP22",
         "rawType": "int64",
         "type": "integer"
        },
        {
         "name": "ERFOSR22",
         "rawType": "int64",
         "type": "integer"
        },
        {
         "name": "ERFPTR22",
         "rawType": "int64",
         "type": "integer"
        },
        {
         "name": "ERFOTH22",
         "rawType": "int64",
         "type": "integer"
        },
        {
         "name": "ERDEXP22",
         "rawType": "int64",
         "type": "integer"
        },
        {
         "name": "ERDTCH22",
         "rawType": "int64",
         "type": "integer"
        },
        {
         "name": "ERDSLF22",
         "rawType": "int64",
         "type": "integer"
        },
        {
         "name": "ERDMCR22",
         "rawType": "int64",
         "type": "integer"
        },
        {
         "name": "ERDMCD22",
         "rawType": "int64",
         "type": "integer"
        },
        {
         "name": "ERDPRV22",
         "rawType": "int64",
         "type": "integer"
        },
        {
         "name": "ERDVA22",
         "rawType": "int64",
         "type": "integer"
        },
        {
         "name": "ERDTRI22",
         "rawType": "int64",
         "type": "integer"
        },
        {
         "name": "ERDOFD22",
         "rawType": "int64",
         "type": "integer"
        },
        {
         "name": "ERDSTL22",
         "rawType": "int64",
         "type": "integer"
        },
        {
         "name": "ERDWCP22",
         "rawType": "int64",
         "type": "integer"
        },
        {
         "name": "ERDOSR22",
         "rawType": "int64",
         "type": "integer"
        },
        {
         "name": "ERDPTR22",
         "rawType": "int64",
         "type": "integer"
        },
        {
         "name": "ERDOTH22",
         "rawType": "int64",
         "type": "integer"
        },
        {
         "name": "IPDIS22",
         "rawType": "int64",
         "type": "integer"
        },
        {
         "name": "IPTEXP22",
         "rawType": "int64",
         "type": "integer"
        },
        {
         "name": "IPTTCH22",
         "rawType": "int64",
         "type": "integer"
        },
        {
         "name": "IPTSLF22",
         "rawType": "int64",
         "type": "integer"
        },
        {
         "name": "IPTMCR22",
         "rawType": "int64",
         "type": "integer"
        },
        {
         "name": "IPTMCD22",
         "rawType": "int64",
         "type": "integer"
        },
        {
         "name": "IPTPRV22",
         "rawType": "int64",
         "type": "integer"
        },
        {
         "name": "IPTVA22",
         "rawType": "int64",
         "type": "integer"
        },
        {
         "name": "IPTTRI22",
         "rawType": "int64",
         "type": "integer"
        },
        {
         "name": "IPTOFD22",
         "rawType": "int64",
         "type": "integer"
        },
        {
         "name": "IPTSTL22",
         "rawType": "int64",
         "type": "integer"
        },
        {
         "name": "IPTWCP22",
         "rawType": "int64",
         "type": "integer"
        },
        {
         "name": "IPTOSR22",
         "rawType": "int64",
         "type": "integer"
        },
        {
         "name": "IPTPTR22",
         "rawType": "int64",
         "type": "integer"
        },
        {
         "name": "IPTOTH22",
         "rawType": "int64",
         "type": "integer"
        },
        {
         "name": "IPFEXP22",
         "rawType": "int64",
         "type": "integer"
        },
        {
         "name": "IPFTCH22",
         "rawType": "int64",
         "type": "integer"
        },
        {
         "name": "IPFSLF22",
         "rawType": "int64",
         "type": "integer"
        },
        {
         "name": "IPFMCR22",
         "rawType": "int64",
         "type": "integer"
        },
        {
         "name": "IPFMCD22",
         "rawType": "int64",
         "type": "integer"
        },
        {
         "name": "IPFPRV22",
         "rawType": "int64",
         "type": "integer"
        },
        {
         "name": "IPFVA22",
         "rawType": "int64",
         "type": "integer"
        },
        {
         "name": "IPFTRI22",
         "rawType": "int64",
         "type": "integer"
        },
        {
         "name": "IPFOFD22",
         "rawType": "int64",
         "type": "integer"
        },
        {
         "name": "IPFSTL22",
         "rawType": "int64",
         "type": "integer"
        },
        {
         "name": "IPFWCP22",
         "rawType": "int64",
         "type": "integer"
        },
        {
         "name": "IPFOSR22",
         "rawType": "int64",
         "type": "integer"
        },
        {
         "name": "IPFPTR22",
         "rawType": "int64",
         "type": "integer"
        },
        {
         "name": "IPFOTH22",
         "rawType": "int64",
         "type": "integer"
        },
        {
         "name": "IPDEXP22",
         "rawType": "int64",
         "type": "integer"
        },
        {
         "name": "IPDTCH22",
         "rawType": "int64",
         "type": "integer"
        },
        {
         "name": "IPDSLF22",
         "rawType": "int64",
         "type": "integer"
        },
        {
         "name": "IPDMCR22",
         "rawType": "int64",
         "type": "integer"
        },
        {
         "name": "IPDMCD22",
         "rawType": "int64",
         "type": "integer"
        },
        {
         "name": "IPDPRV22",
         "rawType": "int64",
         "type": "integer"
        },
        {
         "name": "IPDVA22",
         "rawType": "int64",
         "type": "integer"
        },
        {
         "name": "IPDTRI22",
         "rawType": "int64",
         "type": "integer"
        },
        {
         "name": "IPDOFD22",
         "rawType": "int64",
         "type": "integer"
        },
        {
         "name": "IPDSTL22",
         "rawType": "int64",
         "type": "integer"
        },
        {
         "name": "IPDWCP22",
         "rawType": "int64",
         "type": "integer"
        },
        {
         "name": "IPDOSR22",
         "rawType": "int64",
         "type": "integer"
        },
        {
         "name": "IPDPTR22",
         "rawType": "int64",
         "type": "integer"
        },
        {
         "name": "IPDOTH22",
         "rawType": "int64",
         "type": "integer"
        },
        {
         "name": "IPNGTD22",
         "rawType": "int64",
         "type": "integer"
        },
        {
         "name": "DVTOT22",
         "rawType": "int64",
         "type": "integer"
        },
        {
         "name": "DVTTCH22",
         "rawType": "int64",
         "type": "integer"
        },
        {
         "name": "DVTEXP22",
         "rawType": "int64",
         "type": "integer"
        },
        {
         "name": "DVTSLF22",
         "rawType": "int64",
         "type": "integer"
        },
        {
         "name": "DVTMCR22",
         "rawType": "int64",
         "type": "integer"
        },
        {
         "name": "DVTMCD22",
         "rawType": "int64",
         "type": "integer"
        },
        {
         "name": "DVTPRV22",
         "rawType": "int64",
         "type": "integer"
        },
        {
         "name": "DVTVA22",
         "rawType": "int64",
         "type": "integer"
        },
        {
         "name": "DVTTRI22",
         "rawType": "int64",
         "type": "integer"
        },
        {
         "name": "DVTOFD22",
         "rawType": "int64",
         "type": "integer"
        },
        {
         "name": "DVTSTL22",
         "rawType": "int64",
         "type": "integer"
        },
        {
         "name": "DVTWCP22",
         "rawType": "int64",
         "type": "integer"
        },
        {
         "name": "DVTOSR22",
         "rawType": "int64",
         "type": "integer"
        },
        {
         "name": "DVTPTR22",
         "rawType": "int64",
         "type": "integer"
        },
        {
         "name": "DVTOTH22",
         "rawType": "int64",
         "type": "integer"
        },
        {
         "name": "HHTOTD22",
         "rawType": "int64",
         "type": "integer"
        },
        {
         "name": "HHAGD22",
         "rawType": "int64",
         "type": "integer"
        },
        {
         "name": "HHATCH22",
         "rawType": "int64",
         "type": "integer"
        },
        {
         "name": "HHAEXP22",
         "rawType": "int64",
         "type": "integer"
        },
        {
         "name": "HHASLF22",
         "rawType": "int64",
         "type": "integer"
        },
        {
         "name": "HHAMCR22",
         "rawType": "int64",
         "type": "integer"
        },
        {
         "name": "HHAMCD22",
         "rawType": "int64",
         "type": "integer"
        },
        {
         "name": "HHAPRV22",
         "rawType": "int64",
         "type": "integer"
        },
        {
         "name": "HHAVA22",
         "rawType": "int64",
         "type": "integer"
        },
        {
         "name": "HHATRI22",
         "rawType": "int64",
         "type": "integer"
        },
        {
         "name": "HHAOFD22",
         "rawType": "int64",
         "type": "integer"
        },
        {
         "name": "HHASTL22",
         "rawType": "int64",
         "type": "integer"
        },
        {
         "name": "HHAWCP22",
         "rawType": "int64",
         "type": "integer"
        },
        {
         "name": "HHAOSR22",
         "rawType": "int64",
         "type": "integer"
        },
        {
         "name": "HHAPTR22",
         "rawType": "int64",
         "type": "integer"
        },
        {
         "name": "HHAOTH22",
         "rawType": "int64",
         "type": "integer"
        },
        {
         "name": "HHINDD22",
         "rawType": "int64",
         "type": "integer"
        },
        {
         "name": "HHNTCH22",
         "rawType": "int64",
         "type": "integer"
        },
        {
         "name": "HHNEXP22",
         "rawType": "int64",
         "type": "integer"
        },
        {
         "name": "HHNSLF22",
         "rawType": "int64",
         "type": "integer"
        },
        {
         "name": "HHNMCD22",
         "rawType": "int64",
         "type": "integer"
        },
        {
         "name": "HHNMCR22",
         "rawType": "int64",
         "type": "integer"
        },
        {
         "name": "HHNPRV22",
         "rawType": "int64",
         "type": "integer"
        },
        {
         "name": "HHNVA22",
         "rawType": "int64",
         "type": "integer"
        },
        {
         "name": "HHNTRI22",
         "rawType": "int64",
         "type": "integer"
        },
        {
         "name": "HHNOFD22",
         "rawType": "int64",
         "type": "integer"
        },
        {
         "name": "HHNSTL22",
         "rawType": "int64",
         "type": "integer"
        },
        {
         "name": "HHNWCP22",
         "rawType": "int64",
         "type": "integer"
        },
        {
         "name": "HHNOSR22",
         "rawType": "int64",
         "type": "integer"
        },
        {
         "name": "HHNPTR22",
         "rawType": "int64",
         "type": "integer"
        },
        {
         "name": "HHNOTH22",
         "rawType": "int64",
         "type": "integer"
        },
        {
         "name": "HHINFD22",
         "rawType": "int64",
         "type": "integer"
        },
        {
         "name": "VISEXP22",
         "rawType": "int64",
         "type": "integer"
        },
        {
         "name": "VISTCH22",
         "rawType": "int64",
         "type": "integer"
        },
        {
         "name": "VISSLF22",
         "rawType": "int64",
         "type": "integer"
        },
        {
         "name": "VISMCR22",
         "rawType": "int64",
         "type": "integer"
        },
        {
         "name": "VISMCD22",
         "rawType": "int64",
         "type": "integer"
        },
        {
         "name": "VISPRV22",
         "rawType": "int64",
         "type": "integer"
        },
        {
         "name": "VISVA22",
         "rawType": "int64",
         "type": "integer"
        },
        {
         "name": "VISTRI22",
         "rawType": "int64",
         "type": "integer"
        },
        {
         "name": "VISOFD22",
         "rawType": "int64",
         "type": "integer"
        },
        {
         "name": "VISSTL22",
         "rawType": "int64",
         "type": "integer"
        },
        {
         "name": "VISWCP22",
         "rawType": "int64",
         "type": "integer"
        },
        {
         "name": "VISOSR22",
         "rawType": "int64",
         "type": "integer"
        },
        {
         "name": "VISPTR22",
         "rawType": "int64",
         "type": "integer"
        },
        {
         "name": "VISOTH22",
         "rawType": "int64",
         "type": "integer"
        },
        {
         "name": "OTHTCH22",
         "rawType": "int64",
         "type": "integer"
        },
        {
         "name": "OTHEXP22",
         "rawType": "int64",
         "type": "integer"
        },
        {
         "name": "OTHSLF22",
         "rawType": "int64",
         "type": "integer"
        },
        {
         "name": "OTHMCR22",
         "rawType": "int64",
         "type": "integer"
        },
        {
         "name": "OTHMCD22",
         "rawType": "int64",
         "type": "integer"
        },
        {
         "name": "OTHPRV22",
         "rawType": "int64",
         "type": "integer"
        },
        {
         "name": "OTHVA22",
         "rawType": "int64",
         "type": "integer"
        },
        {
         "name": "OTHTRI22",
         "rawType": "int64",
         "type": "integer"
        },
        {
         "name": "OTHOFD22",
         "rawType": "int64",
         "type": "integer"
        },
        {
         "name": "OTHSTL22",
         "rawType": "int64",
         "type": "integer"
        },
        {
         "name": "OTHWCP22",
         "rawType": "int64",
         "type": "integer"
        },
        {
         "name": "OTHOSR22",
         "rawType": "int64",
         "type": "integer"
        },
        {
         "name": "OTHPTR22",
         "rawType": "int64",
         "type": "integer"
        },
        {
         "name": "OTHOTH22",
         "rawType": "int64",
         "type": "integer"
        },
        {
         "name": "RXTOT22",
         "rawType": "int64",
         "type": "integer"
        },
        {
         "name": "RXEXP22",
         "rawType": "int64",
         "type": "integer"
        },
        {
         "name": "RXSLF22",
         "rawType": "int64",
         "type": "integer"
        },
        {
         "name": "RXMCR22",
         "rawType": "int64",
         "type": "integer"
        },
        {
         "name": "RXMCD22",
         "rawType": "int64",
         "type": "integer"
        },
        {
         "name": "RXPRV22",
         "rawType": "int64",
         "type": "integer"
        },
        {
         "name": "RXVA22",
         "rawType": "int64",
         "type": "integer"
        },
        {
         "name": "RXTRI22",
         "rawType": "int64",
         "type": "integer"
        },
        {
         "name": "RXOFD22",
         "rawType": "int64",
         "type": "integer"
        },
        {
         "name": "RXSTL22",
         "rawType": "int64",
         "type": "integer"
        },
        {
         "name": "RXWCP22",
         "rawType": "int64",
         "type": "integer"
        },
        {
         "name": "RXOSR22",
         "rawType": "int64",
         "type": "integer"
        },
        {
         "name": "RXPTR22",
         "rawType": "int64",
         "type": "integer"
        },
        {
         "name": "RXOTH22",
         "rawType": "int64",
         "type": "integer"
        },
        {
         "name": "PERWT22F",
         "rawType": "float64",
         "type": "float"
        },
        {
         "name": "FAMWT22F",
         "rawType": "float64",
         "type": "float"
        },
        {
         "name": "FAMWT22C",
         "rawType": "float64",
         "type": "float"
        },
        {
         "name": "SAQWT22F",
         "rawType": "float64",
         "type": "float"
        },
        {
         "name": "DIABW22F",
         "rawType": "float64",
         "type": "float"
        },
        {
         "name": "VARSTR",
         "rawType": "int64",
         "type": "integer"
        },
        {
         "name": "VARPSU",
         "rawType": "int64",
         "type": "integer"
        }
       ],
       "conversionMethod": "pd.DataFrame",
       "ref": "3d2d3f7f-8dd9-4c90-8270-e66caf36923d",
       "rows": [
        [
         "0",
         "2460002",
         "101",
         "2460002101",
         "24",
         "2022",
         "A",
         "A",
         "A",
         "A",
         "A",
         "A",
         "1",
         "1",
         "A",
         "A",
         "A",
         "A",
         "1",
         "1",
         "1",
         "1",
         "1",
         "1",
         "1",
         "1",
         "1",
         "1",
         "1",
         "1",
         "1",
         "1",
         "1",
         "1",
         "2",
         "2",
         "2",
         "2",
         "101",
         "101",
         "101",
         "101",
         "1",
         "1",
         "1",
         "1",
         "1",
         "1",
         "1",
         "1",
         "1",
         "2",
         "2",
         "2",
         "10",
         "2021",
         "2",
         "2022",
         "2",
         "2022",
         "7",
         "2022",
         "7",
         "2022",
         "12",
         "2022",
         "12",
         "2022",
         "1",
         "1",
         "1",
         "1",
         "1",
         "1",
         "1",
         "1",
         "1",
         "1",
         "1",
         "11",
         "11",
         "11",
         "60",
         "60",
         "60",
         "76",
         "77",
         "77",
         "77",
         "77",
         "6",
         "1945",
         "2",
         "2",
         "2",
         "3",
         "1",
         "3",
         "3",
         "2",
         "9",
         "2",
         "2",
         "2",
         "2",
         "995",
         "995",
         "995",
         "995",
         "2",
         "2",
         "2",
         "2",
         "6",
         "1",
         "-1",
         "-1",
         "-1",
         "-1",
         "4",
         "4",
         "4",
         "1",
         "1",
         "1",
         "1",
         "2",
         "-1",
         "-1",
         "1",
         "-1",
         "-1",
         "-1",
         "-1",
         "-1",
         "-1",
         "-1",
         "1",
         "25",
         "1",
         "2",
         "-1",
         "2",
         "-1",
         "2",
         "-1",
         "2",
         "-1",
         "-1",
         "1",
         "68",
         "2",
         "-1",
         "2",
         "1",
         "25",
         "1",
         "2",
         "2",
         "2",
         "2",
         "1",
         "1",
         "2",
         "2",
         "-1",
         "2",
         "2",
         "1",
         "1",
         "50",
         "-1",
         "1",
         "3",
         "30",
         "2",
         "-1",
         "-1",
         "-1",
         "-1",
         "-1",
         "-1",
         "-1",
         "-1",
         "-1",
         "-1",
         "-1",
         "-1",
         "-1",
         "2",
         "-1",
         "-1",
         "-1",
         "-1",
         "-1",
         "-1",
         "3",
         "2",
         "3",
         "3",
         "3",
         "3",
         "1",
         "2",
         "1",
         "2",
         "-1",
         "-1",
         "-1",
         "-1",
         "-1",
         "-1",
         "-1",
         "-1",
         "2",
         "-1",
         "-1",
         "-1",
         "-1",
         "2",
         "1",
         "2",
         "2",
         "2",
         "2",
         "2",
         "2",
         "1",
         "-1",
         "-1",
         "-1",
         "-1",
         "-1",
         "-1",
         "-1",
         "-1",
         "-1",
         "-1",
         "-1",
         "-1",
         "-1",
         "-1",
         "-1",
         "-1",
         "-1",
         "-1",
         "-1",
         "-1.0",
         "-1",
         "-1",
         "-1",
         "-1",
         "-1",
         "-1",
         "-1",
         "-1",
         "-1",
         "-1",
         "-1",
         "-1",
         "-1",
         "-1",
         "-1",
         "-1",
         "1",
         "2",
         "3",
         "2",
         "2",
         "2",
         "-1",
         "-1",
         "2",
         "1",
         "-15",
         "2",
         "4",
         "4",
         "1",
         "1",
         "3",
         "4",
         "2",
         "2",
         "4",
         "4",
         "4",
         "2",
         "3",
         "2",
         "3",
         "1",
         "2",
         "2",
         "2",
         "2",
         "2",
         "2",
         "12",
         "1",
         "1",
         "2",
         "6",
         "0",
         "0",
         "1",
         "-1",
         "-1",
         "-1",
         "1",
         "2",
         "2",
         "2",
         "3",
         "2",
         "2",
         "2",
         "2",
         "2",
         "1",
         "2",
         "1",
         "2",
         "2",
         "2",
         "1",
         "1",
         "2",
         "1",
         "1",
         "1",
         "1",
         "1",
         "3",
         "-15",
         "2",
         "1",
         "1",
         "-1",
         "-1",
         "-1",
         "-1",
         "-1",
         "1",
         "-1",
         "-1",
         "2",
         "2",
         "2",
         "2",
         "25.91",
         "38.83",
         "0",
         "8",
         "2022",
         "1",
         "35.7",
         "1",
         "1",
         "3",
         "2",
         "1",
         "2",
         "2",
         "2",
         "2",
         "2",
         "1",
         "2",
         "2",
         "2",
         "1",
         "2",
         "2",
         "2",
         "2",
         "2",
         "2",
         "2",
         "1",
         "2",
         "1",
         "1",
         "1",
         "2",
         "1",
         "2",
         "2",
         "2",
         "2",
         "4",
         "2",
         "-1",
         "-1",
         "-1",
         "1",
         "1",
         "-8",
         "-1",
         "2",
         "-1",
         "1",
         "9",
         "1",
         "2",
         "1",
         "2",
         "2",
         "2",
         "2",
         "2",
         "2",
         "3",
         "2",
         "4",
         "2",
         "1",
         "1",
         "-1",
         "2",
         "2",
         "1",
         "1",
         "2",
         "2",
         "4",
         "4",
         "4",
         "-1",
         "-1",
         "-1",
         "-1",
         "1",
         "-1.0",
         "-1.0",
         "-1.0",
         "0",
         "0",
         "0",
         "-1",
         "-1",
         "-1",
         "-1",
         "-1",
         "-1",
         "-1.0",
         "-1.0",
         "-1.0",
         "-1",
         "-1",
         "-1",
         "-1",
         "-1",
         "-1",
         "-1",
         "-1",
         "-1",
         "-1",
         "-1",
         "-1",
         "-1",
         "-1",
         "-1",
         "-1",
         "-1",
         "-1",
         "-1",
         "-1",
         "-1",
         "-1",
         "-1",
         "-1",
         "-1",
         "-1",
         "-1",
         "-1",
         "-1",
         "-1",
         "2",
         "3",
         "3",
         "-1",
         "-1",
         "-1",
         "-1",
         "-1",
         "-1",
         "-1",
         "-1",
         "-1",
         "-1",
         "1",
         "-1",
         "-1",
         "-1",
         "-1",
         "-1",
         "-1",
         "-1",
         "-1",
         "-1",
         "-1",
         "-1",
         "-1",
         "-1",
         "-1",
         "-1",
         "-1",
         "-1",
         "-1",
         "-1",
         "-1",
         "-1",
         "-1",
         "-1",
         "-1",
         "-1",
         "-1",
         "-1",
         "-1",
         "-1",
         "-1",
         "34",
         "34",
         "34",
         "-1",
         "-1",
         "-1",
         "-1",
         "-1",
         "-1",
         "-1",
         "-1",
         "-1",
         "-1",
         "-1",
         "-1",
         "-1",
         "-1",
         "-1",
         "-1",
         "-1",
         "-1",
         "-1",
         "-1",
         "-1",
         "-1",
         "-1",
         "-1",
         "-1",
         "-1",
         "-1",
         "-1.0",
         "-1.0",
         "-1.0",
         "-1",
         "-1",
         "-1",
         "-1",
         "-1",
         "-1",
         "-1",
         "-1",
         "-1",
         "-1",
         "-1",
         "-1",
         "-1",
         "-1",
         "-1",
         "-1",
         "-1",
         "-1",
         "-1",
         "-1",
         "-1",
         "2",
         "1",
         "1",
         "1",
         "-1",
         "-1",
         "1",
         "1",
         "12",
         "28",
         "22000",
         "22000",
         "3",
         "156.74",
         "0",
         "1",
         "0",
         "1",
         "0",
         "1",
         "0",
         "1",
         "0",
         "1",
         "0",
         "1",
         "0",
         "1",
         "0",
         "1",
         "22000",
         "2",
         "0",
         "1",
         "0",
         "1",
         "0",
         "1",
         "0",
         "1",
         "0",
         "1",
         "0",
         "1",
         "0",
         "1",
         "0",
         "1",
         "0",
         "1",
         "2460002A1",
         "2",
         "2",
         "2",
         "2",
         "2",
         "2",
         "2",
         "2",
         "2",
         "2",
         "2",
         "2",
         "1",
         "1",
         "1",
         "1",
         "1",
         "1",
         "1",
         "1",
         "1",
         "1",
         "1",
         "1",
         "1",
         "1",
         "1",
         "1",
         "1",
         "1",
         "1",
         "1",
         "1",
         "1",
         "1",
         "1",
         "1",
         "1",
         "2",
         "2",
         "2",
         "2",
         "1",
         "1",
         "1",
         "1",
         "1",
         "1",
         "1",
         "1",
         "2",
         "2",
         "2",
         "2",
         "1",
         "1",
         "1",
         "1",
         "1",
         "1",
         "2",
         "2",
         "2",
         "2",
         "2",
         "2",
         "2",
         "2",
         "2",
         "2",
         "2",
         "2",
         "2",
         "2",
         "2",
         "2",
         "2",
         "2",
         "2",
         "2",
         "2",
         "2",
         "2",
         "2",
         "2",
         "2",
         "2",
         "2",
         "2",
         "2",
         "2",
         "2",
         "2",
         "2",
         "2",
         "2",
         "2",
         "2",
         "2",
         "2",
         "2",
         "2",
         "2",
         "2",
         "2",
         "2",
         "2",
         "2",
         "2",
         "2",
         "2",
         "2",
         "2",
         "2",
         "2",
         "2",
         "2",
         "2",
         "2",
         "2",
         "1",
         "1",
         "1",
         "1",
         "1",
         "1",
         "1",
         "1",
         "1",
         "1",
         "1",
         "1",
         "2",
         "2",
         "2",
         "2",
         "2",
         "2",
         "2",
         "2",
         "2",
         "2",
         "2",
         "2",
         "2",
         "2",
         "2",
         "2",
         "2",
         "2",
         "2",
         "2",
         "2",
         "2",
         "2",
         "2",
         "2",
         "2",
         "2",
         "2",
         "2",
         "2",
         "2",
         "2",
         "2",
         "2",
         "2",
         "2",
         "2",
         "2",
         "2",
         "2",
         "2",
         "2",
         "2",
         "2",
         "2",
         "2",
         "2",
         "2",
         "2",
         "2",
         "2",
         "2",
         "2",
         "2",
         "2",
         "2",
         "2",
         "2",
         "2",
         "2",
         "2",
         "2",
         "2",
         "2",
         "2",
         "2",
         "2",
         "2",
         "2",
         "2",
         "2",
         "2",
         "2",
         "2",
         "2",
         "2",
         "2",
         "2",
         "2",
         "2",
         "2",
         "2",
         "2",
         "2",
         "2",
         "2",
         "2",
         "2",
         "2",
         "2",
         "2",
         "2",
         "2",
         "2",
         "2",
         "2",
         "2",
         "2",
         "2",
         "2",
         "2",
         "2",
         "2",
         "2",
         "2",
         "2",
         "2",
         "2",
         "2",
         "2",
         "2",
         "2",
         "2",
         "2",
         "2",
         "2",
         "2",
         "2",
         "2",
         "2",
         "2",
         "2",
         "2",
         "2",
         "2",
         "2",
         "2",
         "2",
         "2",
         "2",
         "2",
         "2",
         "2",
         "2",
         "2",
         "2",
         "2",
         "2",
         "2",
         "2",
         "2",
         "2",
         "2",
         "2",
         "2",
         "2",
         "2",
         "2",
         "2",
         "2",
         "2",
         "2",
         "2",
         "2",
         "2",
         "2",
         "2",
         "2",
         "2",
         "2",
         "2",
         "2",
         "2",
         "2",
         "2",
         "2",
         "2",
         "2",
         "1",
         "1",
         "1",
         "1",
         "1",
         "1",
         "1",
         "1",
         "1",
         "1",
         "1",
         "1",
         "2",
         "2",
         "1",
         "1",
         "2",
         "2",
         "2",
         "2",
         "2",
         "2",
         "6",
         "3",
         "3",
         "3",
         "3",
         "3",
         "3",
         "3",
         "1",
         "1",
         "2",
         "1",
         "1",
         "1",
         "1",
         "2",
         "2",
         "2",
         "3",
         "2",
         "1",
         "3",
         "2",
         "3",
         "3",
         "3",
         "2",
         "-1",
         "-1",
         "-1",
         "-1",
         "2",
         "2",
         "2",
         "2",
         "2",
         "2",
         "2",
         "2",
         "1",
         "2",
         "1",
         "1",
         "1",
         "2",
         "1",
         "1",
         "1",
         "1",
         "1",
         "1",
         "1",
         "1",
         "1",
         "1",
         "1",
         "2",
         "1",
         "1",
         "2",
         "2",
         "2",
         "2",
         "2",
         "2",
         "2",
         "2",
         "2",
         "2",
         "2",
         "2",
         "2",
         "2",
         "2",
         "2",
         "2",
         "2",
         "2",
         "2",
         "2",
         "2",
         "2",
         "2",
         "2",
         "2",
         "2",
         "2",
         "2",
         "2",
         "2",
         "2",
         "2",
         "2",
         "2",
         "2",
         "2",
         "2",
         "2",
         "2",
         "2",
         "2",
         "2",
         "2",
         "2",
         "2",
         "2",
         "2",
         "2",
         "2",
         "2",
         "2",
         "2",
         "2",
         "2",
         "2",
         "2",
         "2",
         "2",
         "2",
         "2",
         "2",
         "2",
         "2",
         "2",
         "2",
         "2",
         "2",
         "2",
         "2",
         "2",
         "2",
         "2",
         "2",
         "2",
         "2",
         "1",
         "1",
         "1",
         "1",
         "1",
         "1",
         "1",
         "1",
         "95",
         "95",
         "95",
         "1",
         "1",
         "1",
         "1",
         "1",
         "1",
         "1",
         "1",
         "2",
         "2",
         "2",
         "2",
         "2",
         "2",
         "2",
         "2",
         "2",
         "2",
         "2",
         "2",
         "-1",
         "1",
         "1",
         "1",
         "1",
         "2",
         "3",
         "19126",
         "15766",
         "109",
         "2119",
         "13538",
         "0",
         "0",
         "0",
         "0",
         "0",
         "0",
         "0",
         "0",
         "0",
         "2",
         "586",
         "236",
         "0",
         "3",
         "233",
         "0",
         "0",
         "0",
         "0",
         "0",
         "0",
         "0",
         "0",
         "0",
         "1",
         "248",
         "3",
         "0",
         "3",
         "0",
         "0",
         "0",
         "0",
         "0",
         "0",
         "0",
         "0",
         "0",
         "0",
         "1",
         "5344",
         "732",
         "0",
         "684",
         "48",
         "0",
         "0",
         "0",
         "0",
         "0",
         "0",
         "0",
         "0",
         "0",
         "2409",
         "400",
         "0",
         "400",
         "0",
         "0",
         "0",
         "0",
         "0",
         "0",
         "0",
         "0",
         "0",
         "0",
         "332",
         "2935",
         "0",
         "284",
         "48",
         "0",
         "0",
         "0",
         "0",
         "0",
         "0",
         "0",
         "0",
         "0",
         "1",
         "2409",
         "400",
         "0",
         "400",
         "0",
         "0",
         "0",
         "0",
         "0",
         "0",
         "0",
         "0",
         "0",
         "0",
         "332",
         "2935",
         "0",
         "284",
         "48",
         "0",
         "0",
         "0",
         "0",
         "0",
         "0",
         "0",
         "0",
         "0",
         "0",
         "0",
         "0",
         "0",
         "0",
         "0",
         "0",
         "0",
         "0",
         "0",
         "0",
         "0",
         "0",
         "0",
         "0",
         "0",
         "0",
         "0",
         "0",
         "0",
         "0",
         "0",
         "0",
         "0",
         "0",
         "0",
         "0",
         "0",
         "0",
         "0",
         "0",
         "0",
         "0",
         "0",
         "0",
         "0",
         "0",
         "0",
         "0",
         "0",
         "0",
         "0",
         "0",
         "0",
         "0",
         "0",
         "0",
         "0",
         "0",
         "0",
         "0",
         "0",
         "0",
         "0",
         "0",
         "0",
         "0",
         "0",
         "0",
         "0",
         "0",
         "0",
         "0",
         "0",
         "0",
         "0",
         "0",
         "0",
         "0",
         "0",
         "0",
         "0",
         "0",
         "0",
         "0",
         "0",
         "0",
         "0",
         "0",
         "0",
         "0",
         "0",
         "0",
         "0",
         "0",
         "0",
         "0",
         "0",
         "0",
         "0",
         "0",
         "0",
         "0",
         "0",
         "0",
         "0",
         "0",
         "0",
         "0",
         "0",
         "0",
         "0",
         "336",
         "336",
         "13196",
         "13196",
         "0",
         "0",
         "13196",
         "0",
         "0",
         "0",
         "0",
         "0",
         "0",
         "0",
         "0",
         "0",
         "0",
         "0",
         "0",
         "0",
         "0",
         "0",
         "0",
         "0",
         "0",
         "0",
         "0",
         "0",
         "0",
         "0",
         "0",
         "0",
         "0",
         "0",
         "0",
         "0",
         "0",
         "0",
         "0",
         "0",
         "0",
         "0",
         "0",
         "0",
         "0",
         "0",
         "0",
         "0",
         "0",
         "0",
         "0",
         "0",
         "0",
         "0",
         "0",
         "0",
         "0",
         "0",
         "0",
         "0",
         "40",
         "1602",
         "109",
         "1432",
         "61",
         "0",
         "0",
         "0",
         "0",
         "0",
         "0",
         "0",
         "0",
         "0",
         "5728.309495",
         "5232.211986",
         "5232.211986",
         "3994.68714",
         "6034.636755",
         "2082",
         "1"
        ],
        [
         "1",
         "2460006",
         "101",
         "2460006101",
         "24",
         "2022",
         "A",
         "A",
         "A",
         "A",
         "A",
         "A",
         "1",
         "1",
         "A",
         "A",
         "A",
         "A",
         "2",
         "2",
         "2",
         "2",
         "1",
         "1",
         "1",
         "1",
         "2",
         "2",
         "2",
         "2",
         "1",
         "2",
         "2",
         "1",
         "2",
         "2",
         "2",
         "2",
         "101",
         "101",
         "101",
         "101",
         "1",
         "1",
         "1",
         "1",
         "1",
         "1",
         "1",
         "1",
         "1",
         "2",
         "2",
         "2",
         "9",
         "2021",
         "1",
         "2022",
         "1",
         "2022",
         "9",
         "2022",
         "9",
         "2022",
         "12",
         "2022",
         "12",
         "2022",
         "1",
         "1",
         "1",
         "1",
         "1",
         "1",
         "1",
         "1",
         "1",
         "1",
         "1",
         "11",
         "11",
         "11",
         "60",
         "60",
         "60",
         "63",
         "63",
         "64",
         "64",
         "64",
         "10",
         "1958",
         "2",
         "1",
         "1",
         "3",
         "3",
         "1",
         "2",
         "2",
         "9",
         "1",
         "1",
         "9",
         "3",
         "102",
         "102",
         "995",
         "995",
         "1",
         "1",
         "2",
         "2",
         "14",
         "7",
         "-1",
         "-1",
         "-1",
         "-1",
         "4",
         "4",
         "4",
         "1",
         "1",
         "1",
         "1",
         "1",
         "2",
         "1",
         "2",
         "5",
         "-1",
         "-1",
         "-1",
         "-1",
         "-1",
         "-1",
         "1",
         "39",
         "1",
         "2",
         "-1",
         "2",
         "-1",
         "1",
         "56",
         "1",
         "20",
         "1",
         "2",
         "-1",
         "2",
         "-1",
         "2",
         "2",
         "-1",
         "1",
         "2",
         "2",
         "2",
         "2",
         "2",
         "2",
         "2",
         "1",
         "-1",
         "2",
         "2",
         "2",
         "2",
         "-1",
         "-1",
         "1",
         "2",
         "30",
         "2",
         "-1",
         "-1",
         "-1",
         "-1",
         "-1",
         "-1",
         "-1",
         "-1",
         "-1",
         "-1",
         "-1",
         "-1",
         "-1",
         "2",
         "-1",
         "-1",
         "-1",
         "-1",
         "-1",
         "-1",
         "3",
         "5",
         "5",
         "3",
         "3",
         "1",
         "2",
         "2",
         "1",
         "1",
         "3",
         "-8",
         "3",
         "4",
         "2",
         "3",
         "4",
         "3",
         "1",
         "1",
         "1",
         "1",
         "1",
         "1",
         "2",
         "2",
         "2",
         "2",
         "1",
         "1",
         "1",
         "1",
         "-1",
         "-1",
         "-1",
         "-1",
         "-1",
         "-1",
         "-1",
         "-1",
         "-1",
         "-1",
         "-1",
         "-1",
         "-1",
         "-1",
         "-1",
         "-1",
         "-1",
         "-1",
         "-1",
         "-1.0",
         "-1",
         "-1",
         "-1",
         "-1",
         "-1",
         "-1",
         "-1",
         "-1",
         "-1",
         "-1",
         "-1",
         "-1",
         "-1",
         "-1",
         "-1",
         "-1",
         "2",
         "1",
         "3",
         "1",
         "1",
         "1",
         "2",
         "1",
         "2",
         "2",
         "-1",
         "-1",
         "-1",
         "-1",
         "-1",
         "-1",
         "-1",
         "-1",
         "-1",
         "-1",
         "-1",
         "-1",
         "-1",
         "-1",
         "-1",
         "-1",
         "-1",
         "-1",
         "-1",
         "-1",
         "-1",
         "-1",
         "-1",
         "-1",
         "-1",
         "-1",
         "-1",
         "-1",
         "-1",
         "-1",
         "-1",
         "-1",
         "-1",
         "-1",
         "-1",
         "-1",
         "-1",
         "-1",
         "-1",
         "-1",
         "-1",
         "-1",
         "-1",
         "-1",
         "-1",
         "-1",
         "-1",
         "-1",
         "-1",
         "-1",
         "-1",
         "-1",
         "-1",
         "-1",
         "-1",
         "-1",
         "-1",
         "-1",
         "-1",
         "-1",
         "-1",
         "-1",
         "-1",
         "-1",
         "-1",
         "-1",
         "-1",
         "-1",
         "-1",
         "-1",
         "-1",
         "-1",
         "-1",
         "-1",
         "-1",
         "-1",
         "-1.0",
         "-1.0",
         "-1",
         "-1",
         "-1",
         "-1",
         "-1.0",
         "0",
         "-1",
         "-1",
         "-1",
         "-1",
         "-1",
         "-1",
         "-1",
         "-1",
         "-1",
         "-1",
         "-1",
         "-1",
         "-1",
         "-1",
         "-1",
         "-1",
         "-1",
         "-1",
         "-1",
         "-1",
         "-1",
         "-1",
         "-1",
         "-1",
         "-1",
         "-1",
         "-1",
         "-1",
         "-1",
         "-1",
         "-1",
         "-1",
         "-1",
         "-1",
         "-1",
         "-1",
         "-1",
         "1",
         "1",
         "1",
         "-1",
         "3",
         "-8",
         "1",
         "2",
         "-8",
         "2",
         "1",
         "2",
         "2",
         "2",
         "2",
         "2",
         "1",
         "1",
         "2",
         "-8",
         "2",
         "1",
         "2",
         "-1",
         "2",
         "2",
         "1",
         "2",
         "2",
         "2",
         "4",
         "4",
         "4",
         "-1",
         "-1",
         "-1",
         "-1",
         "1",
         "-1.0",
         "-1.0",
         "-1.0",
         "0",
         "0",
         "0",
         "-1",
         "-1",
         "-1",
         "-1",
         "-1",
         "-1",
         "-1.0",
         "-1.0",
         "-1.0",
         "-1",
         "-1",
         "-1",
         "-1",
         "-1",
         "-1",
         "-1",
         "-1",
         "-1",
         "-1",
         "-1",
         "-1",
         "-1",
         "-1",
         "-1",
         "-1",
         "-1",
         "-1",
         "-1",
         "-1",
         "-1",
         "-1",
         "-1",
         "-1",
         "-1",
         "-1",
         "-1",
         "-1",
         "-1",
         "-1",
         "3",
         "3",
         "3",
         "-1",
         "-1",
         "-1",
         "-1",
         "-1",
         "-1",
         "-1",
         "-1",
         "-1",
         "-1",
         "2",
         "-1",
         "-1",
         "-1",
         "-1",
         "-1",
         "-1",
         "-1",
         "-1",
         "-1",
         "-1",
         "-1",
         "-1",
         "-1",
         "-1",
         "-1",
         "-1",
         "-1",
         "-1",
         "-1",
         "-1",
         "-1",
         "-1",
         "-1",
         "-1",
         "-1",
         "-1",
         "-1",
         "-1",
         "-1",
         "-1",
         "34",
         "34",
         "34",
         "-1",
         "-1",
         "-1",
         "-1",
         "-1",
         "-1",
         "-1",
         "-1",
         "-1",
         "-1",
         "-1",
         "-1",
         "-1",
         "-1",
         "-1",
         "-1",
         "-1",
         "-1",
         "-1",
         "-1",
         "-1",
         "-1",
         "-1",
         "-1",
         "-1",
         "-1",
         "-1",
         "-1.0",
         "-1.0",
         "-1.0",
         "-1",
         "-1",
         "-1",
         "-1",
         "-1",
         "-1",
         "-1",
         "-1",
         "-1",
         "-1",
         "-1",
         "-1",
         "-1",
         "-1",
         "-1",
         "-1",
         "-1",
         "-1",
         "-1",
         "-1",
         "-1",
         "2",
         "1",
         "1",
         "1",
         "-1",
         "-1",
         "1",
         "1",
         "12",
         "25",
         "5000",
         "5000",
         "1",
         "32.84",
         "0",
         "1",
         "-4000",
         "2",
         "0",
         "1",
         "0",
         "1",
         "0",
         "1",
         "0",
         "1",
         "0",
         "1",
         "0",
         "1",
         "9000",
         "1",
         "0",
         "1",
         "0",
         "1",
         "0",
         "1",
         "0",
         "1",
         "0",
         "1",
         "0",
         "1",
         "0",
         "1",
         "0",
         "1",
         "0",
         "1",
         "2460006A1",
         "2",
         "2",
         "2",
         "2",
         "2",
         "2",
         "2",
         "2",
         "2",
         "2",
         "2",
         "2",
         "1",
         "1",
         "1",
         "1",
         "1",
         "1",
         "1",
         "1",
         "1",
         "1",
         "1",
         "1",
         "1",
         "1",
         "1",
         "1",
         "1",
         "1",
         "1",
         "1",
         "1",
         "1",
         "1",
         "1",
         "1",
         "1",
         "1",
         "1",
         "1",
         "1",
         "1",
         "1",
         "1",
         "1",
         "1",
         "1",
         "1",
         "1",
         "1",
         "1",
         "1",
         "1",
         "1",
         "1",
         "1",
         "1",
         "1",
         "1",
         "2",
         "2",
         "2",
         "2",
         "2",
         "2",
         "2",
         "2",
         "1",
         "1",
         "1",
         "1",
         "2",
         "2",
         "2",
         "2",
         "2",
         "2",
         "2",
         "2",
         "2",
         "2",
         "2",
         "2",
         "2",
         "2",
         "2",
         "2",
         "2",
         "2",
         "2",
         "2",
         "2",
         "2",
         "2",
         "2",
         "2",
         "2",
         "2",
         "2",
         "2",
         "2",
         "2",
         "2",
         "2",
         "2",
         "2",
         "2",
         "2",
         "2",
         "2",
         "2",
         "2",
         "2",
         "2",
         "2",
         "2",
         "2",
         "2",
         "2",
         "1",
         "1",
         "1",
         "1",
         "1",
         "1",
         "1",
         "1",
         "1",
         "1",
         "1",
         "1",
         "2",
         "2",
         "2",
         "2",
         "2",
         "2",
         "2",
         "2",
         "2",
         "2",
         "2",
         "2",
         "2",
         "2",
         "2",
         "2",
         "2",
         "2",
         "2",
         "2",
         "2",
         "2",
         "2",
         "2",
         "2",
         "2",
         "2",
         "2",
         "2",
         "2",
         "2",
         "2",
         "2",
         "2",
         "2",
         "2",
         "2",
         "2",
         "2",
         "2",
         "2",
         "2",
         "2",
         "2",
         "2",
         "2",
         "2",
         "2",
         "2",
         "2",
         "2",
         "2",
         "2",
         "2",
         "2",
         "2",
         "2",
         "2",
         "2",
         "2",
         "2",
         "2",
         "2",
         "2",
         "2",
         "2",
         "2",
         "2",
         "2",
         "2",
         "2",
         "2",
         "2",
         "2",
         "2",
         "2",
         "2",
         "2",
         "2",
         "2",
         "2",
         "2",
         "2",
         "2",
         "2",
         "2",
         "2",
         "2",
         "2",
         "2",
         "2",
         "2",
         "2",
         "2",
         "2",
         "2",
         "2",
         "2",
         "2",
         "2",
         "2",
         "2",
         "2",
         "2",
         "2",
         "2",
         "2",
         "2",
         "2",
         "2",
         "2",
         "2",
         "2",
         "2",
         "2",
         "2",
         "2",
         "2",
         "2",
         "2",
         "2",
         "2",
         "2",
         "2",
         "2",
         "2",
         "2",
         "2",
         "2",
         "2",
         "2",
         "2",
         "2",
         "2",
         "2",
         "2",
         "2",
         "2",
         "2",
         "2",
         "2",
         "2",
         "2",
         "2",
         "2",
         "2",
         "2",
         "2",
         "2",
         "2",
         "2",
         "2",
         "2",
         "2",
         "2",
         "2",
         "2",
         "2",
         "2",
         "2",
         "2",
         "2",
         "2",
         "2",
         "2",
         "2",
         "2",
         "2",
         "1",
         "1",
         "1",
         "1",
         "1",
         "1",
         "1",
         "1",
         "1",
         "1",
         "1",
         "1",
         "2",
         "2",
         "1",
         "1",
         "2",
         "1",
         "2",
         "2",
         "2",
         "2",
         "2",
         "3",
         "3",
         "3",
         "3",
         "3",
         "3",
         "-15",
         "2",
         "1",
         "-15",
         "1",
         "1",
         "1",
         "2",
         "2",
         "-15",
         "2",
         "2",
         "2",
         "2",
         "2",
         "2",
         "3",
         "3",
         "3",
         "2",
         "-1",
         "-1",
         "-1",
         "-1",
         "2",
         "2",
         "2",
         "2",
         "2",
         "2",
         "2",
         "2",
         "1",
         "1",
         "1",
         "1",
         "1",
         "1",
         "1",
         "1",
         "1",
         "1",
         "1",
         "1",
         "1",
         "1",
         "1",
         "1",
         "1",
         "1",
         "1",
         "1",
         "2",
         "2",
         "1",
         "1",
         "2",
         "2",
         "1",
         "1",
         "2",
         "2",
         "2",
         "2",
         "2",
         "2",
         "2",
         "2",
         "2",
         "2",
         "2",
         "2",
         "2",
         "2",
         "2",
         "2",
         "2",
         "2",
         "2",
         "2",
         "2",
         "2",
         "2",
         "2",
         "2",
         "2",
         "2",
         "2",
         "2",
         "2",
         "2",
         "2",
         "2",
         "2",
         "2",
         "2",
         "2",
         "2",
         "2",
         "2",
         "2",
         "2",
         "2",
         "2",
         "2",
         "2",
         "2",
         "2",
         "2",
         "2",
         "2",
         "2",
         "2",
         "2",
         "2",
         "2",
         "2",
         "2",
         "2",
         "2",
         "2",
         "2",
         "2",
         "2",
         "2",
         "2",
         "2",
         "2",
         "1",
         "1",
         "1",
         "1",
         "1",
         "1",
         "1",
         "1",
         "95",
         "95",
         "95",
         "1",
         "1",
         "1",
         "1",
         "1",
         "1",
         "1",
         "1",
         "2",
         "2",
         "2",
         "2",
         "2",
         "2",
         "2",
         "2",
         "2",
         "2",
         "2",
         "1",
         "-1",
         "1",
         "1",
         "1",
         "3",
         "2",
         "3",
         "28877",
         "12697",
         "976",
         "6556",
         "5165",
         "0",
         "0",
         "0",
         "0",
         "0",
         "0",
         "0",
         "0",
         "0",
         "28",
         "16039",
         "6735",
         "0",
         "2654",
         "4081",
         "0",
         "0",
         "0",
         "0",
         "0",
         "0",
         "0",
         "0",
         "0",
         "28",
         "16039",
         "6735",
         "0",
         "2654",
         "4081",
         "0",
         "0",
         "0",
         "0",
         "0",
         "0",
         "0",
         "0",
         "0",
         "2",
         "739",
         "500",
         "44",
         "439",
         "17",
         "0",
         "0",
         "0",
         "0",
         "0",
         "0",
         "0",
         "0",
         "0",
         "470",
         "362",
         "44",
         "301",
         "17",
         "0",
         "0",
         "0",
         "0",
         "0",
         "0",
         "0",
         "0",
         "0",
         "138",
         "269",
         "0",
         "138",
         "0",
         "0",
         "0",
         "0",
         "0",
         "0",
         "0",
         "0",
         "0",
         "0",
         "1",
         "250",
         "215",
         "44",
         "171",
         "0",
         "0",
         "0",
         "0",
         "0",
         "0",
         "0",
         "0",
         "0",
         "0",
         "0",
         "0",
         "0",
         "0",
         "0",
         "0",
         "0",
         "0",
         "0",
         "0",
         "0",
         "0",
         "0",
         "0",
         "2",
         "8419",
         "922",
         "0",
         "866",
         "56",
         "0",
         "0",
         "0",
         "0",
         "0",
         "0",
         "0",
         "0",
         "0",
         "4262",
         "412",
         "0",
         "356",
         "56",
         "0",
         "0",
         "0",
         "0",
         "0",
         "0",
         "0",
         "0",
         "0",
         "510",
         "4157",
         "0",
         "510",
         "0",
         "0",
         "0",
         "0",
         "0",
         "0",
         "0",
         "0",
         "0",
         "0",
         "0",
         "0",
         "0",
         "0",
         "0",
         "0",
         "0",
         "0",
         "0",
         "0",
         "0",
         "0",
         "0",
         "0",
         "0",
         "0",
         "0",
         "0",
         "0",
         "0",
         "0",
         "0",
         "0",
         "0",
         "0",
         "0",
         "0",
         "0",
         "0",
         "0",
         "0",
         "0",
         "0",
         "0",
         "0",
         "0",
         "0",
         "0",
         "0",
         "0",
         "0",
         "0",
         "0",
         "0",
         "13",
         "1986",
         "1404",
         "800",
         "0",
         "604",
         "0",
         "0",
         "0",
         "0",
         "0",
         "0",
         "0",
         "0",
         "0",
         "0",
         "0",
         "0",
         "0",
         "0",
         "0",
         "0",
         "0",
         "0",
         "0",
         "0",
         "0",
         "0",
         "0",
         "0",
         "0",
         "0",
         "0",
         "0",
         "0",
         "0",
         "0",
         "0",
         "0",
         "0",
         "0",
         "0",
         "0",
         "0",
         "0",
         "0",
         "0",
         "0",
         "0",
         "0",
         "0",
         "0",
         "0",
         "0",
         "0",
         "0",
         "0",
         "0",
         "0",
         "0",
         "0",
         "1694",
         "1694",
         "66",
         "1221",
         "407",
         "0",
         "0",
         "0",
         "0",
         "0",
         "0",
         "0",
         "0",
         "0",
         "43",
         "1442",
         "66",
         "1376",
         "0",
         "0",
         "0",
         "0",
         "0",
         "0",
         "0",
         "0",
         "0",
         "0",
         "15648.881461",
         "16017.881691",
         "16017.881691",
         "0.0",
         "0.0",
         "2001",
         "4"
        ],
        [
         "2",
         "2460006",
         "102",
         "2460006102",
         "24",
         "2022",
         "A",
         "A",
         "A",
         "A",
         "A",
         "B",
         "1",
         "1",
         "A",
         "A",
         "A",
         "A",
         "2",
         "2",
         "2",
         "2",
         "1",
         "1",
         "1",
         "1",
         "2",
         "2",
         "2",
         "2",
         "1",
         "2",
         "2",
         "0",
         "2",
         "2",
         "2",
         "2",
         "101",
         "101",
         "101",
         "101",
         "2",
         "2",
         "2",
         "2",
         "1",
         "1",
         "1",
         "1",
         "1",
         "2",
         "2",
         "2",
         "9",
         "2021",
         "1",
         "2022",
         "1",
         "2022",
         "9",
         "2022",
         "9",
         "2022",
         "12",
         "2022",
         "12",
         "2022",
         "1",
         "1",
         "1",
         "1",
         "1",
         "1",
         "1",
         "1",
         "1",
         "1",
         "1",
         "11",
         "11",
         "11",
         "60",
         "60",
         "60",
         "66",
         "67",
         "67",
         "67",
         "67",
         "1",
         "1955",
         "1",
         "1",
         "1",
         "3",
         "3",
         "1",
         "2",
         "2",
         "9",
         "1",
         "1",
         "9",
         "3",
         "101",
         "101",
         "995",
         "995",
         "1",
         "1",
         "2",
         "2",
         "17",
         "5",
         "-1",
         "-1",
         "-1",
         "-1",
         "4",
         "4",
         "4",
         "2",
         "2",
         "3",
         "3",
         "1",
         "2",
         "1",
         "2",
         "5",
         "-1",
         "-1",
         "-1",
         "-1",
         "-1",
         "-1",
         "2",
         "-1",
         "-1",
         "2",
         "-1",
         "2",
         "-1",
         "2",
         "-1",
         "2",
         "-1",
         "-1",
         "2",
         "-1",
         "2",
         "-1",
         "2",
         "2",
         "-1",
         "2",
         "-1",
         "-1",
         "-1",
         "-1",
         "-1",
         "-1",
         "-1",
         "-1",
         "-1",
         "-1",
         "-1",
         "-1",
         "2",
         "-1",
         "2",
         "2",
         "-1",
         "-1",
         "2",
         "-1",
         "-1",
         "-1",
         "-1",
         "-1",
         "-1",
         "-1",
         "-1",
         "-1",
         "-1",
         "-1",
         "-1",
         "-1",
         "2",
         "-1",
         "-1",
         "-1",
         "-1",
         "-1",
         "-1",
         "2",
         "1",
         "1",
         "1",
         "1",
         "1",
         "2",
         "2",
         "2",
         "2",
         "-1",
         "-1",
         "-1",
         "-1",
         "-1",
         "-1",
         "-1",
         "-1",
         "2",
         "-1",
         "-1",
         "-1",
         "-1",
         "2",
         "2",
         "2",
         "2",
         "2",
         "2",
         "2",
         "2",
         "2",
         "-1",
         "-1",
         "-1",
         "-1",
         "-1",
         "-1",
         "-1",
         "-1",
         "-1",
         "-1",
         "-1",
         "-1",
         "-1",
         "-1",
         "-1",
         "-1",
         "-1",
         "-1",
         "-1",
         "-1.0",
         "-1",
         "-1",
         "-1",
         "-1",
         "-1",
         "-1",
         "-1",
         "-1",
         "-1",
         "-1",
         "-1",
         "-1",
         "-1",
         "-1",
         "-1",
         "-1",
         "-8",
         "-8",
         "-8",
         "1",
         "1",
         "1",
         "2",
         "1",
         "2",
         "2",
         "-1",
         "-1",
         "-1",
         "-1",
         "-1",
         "-1",
         "-1",
         "-1",
         "-1",
         "-1",
         "-1",
         "-1",
         "-1",
         "-1",
         "-1",
         "-1",
         "-1",
         "-1",
         "-1",
         "-1",
         "-1",
         "-1",
         "-1",
         "-1",
         "-1",
         "-1",
         "-1",
         "-1",
         "-1",
         "-1",
         "-1",
         "-1",
         "-1",
         "-1",
         "-1",
         "-1",
         "-1",
         "-1",
         "-1",
         "-1",
         "-1",
         "-1",
         "-1",
         "-1",
         "-1",
         "-1",
         "-1",
         "-1",
         "-1",
         "-1",
         "-1",
         "-1",
         "-1",
         "-1",
         "-1",
         "-1",
         "-1",
         "-1",
         "-1",
         "-1",
         "-1",
         "-1",
         "-1",
         "-1",
         "-1",
         "-1",
         "-1",
         "-1",
         "-1",
         "-1",
         "-1",
         "-1",
         "-1",
         "-1",
         "-1",
         "-1",
         "-1.0",
         "-1.0",
         "-1",
         "-1",
         "-1",
         "-1",
         "-1.0",
         "0",
         "-1",
         "-1",
         "-1",
         "-1",
         "-1",
         "-1",
         "-1",
         "-1",
         "-1",
         "-1",
         "-1",
         "-1",
         "-1",
         "-1",
         "-1",
         "-1",
         "-1",
         "-1",
         "-1",
         "-1",
         "-1",
         "-1",
         "-1",
         "-1",
         "-1",
         "-1",
         "-1",
         "-1",
         "-1",
         "-1",
         "-1",
         "-1",
         "-1",
         "-1",
         "-15",
         "1",
         "2",
         "1",
         "1",
         "1",
         "-1",
         "3",
         "-8",
         "1",
         "2",
         "-8",
         "2",
         "1",
         "2",
         "2",
         "2",
         "2",
         "2",
         "1",
         "1",
         "2",
         "-8",
         "2",
         "1",
         "2",
         "-1",
         "2",
         "2",
         "2",
         "2",
         "2",
         "2",
         "1",
         "1",
         "3",
         "1",
         "2",
         "2",
         "-1",
         "-1",
         "11.0",
         "-2.0",
         "-1.0",
         "0",
         "0",
         "0",
         "3",
         "-2",
         "-1",
         "-8",
         "-8",
         "-1",
         "-15.0",
         "-15.0",
         "-1.0",
         "43",
         "-2",
         "-1",
         "2",
         "-2",
         "-1",
         "2",
         "-2",
         "-1",
         "2",
         "-2",
         "-1",
         "-1",
         "-1",
         "-1",
         "-1",
         "-2",
         "-1",
         "5",
         "-2",
         "-1",
         "5",
         "-2",
         "-1",
         "1",
         "-2",
         "-1",
         "2",
         "-2",
         "-1",
         "-1",
         "-1",
         "-1",
         "4",
         "3",
         "-1",
         "-8",
         "-1",
         "2009",
         "-2",
         "-2",
         "-1",
         "-1",
         "1",
         "8",
         "-2",
         "-1",
         "2",
         "-2",
         "-1",
         "2",
         "-2",
         "-1",
         "2",
         "-2",
         "-1",
         "2",
         "-2",
         "-1",
         "-1",
         "-2",
         "-1",
         "1",
         "-2",
         "-1",
         "2",
         "2",
         "-1",
         "2",
         "2",
         "-1",
         "2",
         "2",
         "-1",
         "1",
         "1",
         "34",
         "2",
         "2",
         "-1",
         "5",
         "5",
         "-1",
         "1",
         "1",
         "-1",
         "5",
         "5",
         "-1",
         "8",
         "8",
         "-1",
         "43",
         "43",
         "-1",
         "1",
         "1",
         "-1",
         "2",
         "2",
         "-1",
         "-1",
         "-1",
         "-1",
         "11.0",
         "11.0",
         "-1.0",
         "2",
         "2",
         "-1",
         "2",
         "2",
         "-1",
         "2",
         "2",
         "-1",
         "2",
         "2",
         "-1",
         "2",
         "2",
         "-1",
         "2",
         "2",
         "-1",
         "2",
         "2",
         "-1",
         "2",
         "1",
         "1",
         "1",
         "-1",
         "-1",
         "1",
         "1",
         "12",
         "25",
         "30740",
         "30740",
         "4",
         "219.01",
         "20240",
         "4",
         "0",
         "3",
         "0",
         "6",
         "0",
         "1",
         "0",
         "6",
         "0",
         "6",
         "0",
         "6",
         "0",
         "6",
         "10500",
         "6",
         "0",
         "6",
         "0",
         "1",
         "0",
         "6",
         "0",
         "3",
         "0",
         "1",
         "0",
         "1",
         "0",
         "1",
         "0",
         "1",
         "0",
         "1",
         "2460006B1",
         "2",
         "2",
         "2",
         "2",
         "2",
         "2",
         "2",
         "2",
         "2",
         "2",
         "2",
         "2",
         "1",
         "1",
         "1",
         "1",
         "1",
         "1",
         "1",
         "1",
         "1",
         "1",
         "1",
         "1",
         "1",
         "1",
         "1",
         "1",
         "1",
         "1",
         "1",
         "1",
         "1",
         "1",
         "1",
         "1",
         "1",
         "1",
         "1",
         "1",
         "1",
         "1",
         "1",
         "1",
         "1",
         "1",
         "1",
         "1",
         "1",
         "1",
         "1",
         "1",
         "1",
         "1",
         "1",
         "1",
         "1",
         "1",
         "1",
         "1",
         "2",
         "2",
         "2",
         "2",
         "2",
         "2",
         "2",
         "2",
         "2",
         "2",
         "2",
         "2",
         "2",
         "2",
         "2",
         "2",
         "2",
         "2",
         "2",
         "2",
         "2",
         "2",
         "2",
         "2",
         "2",
         "2",
         "2",
         "2",
         "2",
         "2",
         "2",
         "2",
         "2",
         "2",
         "2",
         "2",
         "2",
         "2",
         "2",
         "2",
         "2",
         "2",
         "2",
         "2",
         "2",
         "2",
         "2",
         "2",
         "2",
         "2",
         "2",
         "2",
         "2",
         "2",
         "2",
         "2",
         "2",
         "2",
         "2",
         "2",
         "1",
         "1",
         "1",
         "1",
         "1",
         "1",
         "1",
         "1",
         "1",
         "1",
         "1",
         "1",
         "2",
         "2",
         "2",
         "2",
         "2",
         "2",
         "2",
         "2",
         "2",
         "2",
         "2",
         "2",
         "2",
         "2",
         "2",
         "2",
         "2",
         "2",
         "2",
         "2",
         "2",
         "2",
         "2",
         "2",
         "2",
         "2",
         "2",
         "2",
         "2",
         "2",
         "2",
         "2",
         "2",
         "2",
         "2",
         "2",
         "2",
         "2",
         "2",
         "2",
         "2",
         "2",
         "2",
         "2",
         "2",
         "2",
         "2",
         "2",
         "2",
         "2",
         "2",
         "2",
         "2",
         "2",
         "2",
         "2",
         "2",
         "2",
         "2",
         "2",
         "2",
         "2",
         "2",
         "2",
         "2",
         "2",
         "2",
         "2",
         "2",
         "2",
         "2",
         "2",
         "2",
         "2",
         "2",
         "2",
         "2",
         "2",
         "2",
         "2",
         "2",
         "2",
         "2",
         "2",
         "2",
         "2",
         "2",
         "2",
         "2",
         "2",
         "2",
         "2",
         "2",
         "2",
         "2",
         "2",
         "2",
         "2",
         "2",
         "2",
         "2",
         "2",
         "2",
         "2",
         "2",
         "2",
         "2",
         "2",
         "2",
         "2",
         "2",
         "2",
         "2",
         "2",
         "2",
         "2",
         "2",
         "2",
         "2",
         "2",
         "2",
         "2",
         "2",
         "2",
         "2",
         "2",
         "2",
         "2",
         "2",
         "2",
         "2",
         "2",
         "2",
         "2",
         "2",
         "2",
         "2",
         "2",
         "2",
         "2",
         "2",
         "2",
         "2",
         "2",
         "2",
         "2",
         "2",
         "2",
         "2",
         "2",
         "2",
         "2",
         "2",
         "2",
         "2",
         "2",
         "2",
         "2",
         "2",
         "2",
         "2",
         "2",
         "2",
         "2",
         "2",
         "2",
         "2",
         "2",
         "1",
         "1",
         "1",
         "1",
         "1",
         "1",
         "1",
         "1",
         "1",
         "1",
         "1",
         "1",
         "2",
         "2",
         "1",
         "1",
         "2",
         "2",
         "2",
         "2",
         "2",
         "2",
         "6",
         "3",
         "3",
         "3",
         "3",
         "3",
         "3",
         "-15",
         "1",
         "1",
         "-15",
         "1",
         "1",
         "1",
         "1",
         "-15",
         "-15",
         "3",
         "2",
         "2",
         "3",
         "2",
         "2",
         "3",
         "3",
         "3",
         "2",
         "-1",
         "-1",
         "-1",
         "-1",
         "2",
         "2",
         "2",
         "2",
         "2",
         "2",
         "2",
         "2",
         "2",
         "1",
         "1",
         "1",
         "2",
         "1",
         "1",
         "1",
         "1",
         "1",
         "1",
         "1",
         "1",
         "1",
         "1",
         "1",
         "2",
         "1",
         "1",
         "1",
         "2",
         "2",
         "2",
         "2",
         "2",
         "2",
         "2",
         "2",
         "2",
         "2",
         "2",
         "2",
         "2",
         "2",
         "2",
         "2",
         "2",
         "2",
         "2",
         "2",
         "2",
         "2",
         "2",
         "2",
         "2",
         "2",
         "2",
         "2",
         "2",
         "2",
         "2",
         "2",
         "2",
         "2",
         "2",
         "2",
         "2",
         "2",
         "2",
         "2",
         "2",
         "2",
         "2",
         "2",
         "2",
         "2",
         "2",
         "2",
         "2",
         "2",
         "2",
         "2",
         "2",
         "2",
         "2",
         "2",
         "2",
         "2",
         "2",
         "2",
         "2",
         "2",
         "2",
         "2",
         "2",
         "2",
         "2",
         "2",
         "2",
         "2",
         "2",
         "2",
         "2",
         "2",
         "2",
         "2",
         "1",
         "1",
         "1",
         "1",
         "1",
         "1",
         "1",
         "1",
         "95",
         "95",
         "95",
         "1",
         "1",
         "1",
         "1",
         "1",
         "1",
         "1",
         "1",
         "2",
         "2",
         "2",
         "2",
         "2",
         "2",
         "2",
         "2",
         "2",
         "2",
         "2",
         "1",
         "-1",
         "1",
         "-1",
         "-1",
         "2",
         "-1",
         "-1",
         "6013",
         "3405",
         "20",
         "23",
         "3362",
         "0",
         "0",
         "0",
         "0",
         "0",
         "0",
         "0",
         "0",
         "0",
         "1",
         "217",
         "23",
         "0",
         "23",
         "0",
         "0",
         "0",
         "0",
         "0",
         "0",
         "0",
         "0",
         "0",
         "0",
         "1",
         "217",
         "23",
         "0",
         "23",
         "0",
         "0",
         "0",
         "0",
         "0",
         "0",
         "0",
         "0",
         "0",
         "0",
         "0",
         "0",
         "0",
         "0",
         "0",
         "0",
         "0",
         "0",
         "0",
         "0",
         "0",
         "0",
         "0",
         "0",
         "0",
         "0",
         "0",
         "0",
         "0",
         "0",
         "0",
         "0",
         "0",
         "0",
         "0",
         "0",
         "0",
         "0",
         "0",
         "0",
         "0",
         "0",
         "0",
         "0",
         "0",
         "0",
         "0",
         "0",
         "0",
         "0",
         "0",
         "0",
         "0",
         "0",
         "0",
         "0",
         "0",
         "0",
         "0",
         "0",
         "0",
         "0",
         "0",
         "0",
         "0",
         "0",
         "0",
         "0",
         "0",
         "0",
         "0",
         "0",
         "0",
         "0",
         "0",
         "0",
         "0",
         "0",
         "0",
         "0",
         "0",
         "0",
         "0",
         "0",
         "0",
         "0",
         "0",
         "0",
         "0",
         "0",
         "0",
         "0",
         "0",
         "0",
         "0",
         "0",
         "0",
         "0",
         "0",
         "0",
         "0",
         "0",
         "0",
         "0",
         "0",
         "0",
         "0",
         "0",
         "0",
         "0",
         "0",
         "0",
         "0",
         "0",
         "0",
         "0",
         "0",
         "0",
         "0",
         "0",
         "0",
         "0",
         "0",
         "0",
         "0",
         "0",
         "0",
         "0",
         "0",
         "0",
         "0",
         "0",
         "0",
         "0",
         "0",
         "0",
         "0",
         "0",
         "0",
         "0",
         "0",
         "0",
         "0",
         "0",
         "0",
         "0",
         "0",
         "0",
         "0",
         "0",
         "0",
         "0",
         "0",
         "0",
         "0",
         "0",
         "0",
         "0",
         "0",
         "0",
         "0",
         "0",
         "0",
         "0",
         "0",
         "0",
         "0",
         "0",
         "0",
         "3",
         "5796",
         "3362",
         "0",
         "0",
         "3362",
         "0",
         "0",
         "0",
         "0",
         "0",
         "0",
         "0",
         "0",
         "0",
         "0",
         "0",
         "0",
         "0",
         "0",
         "0",
         "0",
         "0",
         "0",
         "0",
         "0",
         "0",
         "0",
         "0",
         "0",
         "0",
         "0",
         "0",
         "0",
         "0",
         "0",
         "0",
         "0",
         "0",
         "0",
         "0",
         "0",
         "0",
         "0",
         "0",
         "0",
         "0",
         "0",
         "0",
         "0",
         "0",
         "0",
         "0",
         "0",
         "0",
         "0",
         "0",
         "0",
         "0",
         "0",
         "0",
         "0",
         "0",
         "0",
         "0",
         "0",
         "0",
         "0",
         "0",
         "0",
         "0",
         "0",
         "0",
         "0",
         "0",
         "1",
         "20",
         "20",
         "0",
         "0",
         "0",
         "0",
         "0",
         "0",
         "0",
         "0",
         "0",
         "0",
         "0",
         "14123.720178",
         "16017.881691",
         "12580.73174",
         "0.0",
         "0.0",
         "2001",
         "4"
        ],
        [
         "3",
         "2460010",
         "101",
         "2460010101",
         "24",
         "2022",
         "A",
         "A",
         "A",
         "A",
         "A",
         "A",
         "1",
         "1",
         "A",
         "A",
         "A",
         "A",
         "1",
         "1",
         "1",
         "1",
         "1",
         "1",
         "1",
         "1",
         "1",
         "1",
         "1",
         "1",
         "1",
         "1",
         "1",
         "1",
         "4",
         "4",
         "4",
         "4",
         "101",
         "101",
         "101",
         "101",
         "1",
         "1",
         "1",
         "1",
         "1",
         "1",
         "1",
         "1",
         "1",
         "2",
         "3",
         "3",
         "9",
         "2021",
         "3",
         "2022",
         "3",
         "2022",
         "8",
         "2022",
         "8",
         "2022",
         "12",
         "2022",
         "12",
         "2022",
         "1",
         "1",
         "1",
         "1",
         "1",
         "1",
         "1",
         "1",
         "1",
         "1",
         "1",
         "11",
         "11",
         "11",
         "60",
         "60",
         "60",
         "28",
         "29",
         "29",
         "29",
         "29",
         "5",
         "1993",
         "1",
         "6",
         "12",
         "3",
         "3",
         "2",
         "5",
         "2",
         "9",
         "5",
         "5",
         "5",
         "5",
         "995",
         "995",
         "995",
         "995",
         "2",
         "2",
         "2",
         "2",
         "16",
         "4",
         "-1",
         "-1",
         "-1",
         "-1",
         "2",
         "2",
         "2",
         "1",
         "1",
         "1",
         "1",
         "2",
         "-1",
         "-1",
         "1",
         "-1",
         "-1",
         "-1",
         "-1",
         "-1",
         "-1",
         "-1",
         "2",
         "-1",
         "-1",
         "2",
         "-1",
         "2",
         "-1",
         "2",
         "-1",
         "2",
         "-1",
         "-1",
         "2",
         "-1",
         "2",
         "-1",
         "2",
         "2",
         "-1",
         "2",
         "-1",
         "-1",
         "-1",
         "-1",
         "-1",
         "-1",
         "-1",
         "-1",
         "-1",
         "-1",
         "-1",
         "-1",
         "2",
         "-1",
         "2",
         "2",
         "-1",
         "-1",
         "2",
         "-1",
         "-1",
         "-1",
         "-1",
         "-1",
         "-1",
         "-1",
         "-1",
         "-1",
         "-1",
         "-1",
         "-1",
         "-1",
         "1",
         "1",
         "1",
         "2",
         "1",
         "11",
         "2022",
         "3",
         "3",
         "4",
         "2",
         "4",
         "3",
         "2",
         "2",
         "2",
         "2",
         "-1",
         "-1",
         "-1",
         "-1",
         "-1",
         "-1",
         "-1",
         "-1",
         "2",
         "-1",
         "-1",
         "-1",
         "-1",
         "2",
         "2",
         "2",
         "2",
         "1",
         "2",
         "2",
         "2",
         "2",
         "-1",
         "-1",
         "-1",
         "-1",
         "-1",
         "-1",
         "-1",
         "-1",
         "-1",
         "-1",
         "-1",
         "-1",
         "-1",
         "-1",
         "-1",
         "-1",
         "-1",
         "-1",
         "-1",
         "-1.0",
         "-1",
         "-1",
         "-1",
         "-1",
         "-1",
         "-1",
         "-1",
         "-1",
         "-1",
         "-1",
         "-1",
         "-1",
         "-1",
         "-1",
         "-1",
         "-1",
         "2",
         "2",
         "2",
         "1",
         "1",
         "1",
         "2",
         "2",
         "2",
         "2",
         "-1",
         "-1",
         "-1",
         "-1",
         "-1",
         "-1",
         "-1",
         "-1",
         "-1",
         "-1",
         "-1",
         "-1",
         "-1",
         "-1",
         "-1",
         "-1",
         "-1",
         "-1",
         "-1",
         "-1",
         "-1",
         "-1",
         "-1",
         "-1",
         "-1",
         "-1",
         "-1",
         "-1",
         "-1",
         "-1",
         "-1",
         "-1",
         "-1",
         "-1",
         "-1",
         "-1",
         "-1",
         "-1",
         "-1",
         "-1",
         "-1",
         "-1",
         "-1",
         "-1",
         "-1",
         "-1",
         "-1",
         "-1",
         "-1",
         "-1",
         "-1",
         "-1",
         "-1",
         "-1",
         "-1",
         "-1",
         "-1",
         "-1",
         "-1",
         "-1",
         "-1",
         "-1",
         "-1",
         "-1",
         "-1",
         "-1",
         "-1",
         "-1",
         "-1",
         "-1",
         "-1",
         "-1",
         "-1",
         "-1",
         "-1",
         "-1",
         "-1.0",
         "-1.0",
         "-1",
         "-1",
         "-1",
         "-1",
         "-1.0",
         "0",
         "-1",
         "-1",
         "-1",
         "-1",
         "-1",
         "-1",
         "-1",
         "-1",
         "-1",
         "-1",
         "-1",
         "-1",
         "-1",
         "-1",
         "-1",
         "-1",
         "-1",
         "-1",
         "-1",
         "-1",
         "-1",
         "-1",
         "-1",
         "-1",
         "-1",
         "-1",
         "-1",
         "-1",
         "-1",
         "-1",
         "-1",
         "-1",
         "-1",
         "-1",
         "4",
         "2",
         "-1",
         "1",
         "2",
         "-1",
         "1",
         "-1",
         "-1",
         "-1",
         "-1",
         "-1",
         "-1",
         "-1",
         "-1",
         "-1",
         "-1",
         "-1",
         "-1",
         "-1",
         "-1",
         "-1",
         "-1",
         "-1",
         "-1",
         "-1",
         "-1",
         "2",
         "2",
         "2",
         "2",
         "2",
         "2",
         "1",
         "1",
         "1",
         "7",
         "2",
         "2",
         "2",
         "-1",
         "52.88",
         "-2.0",
         "-2.0",
         "0",
         "0",
         "0",
         "4",
         "-2",
         "-2",
         "-1",
         "2",
         "1",
         "-1.0",
         "-1.0",
         "55.29",
         "40",
         "-2",
         "-2",
         "2",
         "-2",
         "-2",
         "2",
         "-2",
         "-2",
         "2",
         "-2",
         "-2",
         "2",
         "2",
         "2",
         "1",
         "-2",
         "-2",
         "10",
         "-2",
         "-2",
         "500",
         "-2",
         "-2",
         "1",
         "-2",
         "-2",
         "2",
         "-2",
         "-2",
         "-1",
         "-1",
         "-1",
         "4",
         "4",
         "-1",
         "-1",
         "12",
         "2021",
         "-2",
         "-2",
         "-2",
         "-2",
         "-1",
         "2",
         "-2",
         "-2",
         "1",
         "-2",
         "-2",
         "1",
         "-2",
         "-2",
         "1",
         "-2",
         "-2",
         "2",
         "-2",
         "-2",
         "-1",
         "-2",
         "-2",
         "1",
         "-2",
         "-2",
         "1",
         "1",
         "1",
         "1",
         "1",
         "1",
         "1",
         "1",
         "1",
         "1",
         "1",
         "1",
         "2",
         "2",
         "2",
         "500",
         "500",
         "500",
         "1",
         "1",
         "1",
         "10",
         "10",
         "10",
         "2",
         "2",
         "2",
         "40",
         "40",
         "40",
         "1",
         "1",
         "1",
         "2",
         "2",
         "2",
         "-1",
         "-1",
         "-1",
         "52.88",
         "52.88",
         "55.29",
         "1",
         "1",
         "1",
         "1",
         "1",
         "1",
         "1",
         "1",
         "1",
         "1",
         "1",
         "1",
         "1",
         "1",
         "1",
         "1",
         "1",
         "1",
         "2",
         "2",
         "2",
         "2",
         "1",
         "1",
         "1",
         "-1",
         "-1",
         "1",
         "2",
         "-1",
         "-1",
         "106483",
         "106483",
         "5",
         "699.4",
         "106483",
         "1",
         "0",
         "1",
         "0",
         "6",
         "0",
         "1",
         "0",
         "1",
         "0",
         "1",
         "0",
         "1",
         "0",
         "1",
         "0",
         "1",
         "0",
         "1",
         "0",
         "1",
         "0",
         "1",
         "0",
         "1",
         "0",
         "1",
         "0",
         "1",
         "0",
         "1",
         "0",
         "1",
         "0",
         "1",
         "2460010A1",
         "2",
         "2",
         "2",
         "2",
         "2",
         "2",
         "2",
         "2",
         "2",
         "2",
         "2",
         "2",
         "2",
         "2",
         "2",
         "2",
         "2",
         "2",
         "2",
         "2",
         "2",
         "2",
         "2",
         "2",
         "2",
         "2",
         "2",
         "2",
         "2",
         "2",
         "2",
         "2",
         "2",
         "2",
         "2",
         "2",
         "2",
         "2",
         "2",
         "2",
         "2",
         "2",
         "2",
         "2",
         "2",
         "2",
         "2",
         "2",
         "2",
         "2",
         "2",
         "2",
         "2",
         "2",
         "2",
         "2",
         "2",
         "2",
         "2",
         "2",
         "2",
         "2",
         "2",
         "2",
         "2",
         "2",
         "2",
         "2",
         "2",
         "2",
         "2",
         "2",
         "2",
         "2",
         "2",
         "2",
         "2",
         "2",
         "2",
         "2",
         "2",
         "2",
         "2",
         "2",
         "2",
         "2",
         "2",
         "2",
         "2",
         "2",
         "2",
         "2",
         "2",
         "2",
         "2",
         "2",
         "2",
         "2",
         "2",
         "2",
         "2",
         "2",
         "2",
         "2",
         "2",
         "2",
         "2",
         "2",
         "1",
         "1",
         "1",
         "1",
         "1",
         "1",
         "1",
         "1",
         "1",
         "1",
         "1",
         "1",
         "2",
         "2",
         "2",
         "2",
         "2",
         "2",
         "2",
         "2",
         "2",
         "2",
         "2",
         "2",
         "1",
         "1",
         "1",
         "1",
         "1",
         "1",
         "1",
         "1",
         "1",
         "1",
         "1",
         "1",
         "2",
         "2",
         "2",
         "2",
         "2",
         "2",
         "2",
         "2",
         "2",
         "2",
         "2",
         "2",
         "2",
         "2",
         "2",
         "2",
         "2",
         "2",
         "2",
         "2",
         "2",
         "2",
         "2",
         "2",
         "2",
         "2",
         "2",
         "2",
         "2",
         "2",
         "2",
         "2",
         "2",
         "2",
         "2",
         "2",
         "2",
         "2",
         "2",
         "2",
         "2",
         "2",
         "2",
         "2",
         "2",
         "2",
         "2",
         "2",
         "2",
         "2",
         "2",
         "2",
         "2",
         "2",
         "2",
         "2",
         "2",
         "2",
         "2",
         "2",
         "2",
         "2",
         "2",
         "2",
         "2",
         "2",
         "2",
         "2",
         "2",
         "2",
         "2",
         "2",
         "1",
         "1",
         "1",
         "1",
         "1",
         "1",
         "1",
         "1",
         "1",
         "1",
         "1",
         "1",
         "1",
         "1",
         "1",
         "1",
         "1",
         "1",
         "1",
         "1",
         "1",
         "1",
         "1",
         "1",
         "2",
         "2",
         "2",
         "2",
         "2",
         "2",
         "2",
         "2",
         "2",
         "2",
         "2",
         "2",
         "2",
         "2",
         "2",
         "2",
         "2",
         "2",
         "2",
         "2",
         "2",
         "2",
         "2",
         "2",
         "2",
         "2",
         "2",
         "2",
         "2",
         "2",
         "2",
         "2",
         "2",
         "2",
         "2",
         "2",
         "2",
         "2",
         "2",
         "2",
         "2",
         "2",
         "2",
         "2",
         "2",
         "2",
         "2",
         "2",
         "1",
         "1",
         "1",
         "1",
         "1",
         "1",
         "1",
         "1",
         "1",
         "1",
         "1",
         "1",
         "1",
         "1",
         "1",
         "1",
         "1",
         "1",
         "1",
         "1",
         "1",
         "1",
         "1",
         "1",
         "1",
         "2",
         "2",
         "2",
         "2",
         "2",
         "2",
         "2",
         "2",
         "1",
         "1",
         "3",
         "3",
         "3",
         "3",
         "3",
         "3",
         "4",
         "3",
         "3",
         "3",
         "3",
         "3",
         "3",
         "3",
         "3",
         "3",
         "3",
         "3",
         "3",
         "3",
         "3",
         "3",
         "2",
         "2",
         "2",
         "2",
         "-1",
         "-1",
         "-1",
         "-1",
         "2",
         "2",
         "2",
         "2",
         "2",
         "2",
         "2",
         "2",
         "2",
         "2",
         "2",
         "2",
         "2",
         "2",
         "2",
         "2",
         "2",
         "2",
         "2",
         "2",
         "2",
         "2",
         "2",
         "2",
         "2",
         "2",
         "2",
         "2",
         "2",
         "2",
         "2",
         "2",
         "2",
         "2",
         "2",
         "2",
         "2",
         "2",
         "2",
         "2",
         "2",
         "2",
         "2",
         "2",
         "2",
         "2",
         "2",
         "2",
         "2",
         "2",
         "2",
         "2",
         "2",
         "2",
         "2",
         "2",
         "2",
         "2",
         "2",
         "2",
         "1",
         "1",
         "1",
         "1",
         "1",
         "1",
         "1",
         "1",
         "2",
         "2",
         "2",
         "2",
         "1",
         "1",
         "1",
         "1",
         "2",
         "2",
         "2",
         "2",
         "2",
         "2",
         "2",
         "2",
         "2",
         "2",
         "2",
         "2",
         "2",
         "2",
         "2",
         "2",
         "2",
         "2",
         "2",
         "2",
         "1",
         "1",
         "1",
         "1",
         "1",
         "1",
         "1",
         "1",
         "2",
         "2",
         "2",
         "2",
         "2",
         "2",
         "2",
         "2",
         "95",
         "95",
         "95",
         "1",
         "1",
         "1",
         "1",
         "1",
         "1",
         "1",
         "1",
         "1",
         "1",
         "1",
         "1",
         "1",
         "1",
         "2",
         "2",
         "2",
         "2",
         "2",
         "2",
         "-1",
         "1",
         "1",
         "1",
         "1",
         "1",
         "1",
         "4521",
         "9265",
         "1165",
         "0",
         "0",
         "7801",
         "0",
         "0",
         "40",
         "259",
         "0",
         "0",
         "7801",
         "299",
         "16",
         "4521",
         "2973",
         "460",
         "0",
         "0",
         "2513",
         "0",
         "0",
         "0",
         "0",
         "0",
         "0",
         "2513",
         "0",
         "6",
         "1278",
         "500",
         "180",
         "0",
         "0",
         "320",
         "0",
         "0",
         "0",
         "0",
         "0",
         "0",
         "320",
         "0",
         "0",
         "0",
         "0",
         "0",
         "0",
         "0",
         "0",
         "0",
         "0",
         "0",
         "0",
         "0",
         "0",
         "0",
         "0",
         "0",
         "0",
         "0",
         "0",
         "0",
         "0",
         "0",
         "0",
         "0",
         "0",
         "0",
         "0",
         "0",
         "0",
         "0",
         "0",
         "0",
         "0",
         "0",
         "0",
         "0",
         "0",
         "0",
         "0",
         "0",
         "0",
         "0",
         "0",
         "0",
         "0",
         "0",
         "0",
         "0",
         "0",
         "0",
         "0",
         "0",
         "0",
         "0",
         "0",
         "0",
         "0",
         "0",
         "0",
         "0",
         "0",
         "0",
         "0",
         "0",
         "0",
         "0",
         "0",
         "0",
         "0",
         "0",
         "0",
         "0",
         "0",
         "0",
         "0",
         "0",
         "0",
         "0",
         "0",
         "0",
         "0",
         "0",
         "0",
         "0",
         "0",
         "0",
         "0",
         "0",
         "0",
         "0",
         "0",
         "0",
         "0",
         "0",
         "0",
         "0",
         "0",
         "0",
         "0",
         "0",
         "0",
         "0",
         "0",
         "0",
         "0",
         "0",
         "0",
         "0",
         "0",
         "0",
         "0",
         "0",
         "0",
         "0",
         "0",
         "0",
         "0",
         "0",
         "0",
         "0",
         "0",
         "0",
         "0",
         "0",
         "0",
         "0",
         "0",
         "0",
         "0",
         "0",
         "0",
         "0",
         "0",
         "0",
         "0",
         "0",
         "0",
         "0",
         "0",
         "0",
         "0",
         "0",
         "0",
         "0",
         "0",
         "0",
         "0",
         "0",
         "0",
         "0",
         "0",
         "0",
         "0",
         "0",
         "0",
         "0",
         "0",
         "0",
         "0",
         "0",
         "0",
         "0",
         "0",
         "0",
         "0",
         "0",
         "0",
         "0",
         "0",
         "0",
         "0",
         "0",
         "0",
         "0",
         "0",
         "0",
         "0",
         "0",
         "0",
         "0",
         "0",
         "0",
         "0",
         "0",
         "0",
         "0",
         "0",
         "0",
         "0",
         "0",
         "0",
         "0",
         "0",
         "0",
         "0",
         "0",
         "0",
         "0",
         "0",
         "0",
         "0",
         "0",
         "0",
         "0",
         "0",
         "0",
         "0",
         "0",
         "0",
         "0",
         "0",
         "0",
         "0",
         "0",
         "0",
         "0",
         "0",
         "0",
         "0",
         "0",
         "0",
         "0",
         "0",
         "0",
         "0",
         "0",
         "0",
         "0",
         "0",
         "0",
         "0",
         "0",
         "0",
         "0",
         "36",
         "6292",
         "705",
         "0",
         "0",
         "5288",
         "0",
         "0",
         "40",
         "259",
         "0",
         "0",
         "5288",
         "299",
         "16982.054917",
         "21905.758877",
         "21905.758877",
         "0.0",
         "0.0",
         "2038",
         "3"
        ],
        [
         "4",
         "2460018",
         "101",
         "2460018101",
         "24",
         "2022",
         "A",
         "A",
         "A",
         "A",
         "A",
         "A",
         "1",
         "1",
         "A",
         "A",
         "A",
         "A",
         "1",
         "1",
         "1",
         "1",
         "1",
         "1",
         "1",
         "1",
         "1",
         "1",
         "1",
         "1",
         "1",
         "1",
         "1",
         "1",
         "1",
         "1",
         "1",
         "1",
         "101",
         "101",
         "101",
         "101",
         "1",
         "1",
         "1",
         "1",
         "1",
         "1",
         "1",
         "1",
         "1",
         "2",
         "3",
         "3",
         "8",
         "2021",
         "1",
         "2022",
         "1",
         "2022",
         "7",
         "2022",
         "7",
         "2022",
         "12",
         "2022",
         "12",
         "2022",
         "1",
         "1",
         "1",
         "1",
         "1",
         "1",
         "1",
         "1",
         "1",
         "1",
         "1",
         "11",
         "11",
         "11",
         "60",
         "60",
         "60",
         "50",
         "51",
         "51",
         "51",
         "51",
         "3",
         "1971",
         "2",
         "1",
         "1",
         "3",
         "3",
         "1",
         "2",
         "2",
         "9",
         "3",
         "3",
         "3",
         "3",
         "995",
         "995",
         "995",
         "995",
         "2",
         "2",
         "2",
         "2",
         "16",
         "4",
         "-1",
         "-1",
         "-1",
         "-1",
         "2",
         "2",
         "2",
         "1",
         "1",
         "1",
         "1",
         "2",
         "-1",
         "-1",
         "1",
         "-1",
         "-1",
         "-1",
         "-1",
         "-1",
         "-1",
         "-1",
         "2",
         "-1",
         "-1",
         "2",
         "-1",
         "2",
         "-1",
         "2",
         "-1",
         "2",
         "-1",
         "-1",
         "2",
         "-1",
         "2",
         "-1",
         "2",
         "1",
         "35",
         "2",
         "-1",
         "-1",
         "-1",
         "-1",
         "-1",
         "-1",
         "-1",
         "-1",
         "-1",
         "-1",
         "-1",
         "-1",
         "2",
         "-1",
         "-1",
         "1",
         "2",
         "49",
         "1",
         "23",
         "1",
         "1",
         "-1",
         "1",
         "2",
         "2",
         "-1",
         "2",
         "-1",
         "-1",
         "-1",
         "-1",
         "2",
         "-1",
         "-1",
         "-1",
         "-1",
         "-1",
         "-1",
         "2",
         "2",
         "2",
         "4",
         "3",
         "4",
         "2",
         "2",
         "2",
         "2",
         "-1",
         "-1",
         "-1",
         "-1",
         "-1",
         "-1",
         "-1",
         "-1",
         "2",
         "-1",
         "-1",
         "-1",
         "-1",
         "2",
         "2",
         "2",
         "2",
         "2",
         "2",
         "2",
         "2",
         "2",
         "-1",
         "-1",
         "-1",
         "-1",
         "-1",
         "-1",
         "-1",
         "-1",
         "-1",
         "-1",
         "-1",
         "-1",
         "-1",
         "-1",
         "-1",
         "-1",
         "-1",
         "-1",
         "-1",
         "-1.0",
         "-1",
         "-1",
         "-1",
         "-1",
         "-1",
         "-1",
         "-1",
         "-1",
         "-1",
         "-1",
         "-1",
         "-1",
         "-1",
         "-1",
         "-1",
         "-1",
         "2",
         "2",
         "3",
         "1",
         "1",
         "1",
         "1",
         "1",
         "2",
         "1",
         "1",
         "2",
         "4",
         "2",
         "3",
         "3",
         "1",
         "-15",
         "1",
         "1",
         "1",
         "4",
         "3",
         "3",
         "5",
         "4",
         "2",
         "3",
         "1",
         "1",
         "1",
         "0",
         "0",
         "2",
         "5",
         "0",
         "1",
         "1",
         "5",
         "4",
         "2",
         "4",
         "1",
         "-1",
         "1",
         "1",
         "2",
         "2",
         "2",
         "4",
         "2",
         "2",
         "2",
         "2",
         "2",
         "4",
         "1",
         "1",
         "1",
         "1",
         "2",
         "1",
         "3",
         "-1",
         "-1",
         "-1",
         "1",
         "1",
         "1",
         "2",
         "2",
         "2",
         "2",
         "2",
         "1",
         "3",
         "3",
         "-1",
         "-1",
         "2",
         "1",
         "3",
         "1",
         "-1",
         "2",
         "1",
         "61.91",
         "43.22",
         "1",
         "7",
         "2022",
         "1",
         "27.400000000000002",
         "0",
         "-1",
         "-1",
         "-1",
         "-1",
         "-1",
         "-1",
         "-1",
         "-1",
         "-1",
         "-1",
         "-1",
         "-1",
         "-1",
         "-1",
         "-1",
         "-1",
         "-1",
         "-1",
         "-1",
         "-1",
         "-1",
         "-1",
         "-1",
         "-1",
         "-1",
         "-1",
         "-1",
         "-1",
         "-1",
         "-1",
         "-1",
         "-1",
         "-1",
         "-1",
         "0",
         "1",
         "4",
         "1",
         "1",
         "2",
         "-1",
         "3",
         "-8",
         "1",
         "1",
         "-8",
         "2",
         "1",
         "2",
         "2",
         "2",
         "2",
         "2",
         "1",
         "4",
         "2",
         "2",
         "1",
         "4",
         "1",
         "-1",
         "2",
         "2",
         "2",
         "2",
         "2",
         "2",
         "1",
         "1",
         "1",
         "5",
         "2",
         "2",
         "2",
         "-1",
         "16.16",
         "-2.0",
         "-2.0",
         "0",
         "0",
         "0",
         "3",
         "-2",
         "-2",
         "1",
         "2",
         "2",
         "20.2",
         "-1.0",
         "-1.0",
         "40",
         "-2",
         "-2",
         "2",
         "-2",
         "-2",
         "2",
         "-2",
         "-2",
         "2",
         "-2",
         "-2",
         "2",
         "2",
         "2",
         "1",
         "-2",
         "-2",
         "10",
         "-2",
         "-2",
         "75",
         "-2",
         "-2",
         "1",
         "-2",
         "-2",
         "2",
         "-2",
         "-2",
         "-1",
         "-1",
         "-1",
         "4",
         "4",
         "-1",
         "-1",
         "10",
         "2020",
         "-2",
         "-2",
         "-2",
         "-2",
         "-1",
         "5",
         "-2",
         "-2",
         "1",
         "-2",
         "-2",
         "1",
         "-2",
         "-2",
         "1",
         "-2",
         "-2",
         "2",
         "-2",
         "-2",
         "-1",
         "-2",
         "-2",
         "1",
         "-2",
         "-2",
         "1",
         "1",
         "1",
         "1",
         "1",
         "1",
         "1",
         "1",
         "1",
         "1",
         "1",
         "1",
         "2",
         "2",
         "2",
         "75",
         "75",
         "75",
         "1",
         "1",
         "1",
         "10",
         "10",
         "10",
         "5",
         "5",
         "5",
         "40",
         "40",
         "40",
         "1",
         "1",
         "1",
         "2",
         "2",
         "2",
         "-1",
         "-1",
         "-1",
         "20.2",
         "20.2",
         "20.2",
         "1",
         "1",
         "1",
         "1",
         "1",
         "1",
         "1",
         "1",
         "1",
         "1",
         "1",
         "1",
         "1",
         "1",
         "1",
         "1",
         "1",
         "1",
         "2",
         "2",
         "2",
         "2",
         "1",
         "1",
         "1",
         "-1",
         "-1",
         "1",
         "2",
         "-1",
         "-1",
         "45000",
         "45000",
         "4",
         "295.57",
         "45000",
         "2",
         "0",
         "1",
         "0",
         "6",
         "0",
         "1",
         "0",
         "1",
         "0",
         "1",
         "0",
         "1",
         "0",
         "1",
         "0",
         "1",
         "0",
         "1",
         "0",
         "1",
         "0",
         "1",
         "0",
         "1",
         "0",
         "1",
         "0",
         "1",
         "0",
         "1",
         "0",
         "1",
         "0",
         "1",
         "2460018A1",
         "2",
         "2",
         "2",
         "2",
         "2",
         "2",
         "2",
         "2",
         "2",
         "2",
         "2",
         "2",
         "2",
         "2",
         "2",
         "2",
         "2",
         "2",
         "2",
         "2",
         "2",
         "2",
         "2",
         "2",
         "2",
         "2",
         "2",
         "2",
         "2",
         "2",
         "2",
         "2",
         "2",
         "2",
         "2",
         "2",
         "2",
         "2",
         "2",
         "2",
         "2",
         "2",
         "2",
         "2",
         "2",
         "2",
         "2",
         "2",
         "2",
         "2",
         "2",
         "2",
         "2",
         "2",
         "2",
         "2",
         "2",
         "2",
         "2",
         "2",
         "2",
         "2",
         "2",
         "2",
         "2",
         "2",
         "2",
         "2",
         "2",
         "2",
         "2",
         "2",
         "2",
         "2",
         "2",
         "2",
         "2",
         "2",
         "2",
         "2",
         "2",
         "2",
         "2",
         "2",
         "2",
         "2",
         "2",
         "2",
         "2",
         "2",
         "2",
         "2",
         "2",
         "2",
         "2",
         "2",
         "2",
         "2",
         "2",
         "2",
         "2",
         "2",
         "2",
         "2",
         "2",
         "2",
         "2",
         "2",
         "2",
         "2",
         "2",
         "2",
         "2",
         "2",
         "2",
         "2",
         "2",
         "2",
         "2",
         "2",
         "2",
         "2",
         "2",
         "2",
         "2",
         "2",
         "2",
         "2",
         "2",
         "2",
         "2",
         "2",
         "1",
         "1",
         "1",
         "1",
         "1",
         "1",
         "1",
         "1",
         "1",
         "1",
         "1",
         "1",
         "2",
         "2",
         "2",
         "2",
         "2",
         "2",
         "2",
         "2",
         "2",
         "2",
         "2",
         "2",
         "2",
         "2",
         "2",
         "2",
         "2",
         "2",
         "2",
         "2",
         "2",
         "2",
         "2",
         "2",
         "2",
         "2",
         "2",
         "2",
         "2",
         "2",
         "2",
         "2",
         "2",
         "2",
         "2",
         "2",
         "2",
         "2",
         "2",
         "2",
         "2",
         "2",
         "2",
         "2",
         "2",
         "2",
         "2",
         "2",
         "2",
         "2",
         "2",
         "2",
         "2",
         "2",
         "2",
         "2",
         "2",
         "2",
         "2",
         "2",
         "2",
         "2",
         "2",
         "2",
         "2",
         "2",
         "2",
         "2",
         "2",
         "2",
         "2",
         "2",
         "1",
         "1",
         "1",
         "1",
         "1",
         "1",
         "1",
         "1",
         "1",
         "1",
         "1",
         "1",
         "1",
         "1",
         "1",
         "1",
         "1",
         "1",
         "1",
         "1",
         "1",
         "1",
         "1",
         "1",
         "2",
         "2",
         "2",
         "2",
         "2",
         "2",
         "2",
         "2",
         "2",
         "2",
         "2",
         "2",
         "2",
         "2",
         "2",
         "2",
         "2",
         "2",
         "2",
         "2",
         "2",
         "2",
         "2",
         "2",
         "2",
         "2",
         "2",
         "2",
         "2",
         "2",
         "2",
         "2",
         "2",
         "2",
         "2",
         "2",
         "2",
         "2",
         "2",
         "2",
         "2",
         "2",
         "2",
         "2",
         "2",
         "2",
         "2",
         "2",
         "1",
         "1",
         "1",
         "1",
         "1",
         "1",
         "1",
         "1",
         "1",
         "1",
         "1",
         "1",
         "1",
         "1",
         "1",
         "1",
         "1",
         "1",
         "1",
         "1",
         "1",
         "1",
         "1",
         "1",
         "1",
         "2",
         "2",
         "2",
         "2",
         "2",
         "2",
         "2",
         "2",
         "1",
         "1",
         "3",
         "3",
         "3",
         "3",
         "3",
         "3",
         "4",
         "3",
         "3",
         "3",
         "3",
         "3",
         "3",
         "3",
         "3",
         "3",
         "3",
         "3",
         "3",
         "3",
         "3",
         "3",
         "2",
         "2",
         "2",
         "2",
         "-1",
         "-1",
         "-1",
         "-1",
         "2",
         "2",
         "2",
         "2",
         "2",
         "2",
         "2",
         "2",
         "2",
         "2",
         "2",
         "2",
         "2",
         "2",
         "2",
         "2",
         "2",
         "2",
         "2",
         "2",
         "2",
         "2",
         "2",
         "2",
         "2",
         "2",
         "2",
         "2",
         "2",
         "2",
         "2",
         "2",
         "2",
         "2",
         "2",
         "2",
         "2",
         "2",
         "2",
         "2",
         "2",
         "2",
         "2",
         "2",
         "2",
         "2",
         "2",
         "2",
         "2",
         "2",
         "2",
         "2",
         "2",
         "2",
         "2",
         "2",
         "2",
         "2",
         "2",
         "2",
         "2",
         "2",
         "2",
         "2",
         "2",
         "2",
         "2",
         "2",
         "2",
         "2",
         "2",
         "2",
         "1",
         "1",
         "1",
         "1",
         "2",
         "2",
         "2",
         "2",
         "2",
         "2",
         "2",
         "2",
         "2",
         "2",
         "2",
         "2",
         "2",
         "2",
         "2",
         "2",
         "2",
         "2",
         "2",
         "2",
         "1",
         "1",
         "1",
         "1",
         "1",
         "1",
         "1",
         "1",
         "2",
         "2",
         "2",
         "2",
         "2",
         "2",
         "2",
         "2",
         "95",
         "95",
         "95",
         "1",
         "1",
         "1",
         "1",
         "1",
         "1",
         "1",
         "1",
         "1",
         "1",
         "1",
         "1",
         "1",
         "1",
         "1",
         "1",
         "1",
         "1",
         "2",
         "2",
         "-1",
         "1",
         "1",
         "1",
         "1",
         "1",
         "1",
         "4681",
         "3362",
         "691",
         "0",
         "0",
         "2671",
         "0",
         "0",
         "0",
         "0",
         "0",
         "0",
         "2671",
         "0",
         "8",
         "4001",
         "2430",
         "364",
         "0",
         "0",
         "2066",
         "0",
         "0",
         "0",
         "0",
         "0",
         "0",
         "2066",
         "0",
         "5",
         "3530",
         "2137",
         "364",
         "0",
         "0",
         "1773",
         "0",
         "0",
         "0",
         "0",
         "0",
         "0",
         "1773",
         "0",
         "0",
         "0",
         "0",
         "0",
         "0",
         "0",
         "0",
         "0",
         "0",
         "0",
         "0",
         "0",
         "0",
         "0",
         "0",
         "0",
         "0",
         "0",
         "0",
         "0",
         "0",
         "0",
         "0",
         "0",
         "0",
         "0",
         "0",
         "0",
         "0",
         "0",
         "0",
         "0",
         "0",
         "0",
         "0",
         "0",
         "0",
         "0",
         "0",
         "0",
         "0",
         "0",
         "0",
         "0",
         "0",
         "0",
         "0",
         "0",
         "0",
         "0",
         "0",
         "0",
         "0",
         "0",
         "0",
         "0",
         "0",
         "0",
         "0",
         "0",
         "0",
         "0",
         "0",
         "0",
         "0",
         "0",
         "0",
         "0",
         "0",
         "0",
         "0",
         "0",
         "0",
         "0",
         "0",
         "0",
         "0",
         "0",
         "0",
         "0",
         "0",
         "0",
         "0",
         "0",
         "0",
         "0",
         "0",
         "0",
         "0",
         "0",
         "0",
         "0",
         "0",
         "0",
         "0",
         "0",
         "0",
         "0",
         "0",
         "0",
         "0",
         "0",
         "0",
         "0",
         "0",
         "0",
         "0",
         "0",
         "0",
         "0",
         "0",
         "0",
         "0",
         "0",
         "0",
         "0",
         "0",
         "0",
         "0",
         "0",
         "0",
         "0",
         "0",
         "0",
         "0",
         "0",
         "0",
         "0",
         "0",
         "0",
         "0",
         "0",
         "0",
         "0",
         "0",
         "0",
         "0",
         "0",
         "0",
         "0",
         "0",
         "0",
         "0",
         "0",
         "0",
         "0",
         "0",
         "0",
         "0",
         "0",
         "0",
         "0",
         "0",
         "0",
         "0",
         "0",
         "0",
         "0",
         "0",
         "1",
         "457",
         "457",
         "0",
         "0",
         "0",
         "457",
         "0",
         "0",
         "0",
         "0",
         "0",
         "0",
         "457",
         "0",
         "0",
         "0",
         "0",
         "0",
         "0",
         "0",
         "0",
         "0",
         "0",
         "0",
         "0",
         "0",
         "0",
         "0",
         "0",
         "0",
         "0",
         "0",
         "0",
         "0",
         "0",
         "0",
         "0",
         "0",
         "0",
         "0",
         "0",
         "0",
         "0",
         "0",
         "0",
         "0",
         "223",
         "223",
         "85",
         "0",
         "0",
         "138",
         "0",
         "0",
         "0",
         "0",
         "0",
         "0",
         "138",
         "0",
         "0",
         "0",
         "0",
         "0",
         "0",
         "0",
         "0",
         "0",
         "0",
         "0",
         "0",
         "0",
         "0",
         "0",
         "23",
         "252",
         "242",
         "0",
         "0",
         "10",
         "0",
         "0",
         "0",
         "0",
         "0",
         "0",
         "10",
         "0",
         "10682.619947",
         "11344.291012",
         "11344.291012",
         "17152.439412",
         "0.0",
         "2041",
         "1"
        ]
       ],
       "shape": {
        "columns": 1420,
        "rows": 5
       }
      },
      "text/html": [
       "<div>\n",
       "<style scoped>\n",
       "    .dataframe tbody tr th:only-of-type {\n",
       "        vertical-align: middle;\n",
       "    }\n",
       "\n",
       "    .dataframe tbody tr th {\n",
       "        vertical-align: top;\n",
       "    }\n",
       "\n",
       "    .dataframe thead th {\n",
       "        text-align: right;\n",
       "    }\n",
       "</style>\n",
       "<table border=\"1\" class=\"dataframe\">\n",
       "  <thead>\n",
       "    <tr style=\"text-align: right;\">\n",
       "      <th></th>\n",
       "      <th>DUID</th>\n",
       "      <th>PID</th>\n",
       "      <th>DUPERSID</th>\n",
       "      <th>PANEL</th>\n",
       "      <th>DATAYEAR</th>\n",
       "      <th>FAMID31</th>\n",
       "      <th>FAMID42</th>\n",
       "      <th>FAMID53</th>\n",
       "      <th>FAMID22</th>\n",
       "      <th>FAMIDYR</th>\n",
       "      <th>...</th>\n",
       "      <th>RXOSR22</th>\n",
       "      <th>RXPTR22</th>\n",
       "      <th>RXOTH22</th>\n",
       "      <th>PERWT22F</th>\n",
       "      <th>FAMWT22F</th>\n",
       "      <th>FAMWT22C</th>\n",
       "      <th>SAQWT22F</th>\n",
       "      <th>DIABW22F</th>\n",
       "      <th>VARSTR</th>\n",
       "      <th>VARPSU</th>\n",
       "    </tr>\n",
       "  </thead>\n",
       "  <tbody>\n",
       "    <tr>\n",
       "      <th>0</th>\n",
       "      <td>2460002</td>\n",
       "      <td>101</td>\n",
       "      <td>2460002101</td>\n",
       "      <td>24</td>\n",
       "      <td>2022</td>\n",
       "      <td>A</td>\n",
       "      <td>A</td>\n",
       "      <td>A</td>\n",
       "      <td>A</td>\n",
       "      <td>A</td>\n",
       "      <td>...</td>\n",
       "      <td>0</td>\n",
       "      <td>0</td>\n",
       "      <td>0</td>\n",
       "      <td>5728.309495</td>\n",
       "      <td>5232.211986</td>\n",
       "      <td>5232.211986</td>\n",
       "      <td>3994.687140</td>\n",
       "      <td>6034.636755</td>\n",
       "      <td>2082</td>\n",
       "      <td>1</td>\n",
       "    </tr>\n",
       "    <tr>\n",
       "      <th>1</th>\n",
       "      <td>2460006</td>\n",
       "      <td>101</td>\n",
       "      <td>2460006101</td>\n",
       "      <td>24</td>\n",
       "      <td>2022</td>\n",
       "      <td>A</td>\n",
       "      <td>A</td>\n",
       "      <td>A</td>\n",
       "      <td>A</td>\n",
       "      <td>A</td>\n",
       "      <td>...</td>\n",
       "      <td>0</td>\n",
       "      <td>0</td>\n",
       "      <td>0</td>\n",
       "      <td>15648.881461</td>\n",
       "      <td>16017.881691</td>\n",
       "      <td>16017.881691</td>\n",
       "      <td>0.000000</td>\n",
       "      <td>0.000000</td>\n",
       "      <td>2001</td>\n",
       "      <td>4</td>\n",
       "    </tr>\n",
       "    <tr>\n",
       "      <th>2</th>\n",
       "      <td>2460006</td>\n",
       "      <td>102</td>\n",
       "      <td>2460006102</td>\n",
       "      <td>24</td>\n",
       "      <td>2022</td>\n",
       "      <td>A</td>\n",
       "      <td>A</td>\n",
       "      <td>A</td>\n",
       "      <td>A</td>\n",
       "      <td>A</td>\n",
       "      <td>...</td>\n",
       "      <td>0</td>\n",
       "      <td>0</td>\n",
       "      <td>0</td>\n",
       "      <td>14123.720178</td>\n",
       "      <td>16017.881691</td>\n",
       "      <td>12580.731740</td>\n",
       "      <td>0.000000</td>\n",
       "      <td>0.000000</td>\n",
       "      <td>2001</td>\n",
       "      <td>4</td>\n",
       "    </tr>\n",
       "    <tr>\n",
       "      <th>3</th>\n",
       "      <td>2460010</td>\n",
       "      <td>101</td>\n",
       "      <td>2460010101</td>\n",
       "      <td>24</td>\n",
       "      <td>2022</td>\n",
       "      <td>A</td>\n",
       "      <td>A</td>\n",
       "      <td>A</td>\n",
       "      <td>A</td>\n",
       "      <td>A</td>\n",
       "      <td>...</td>\n",
       "      <td>0</td>\n",
       "      <td>5288</td>\n",
       "      <td>299</td>\n",
       "      <td>16982.054917</td>\n",
       "      <td>21905.758877</td>\n",
       "      <td>21905.758877</td>\n",
       "      <td>0.000000</td>\n",
       "      <td>0.000000</td>\n",
       "      <td>2038</td>\n",
       "      <td>3</td>\n",
       "    </tr>\n",
       "    <tr>\n",
       "      <th>4</th>\n",
       "      <td>2460018</td>\n",
       "      <td>101</td>\n",
       "      <td>2460018101</td>\n",
       "      <td>24</td>\n",
       "      <td>2022</td>\n",
       "      <td>A</td>\n",
       "      <td>A</td>\n",
       "      <td>A</td>\n",
       "      <td>A</td>\n",
       "      <td>A</td>\n",
       "      <td>...</td>\n",
       "      <td>0</td>\n",
       "      <td>10</td>\n",
       "      <td>0</td>\n",
       "      <td>10682.619947</td>\n",
       "      <td>11344.291012</td>\n",
       "      <td>11344.291012</td>\n",
       "      <td>17152.439412</td>\n",
       "      <td>0.000000</td>\n",
       "      <td>2041</td>\n",
       "      <td>1</td>\n",
       "    </tr>\n",
       "  </tbody>\n",
       "</table>\n",
       "<p>5 rows × 1420 columns</p>\n",
       "</div>"
      ],
      "text/plain": [
       "      DUID  PID    DUPERSID  PANEL  DATAYEAR FAMID31 FAMID42 FAMID53 FAMID22  \\\n",
       "0  2460002  101  2460002101     24      2022       A       A       A       A   \n",
       "1  2460006  101  2460006101     24      2022       A       A       A       A   \n",
       "2  2460006  102  2460006102     24      2022       A       A       A       A   \n",
       "3  2460010  101  2460010101     24      2022       A       A       A       A   \n",
       "4  2460018  101  2460018101     24      2022       A       A       A       A   \n",
       "\n",
       "  FAMIDYR  ... RXOSR22  RXPTR22  RXOTH22      PERWT22F      FAMWT22F  \\\n",
       "0       A  ...       0        0        0   5728.309495   5232.211986   \n",
       "1       A  ...       0        0        0  15648.881461  16017.881691   \n",
       "2       A  ...       0        0        0  14123.720178  16017.881691   \n",
       "3       A  ...       0     5288      299  16982.054917  21905.758877   \n",
       "4       A  ...       0       10        0  10682.619947  11344.291012   \n",
       "\n",
       "       FAMWT22C      SAQWT22F     DIABW22F  VARSTR  VARPSU  \n",
       "0   5232.211986   3994.687140  6034.636755    2082       1  \n",
       "1  16017.881691      0.000000     0.000000    2001       4  \n",
       "2  12580.731740      0.000000     0.000000    2001       4  \n",
       "3  21905.758877      0.000000     0.000000    2038       3  \n",
       "4  11344.291012  17152.439412     0.000000    2041       1  \n",
       "\n",
       "[5 rows x 1420 columns]"
      ]
     },
     "execution_count": 5,
     "metadata": {},
     "output_type": "execute_result"
    }
   ],
   "source": [
    "df.head()"
   ]
  },
  {
   "cell_type": "code",
   "execution_count": 6,
   "metadata": {},
   "outputs": [],
   "source": [
    "# Select the columns of interest\n",
    "\n",
    "df_selected = df[['TOTEXP22', 'OBTOTV22', 'AGE22X', 'INS22X', 'FAMINC22']]"
   ]
  },
  {
   "cell_type": "code",
   "execution_count": 7,
   "metadata": {},
   "outputs": [
    {
     "data": {
      "application/vnd.microsoft.datawrangler.viewer.v0+json": {
       "columns": [
        {
         "name": "index",
         "rawType": "int64",
         "type": "integer"
        },
        {
         "name": "TOTEXP22",
         "rawType": "int64",
         "type": "integer"
        },
        {
         "name": "OBTOTV22",
         "rawType": "int64",
         "type": "integer"
        },
        {
         "name": "AGE22X",
         "rawType": "int64",
         "type": "integer"
        },
        {
         "name": "INS22X",
         "rawType": "int64",
         "type": "integer"
        },
        {
         "name": "FAMINC22",
         "rawType": "int64",
         "type": "integer"
        }
       ],
       "conversionMethod": "pd.DataFrame",
       "ref": "b8724a1d-9823-4261-b689-14832a026f4c",
       "rows": [
        [
         "0",
         "15766",
         "2",
         "77",
         "1",
         "22000"
        ],
        [
         "1",
         "12697",
         "28",
         "64",
         "1",
         "5000"
        ],
        [
         "2",
         "3405",
         "1",
         "67",
         "1",
         "30740"
        ],
        [
         "3",
         "9265",
         "16",
         "29",
         "1",
         "106483"
        ],
        [
         "4",
         "3362",
         "8",
         "51",
         "1",
         "45000"
        ],
        [
         "5",
         "35",
         "0",
         "58",
         "2",
         "47405"
        ],
        [
         "6",
         "5710",
         "6",
         "42",
         "1",
         "40000"
        ],
        [
         "7",
         "1389",
         "1",
         "8",
         "1",
         "40000"
        ],
        [
         "8",
         "18165",
         "8",
         "53",
         "1",
         "98000"
        ],
        [
         "9",
         "9984",
         "10",
         "69",
         "1",
         "98000"
        ],
        [
         "10",
         "3044",
         "14",
         "72",
         "1",
         "95500"
        ],
        [
         "11",
         "1763",
         "1",
         "37",
         "1",
         "202349"
        ],
        [
         "12",
         "250",
         "1",
         "37",
         "1",
         "202349"
        ],
        [
         "13",
         "5486",
         "24",
         "81",
         "1",
         "50800"
        ],
        [
         "14",
         "32589",
         "21",
         "75",
         "1",
         "22500"
        ],
        [
         "15",
         "3166",
         "5",
         "60",
         "1",
         "84175"
        ],
        [
         "16",
         "9285",
         "4",
         "85",
         "1",
         "15119"
        ],
        [
         "17",
         "305",
         "1",
         "33",
         "1",
         "155000"
        ],
        [
         "18",
         "0",
         "1",
         "21",
         "2",
         "155000"
        ],
        [
         "19",
         "1170",
         "2",
         "36",
         "1",
         "155000"
        ]
       ],
       "shape": {
        "columns": 5,
        "rows": 20
       }
      },
      "text/html": [
       "<div>\n",
       "<style scoped>\n",
       "    .dataframe tbody tr th:only-of-type {\n",
       "        vertical-align: middle;\n",
       "    }\n",
       "\n",
       "    .dataframe tbody tr th {\n",
       "        vertical-align: top;\n",
       "    }\n",
       "\n",
       "    .dataframe thead th {\n",
       "        text-align: right;\n",
       "    }\n",
       "</style>\n",
       "<table border=\"1\" class=\"dataframe\">\n",
       "  <thead>\n",
       "    <tr style=\"text-align: right;\">\n",
       "      <th></th>\n",
       "      <th>TOTEXP22</th>\n",
       "      <th>OBTOTV22</th>\n",
       "      <th>AGE22X</th>\n",
       "      <th>INS22X</th>\n",
       "      <th>FAMINC22</th>\n",
       "    </tr>\n",
       "  </thead>\n",
       "  <tbody>\n",
       "    <tr>\n",
       "      <th>0</th>\n",
       "      <td>15766</td>\n",
       "      <td>2</td>\n",
       "      <td>77</td>\n",
       "      <td>1</td>\n",
       "      <td>22000</td>\n",
       "    </tr>\n",
       "    <tr>\n",
       "      <th>1</th>\n",
       "      <td>12697</td>\n",
       "      <td>28</td>\n",
       "      <td>64</td>\n",
       "      <td>1</td>\n",
       "      <td>5000</td>\n",
       "    </tr>\n",
       "    <tr>\n",
       "      <th>2</th>\n",
       "      <td>3405</td>\n",
       "      <td>1</td>\n",
       "      <td>67</td>\n",
       "      <td>1</td>\n",
       "      <td>30740</td>\n",
       "    </tr>\n",
       "    <tr>\n",
       "      <th>3</th>\n",
       "      <td>9265</td>\n",
       "      <td>16</td>\n",
       "      <td>29</td>\n",
       "      <td>1</td>\n",
       "      <td>106483</td>\n",
       "    </tr>\n",
       "    <tr>\n",
       "      <th>4</th>\n",
       "      <td>3362</td>\n",
       "      <td>8</td>\n",
       "      <td>51</td>\n",
       "      <td>1</td>\n",
       "      <td>45000</td>\n",
       "    </tr>\n",
       "    <tr>\n",
       "      <th>5</th>\n",
       "      <td>35</td>\n",
       "      <td>0</td>\n",
       "      <td>58</td>\n",
       "      <td>2</td>\n",
       "      <td>47405</td>\n",
       "    </tr>\n",
       "    <tr>\n",
       "      <th>6</th>\n",
       "      <td>5710</td>\n",
       "      <td>6</td>\n",
       "      <td>42</td>\n",
       "      <td>1</td>\n",
       "      <td>40000</td>\n",
       "    </tr>\n",
       "    <tr>\n",
       "      <th>7</th>\n",
       "      <td>1389</td>\n",
       "      <td>1</td>\n",
       "      <td>8</td>\n",
       "      <td>1</td>\n",
       "      <td>40000</td>\n",
       "    </tr>\n",
       "    <tr>\n",
       "      <th>8</th>\n",
       "      <td>18165</td>\n",
       "      <td>8</td>\n",
       "      <td>53</td>\n",
       "      <td>1</td>\n",
       "      <td>98000</td>\n",
       "    </tr>\n",
       "    <tr>\n",
       "      <th>9</th>\n",
       "      <td>9984</td>\n",
       "      <td>10</td>\n",
       "      <td>69</td>\n",
       "      <td>1</td>\n",
       "      <td>98000</td>\n",
       "    </tr>\n",
       "    <tr>\n",
       "      <th>10</th>\n",
       "      <td>3044</td>\n",
       "      <td>14</td>\n",
       "      <td>72</td>\n",
       "      <td>1</td>\n",
       "      <td>95500</td>\n",
       "    </tr>\n",
       "    <tr>\n",
       "      <th>11</th>\n",
       "      <td>1763</td>\n",
       "      <td>1</td>\n",
       "      <td>37</td>\n",
       "      <td>1</td>\n",
       "      <td>202349</td>\n",
       "    </tr>\n",
       "    <tr>\n",
       "      <th>12</th>\n",
       "      <td>250</td>\n",
       "      <td>1</td>\n",
       "      <td>37</td>\n",
       "      <td>1</td>\n",
       "      <td>202349</td>\n",
       "    </tr>\n",
       "    <tr>\n",
       "      <th>13</th>\n",
       "      <td>5486</td>\n",
       "      <td>24</td>\n",
       "      <td>81</td>\n",
       "      <td>1</td>\n",
       "      <td>50800</td>\n",
       "    </tr>\n",
       "    <tr>\n",
       "      <th>14</th>\n",
       "      <td>32589</td>\n",
       "      <td>21</td>\n",
       "      <td>75</td>\n",
       "      <td>1</td>\n",
       "      <td>22500</td>\n",
       "    </tr>\n",
       "    <tr>\n",
       "      <th>15</th>\n",
       "      <td>3166</td>\n",
       "      <td>5</td>\n",
       "      <td>60</td>\n",
       "      <td>1</td>\n",
       "      <td>84175</td>\n",
       "    </tr>\n",
       "    <tr>\n",
       "      <th>16</th>\n",
       "      <td>9285</td>\n",
       "      <td>4</td>\n",
       "      <td>85</td>\n",
       "      <td>1</td>\n",
       "      <td>15119</td>\n",
       "    </tr>\n",
       "    <tr>\n",
       "      <th>17</th>\n",
       "      <td>305</td>\n",
       "      <td>1</td>\n",
       "      <td>33</td>\n",
       "      <td>1</td>\n",
       "      <td>155000</td>\n",
       "    </tr>\n",
       "    <tr>\n",
       "      <th>18</th>\n",
       "      <td>0</td>\n",
       "      <td>1</td>\n",
       "      <td>21</td>\n",
       "      <td>2</td>\n",
       "      <td>155000</td>\n",
       "    </tr>\n",
       "    <tr>\n",
       "      <th>19</th>\n",
       "      <td>1170</td>\n",
       "      <td>2</td>\n",
       "      <td>36</td>\n",
       "      <td>1</td>\n",
       "      <td>155000</td>\n",
       "    </tr>\n",
       "  </tbody>\n",
       "</table>\n",
       "</div>"
      ],
      "text/plain": [
       "    TOTEXP22  OBTOTV22  AGE22X  INS22X  FAMINC22\n",
       "0      15766         2      77       1     22000\n",
       "1      12697        28      64       1      5000\n",
       "2       3405         1      67       1     30740\n",
       "3       9265        16      29       1    106483\n",
       "4       3362         8      51       1     45000\n",
       "5         35         0      58       2     47405\n",
       "6       5710         6      42       1     40000\n",
       "7       1389         1       8       1     40000\n",
       "8      18165         8      53       1     98000\n",
       "9       9984        10      69       1     98000\n",
       "10      3044        14      72       1     95500\n",
       "11      1763         1      37       1    202349\n",
       "12       250         1      37       1    202349\n",
       "13      5486        24      81       1     50800\n",
       "14     32589        21      75       1     22500\n",
       "15      3166         5      60       1     84175\n",
       "16      9285         4      85       1     15119\n",
       "17       305         1      33       1    155000\n",
       "18         0         1      21       2    155000\n",
       "19      1170         2      36       1    155000"
      ]
     },
     "execution_count": 7,
     "metadata": {},
     "output_type": "execute_result"
    }
   ],
   "source": [
    "# \n",
    "\n",
    "df_selected.head(20)"
   ]
  },
  {
   "cell_type": "code",
   "execution_count": 8,
   "metadata": {},
   "outputs": [
    {
     "data": {
      "text/plain": [
       "TOTEXP22    0\n",
       "OBTOTV22    0\n",
       "AGE22X      0\n",
       "INS22X      0\n",
       "FAMINC22    0\n",
       "dtype: int64"
      ]
     },
     "execution_count": 8,
     "metadata": {},
     "output_type": "execute_result"
    }
   ],
   "source": [
    "# Check for missing values\n",
    "\n",
    "df_selected.isnull().sum()"
   ]
  },
  {
   "cell_type": "code",
   "execution_count": 9,
   "metadata": {},
   "outputs": [
    {
     "data": {
      "text/plain": [
       "TOTEXP22    int64\n",
       "OBTOTV22    int64\n",
       "AGE22X      int64\n",
       "INS22X      int64\n",
       "FAMINC22    int64\n",
       "dtype: object"
      ]
     },
     "execution_count": 9,
     "metadata": {},
     "output_type": "execute_result"
    }
   ],
   "source": [
    "# checking for data types\n",
    "\n",
    "df_selected.dtypes"
   ]
  },
  {
   "cell_type": "code",
   "execution_count": 10,
   "metadata": {},
   "outputs": [
    {
     "data": {
      "application/vnd.microsoft.datawrangler.viewer.v0+json": {
       "columns": [
        {
         "name": "index",
         "rawType": "object",
         "type": "string"
        },
        {
         "name": "TOTEXP22",
         "rawType": "float64",
         "type": "float"
        },
        {
         "name": "OBTOTV22",
         "rawType": "float64",
         "type": "float"
        },
        {
         "name": "AGE22X",
         "rawType": "float64",
         "type": "float"
        },
        {
         "name": "INS22X",
         "rawType": "float64",
         "type": "float"
        },
        {
         "name": "FAMINC22",
         "rawType": "float64",
         "type": "float"
        }
       ],
       "conversionMethod": "pd.DataFrame",
       "ref": "73f0fec1-2cae-45b8-bd55-260e4aa49147",
       "rows": [
        [
         "count",
         "22431.0",
         "22431.0",
         "22431.0",
         "22431.0",
         "22431.0"
        ],
        [
         "mean",
         "7639.477241317819",
         "6.743480005349739",
         "42.96375551691855",
         "1.0774820560830993",
         "90706.4379207347"
        ],
        [
         "std",
         "22993.674164475837",
         "13.030561805606018",
         "23.998942551042195",
         "0.35163056816179356",
         "88577.27655574818"
        ],
        [
         "min",
         "0.0",
         "0.0",
         "-1.0",
         "-1.0",
         "-635454.0"
        ],
        [
         "25%",
         "260.0",
         "0.0",
         "22.0",
         "1.0",
         "30000.0"
        ],
        [
         "50%",
         "1605.0",
         "2.0",
         "44.0",
         "1.0",
         "65800.0"
        ],
        [
         "75%",
         "6409.0",
         "7.0",
         "63.0",
         "1.0",
         "125000.0"
        ],
        [
         "max",
         "1338276.0",
         "341.0",
         "85.0",
         "2.0",
         "787696.0"
        ]
       ],
       "shape": {
        "columns": 5,
        "rows": 8
       }
      },
      "text/html": [
       "<div>\n",
       "<style scoped>\n",
       "    .dataframe tbody tr th:only-of-type {\n",
       "        vertical-align: middle;\n",
       "    }\n",
       "\n",
       "    .dataframe tbody tr th {\n",
       "        vertical-align: top;\n",
       "    }\n",
       "\n",
       "    .dataframe thead th {\n",
       "        text-align: right;\n",
       "    }\n",
       "</style>\n",
       "<table border=\"1\" class=\"dataframe\">\n",
       "  <thead>\n",
       "    <tr style=\"text-align: right;\">\n",
       "      <th></th>\n",
       "      <th>TOTEXP22</th>\n",
       "      <th>OBTOTV22</th>\n",
       "      <th>AGE22X</th>\n",
       "      <th>INS22X</th>\n",
       "      <th>FAMINC22</th>\n",
       "    </tr>\n",
       "  </thead>\n",
       "  <tbody>\n",
       "    <tr>\n",
       "      <th>count</th>\n",
       "      <td>2.243100e+04</td>\n",
       "      <td>22431.000000</td>\n",
       "      <td>22431.000000</td>\n",
       "      <td>22431.000000</td>\n",
       "      <td>22431.000000</td>\n",
       "    </tr>\n",
       "    <tr>\n",
       "      <th>mean</th>\n",
       "      <td>7.639477e+03</td>\n",
       "      <td>6.743480</td>\n",
       "      <td>42.963756</td>\n",
       "      <td>1.077482</td>\n",
       "      <td>90706.437921</td>\n",
       "    </tr>\n",
       "    <tr>\n",
       "      <th>std</th>\n",
       "      <td>2.299367e+04</td>\n",
       "      <td>13.030562</td>\n",
       "      <td>23.998943</td>\n",
       "      <td>0.351631</td>\n",
       "      <td>88577.276556</td>\n",
       "    </tr>\n",
       "    <tr>\n",
       "      <th>min</th>\n",
       "      <td>0.000000e+00</td>\n",
       "      <td>0.000000</td>\n",
       "      <td>-1.000000</td>\n",
       "      <td>-1.000000</td>\n",
       "      <td>-635454.000000</td>\n",
       "    </tr>\n",
       "    <tr>\n",
       "      <th>25%</th>\n",
       "      <td>2.600000e+02</td>\n",
       "      <td>0.000000</td>\n",
       "      <td>22.000000</td>\n",
       "      <td>1.000000</td>\n",
       "      <td>30000.000000</td>\n",
       "    </tr>\n",
       "    <tr>\n",
       "      <th>50%</th>\n",
       "      <td>1.605000e+03</td>\n",
       "      <td>2.000000</td>\n",
       "      <td>44.000000</td>\n",
       "      <td>1.000000</td>\n",
       "      <td>65800.000000</td>\n",
       "    </tr>\n",
       "    <tr>\n",
       "      <th>75%</th>\n",
       "      <td>6.409000e+03</td>\n",
       "      <td>7.000000</td>\n",
       "      <td>63.000000</td>\n",
       "      <td>1.000000</td>\n",
       "      <td>125000.000000</td>\n",
       "    </tr>\n",
       "    <tr>\n",
       "      <th>max</th>\n",
       "      <td>1.338276e+06</td>\n",
       "      <td>341.000000</td>\n",
       "      <td>85.000000</td>\n",
       "      <td>2.000000</td>\n",
       "      <td>787696.000000</td>\n",
       "    </tr>\n",
       "  </tbody>\n",
       "</table>\n",
       "</div>"
      ],
      "text/plain": [
       "           TOTEXP22      OBTOTV22        AGE22X        INS22X       FAMINC22\n",
       "count  2.243100e+04  22431.000000  22431.000000  22431.000000   22431.000000\n",
       "mean   7.639477e+03      6.743480     42.963756      1.077482   90706.437921\n",
       "std    2.299367e+04     13.030562     23.998943      0.351631   88577.276556\n",
       "min    0.000000e+00      0.000000     -1.000000     -1.000000 -635454.000000\n",
       "25%    2.600000e+02      0.000000     22.000000      1.000000   30000.000000\n",
       "50%    1.605000e+03      2.000000     44.000000      1.000000   65800.000000\n",
       "75%    6.409000e+03      7.000000     63.000000      1.000000  125000.000000\n",
       "max    1.338276e+06    341.000000     85.000000      2.000000  787696.000000"
      ]
     },
     "execution_count": 10,
     "metadata": {},
     "output_type": "execute_result"
    }
   ],
   "source": [
    "df_selected.describe()"
   ]
  },
  {
   "cell_type": "code",
   "execution_count": 11,
   "metadata": {},
   "outputs": [
    {
     "data": {
      "application/vnd.microsoft.datawrangler.viewer.v0+json": {
       "columns": [
        {
         "name": "index",
         "rawType": "int64",
         "type": "integer"
        },
        {
         "name": "TOTEXP22",
         "rawType": "int64",
         "type": "integer"
        },
        {
         "name": "OBTOTV22",
         "rawType": "int64",
         "type": "integer"
        },
        {
         "name": "AGE22X",
         "rawType": "int64",
         "type": "integer"
        },
        {
         "name": "INS22X",
         "rawType": "int64",
         "type": "integer"
        },
        {
         "name": "FAMINC22",
         "rawType": "int64",
         "type": "integer"
        }
       ],
       "conversionMethod": "pd.DataFrame",
       "ref": "02f106bf-a649-4d41-9698-4a3cc842c49a",
       "rows": [
        [
         "40",
         "2977",
         "1",
         "63",
         "1",
         "0"
        ],
        [
         "57",
         "632",
         "0",
         "49",
         "1",
         "0"
        ],
        [
         "73",
         "0",
         "0",
         "32",
         "1",
         "0"
        ],
        [
         "75",
         "0",
         "0",
         "15",
         "1",
         "0"
        ],
        [
         "76",
         "0",
         "0",
         "14",
         "1",
         "0"
        ],
        [
         "77",
         "0",
         "0",
         "13",
         "1",
         "0"
        ],
        [
         "78",
         "0",
         "0",
         "13",
         "1",
         "0"
        ],
        [
         "79",
         "0",
         "0",
         "9",
         "1",
         "0"
        ],
        [
         "80",
         "0",
         "0",
         "5",
         "1",
         "0"
        ],
        [
         "81",
         "20218",
         "4",
         "52",
         "1",
         "0"
        ],
        [
         "94",
         "0",
         "0",
         "39",
         "2",
         "0"
        ],
        [
         "96",
         "121",
         "0",
         "9",
         "1",
         "0"
        ],
        [
         "97",
         "427",
         "1",
         "16",
         "1",
         "0"
        ],
        [
         "104",
         "21323",
         "4",
         "79",
         "1",
         "0"
        ],
        [
         "111",
         "497",
         "0",
         "31",
         "1",
         "0"
        ],
        [
         "139",
         "4256",
         "7",
         "41",
         "2",
         "0"
        ],
        [
         "140",
         "87",
         "1",
         "9",
         "1",
         "0"
        ],
        [
         "141",
         "709",
         "4",
         "1",
         "1",
         "0"
        ],
        [
         "152",
         "64460",
         "4",
         "69",
         "1",
         "0"
        ],
        [
         "206",
         "4440",
         "14",
         "57",
         "1",
         "0"
        ],
        [
         "220",
         "4288",
         "3",
         "48",
         "1",
         "0"
        ],
        [
         "222",
         "110",
         "1",
         "8",
         "1",
         "0"
        ],
        [
         "223",
         "0",
         "0",
         "5",
         "1",
         "0"
        ],
        [
         "262",
         "1103",
         "3",
         "12",
         "1",
         "0"
        ],
        [
         "263",
         "2244",
         "6",
         "9",
         "1",
         "0"
        ],
        [
         "278",
         "106",
         "0",
         "27",
         "2",
         "0"
        ],
        [
         "293",
         "24304",
         "41",
         "67",
         "1",
         "0"
        ],
        [
         "332",
         "35568",
         "14",
         "56",
         "1",
         "0"
        ],
        [
         "339",
         "3595",
         "11",
         "72",
         "1",
         "0"
        ],
        [
         "382",
         "0",
         "0",
         "27",
         "2",
         "0"
        ],
        [
         "407",
         "33518",
         "14",
         "66",
         "1",
         "0"
        ],
        [
         "478",
         "25216",
         "10",
         "57",
         "1",
         "0"
        ],
        [
         "492",
         "1881",
         "2",
         "71",
         "1",
         "0"
        ],
        [
         "536",
         "728",
         "3",
         "23",
         "1",
         "0"
        ],
        [
         "595",
         "0",
         "0",
         "56",
         "1",
         "0"
        ],
        [
         "613",
         "0",
         "0",
         "45",
         "2",
         "0"
        ],
        [
         "627",
         "2769",
         "13",
         "44",
         "1",
         "0"
        ],
        [
         "697",
         "18",
         "0",
         "56",
         "1",
         "0"
        ],
        [
         "698",
         "18",
         "0",
         "58",
         "2",
         "0"
        ],
        [
         "723",
         "2785",
         "1",
         "60",
         "1",
         "0"
        ],
        [
         "726",
         "1191",
         "0",
         "61",
         "1",
         "0"
        ],
        [
         "776",
         "1242",
         "10",
         "40",
         "2",
         "0"
        ],
        [
         "793",
         "638",
         "4",
         "23",
         "1",
         "0"
        ],
        [
         "834",
         "2751",
         "7",
         "78",
         "1",
         "0"
        ],
        [
         "835",
         "0",
         "0",
         "76",
         "1",
         "0"
        ],
        [
         "868",
         "0",
         "0",
         "27",
         "1",
         "0"
        ],
        [
         "895",
         "427",
         "0",
         "43",
         "1",
         "0"
        ],
        [
         "914",
         "2638",
         "3",
         "73",
         "1",
         "0"
        ],
        [
         "930",
         "19695",
         "16",
         "80",
         "1",
         "0"
        ],
        [
         "959",
         "290",
         "0",
         "30",
         "1",
         "0"
        ]
       ],
       "shape": {
        "columns": 5,
        "rows": 828
       }
      },
      "text/html": [
       "<div>\n",
       "<style scoped>\n",
       "    .dataframe tbody tr th:only-of-type {\n",
       "        vertical-align: middle;\n",
       "    }\n",
       "\n",
       "    .dataframe tbody tr th {\n",
       "        vertical-align: top;\n",
       "    }\n",
       "\n",
       "    .dataframe thead th {\n",
       "        text-align: right;\n",
       "    }\n",
       "</style>\n",
       "<table border=\"1\" class=\"dataframe\">\n",
       "  <thead>\n",
       "    <tr style=\"text-align: right;\">\n",
       "      <th></th>\n",
       "      <th>TOTEXP22</th>\n",
       "      <th>OBTOTV22</th>\n",
       "      <th>AGE22X</th>\n",
       "      <th>INS22X</th>\n",
       "      <th>FAMINC22</th>\n",
       "    </tr>\n",
       "  </thead>\n",
       "  <tbody>\n",
       "    <tr>\n",
       "      <th>40</th>\n",
       "      <td>2977</td>\n",
       "      <td>1</td>\n",
       "      <td>63</td>\n",
       "      <td>1</td>\n",
       "      <td>0</td>\n",
       "    </tr>\n",
       "    <tr>\n",
       "      <th>57</th>\n",
       "      <td>632</td>\n",
       "      <td>0</td>\n",
       "      <td>49</td>\n",
       "      <td>1</td>\n",
       "      <td>0</td>\n",
       "    </tr>\n",
       "    <tr>\n",
       "      <th>73</th>\n",
       "      <td>0</td>\n",
       "      <td>0</td>\n",
       "      <td>32</td>\n",
       "      <td>1</td>\n",
       "      <td>0</td>\n",
       "    </tr>\n",
       "    <tr>\n",
       "      <th>75</th>\n",
       "      <td>0</td>\n",
       "      <td>0</td>\n",
       "      <td>15</td>\n",
       "      <td>1</td>\n",
       "      <td>0</td>\n",
       "    </tr>\n",
       "    <tr>\n",
       "      <th>76</th>\n",
       "      <td>0</td>\n",
       "      <td>0</td>\n",
       "      <td>14</td>\n",
       "      <td>1</td>\n",
       "      <td>0</td>\n",
       "    </tr>\n",
       "    <tr>\n",
       "      <th>...</th>\n",
       "      <td>...</td>\n",
       "      <td>...</td>\n",
       "      <td>...</td>\n",
       "      <td>...</td>\n",
       "      <td>...</td>\n",
       "    </tr>\n",
       "    <tr>\n",
       "      <th>22238</th>\n",
       "      <td>0</td>\n",
       "      <td>0</td>\n",
       "      <td>31</td>\n",
       "      <td>1</td>\n",
       "      <td>0</td>\n",
       "    </tr>\n",
       "    <tr>\n",
       "      <th>22239</th>\n",
       "      <td>648</td>\n",
       "      <td>2</td>\n",
       "      <td>11</td>\n",
       "      <td>1</td>\n",
       "      <td>0</td>\n",
       "    </tr>\n",
       "    <tr>\n",
       "      <th>22240</th>\n",
       "      <td>75</td>\n",
       "      <td>1</td>\n",
       "      <td>5</td>\n",
       "      <td>1</td>\n",
       "      <td>0</td>\n",
       "    </tr>\n",
       "    <tr>\n",
       "      <th>22323</th>\n",
       "      <td>4172</td>\n",
       "      <td>16</td>\n",
       "      <td>74</td>\n",
       "      <td>1</td>\n",
       "      <td>0</td>\n",
       "    </tr>\n",
       "    <tr>\n",
       "      <th>22366</th>\n",
       "      <td>6549</td>\n",
       "      <td>7</td>\n",
       "      <td>75</td>\n",
       "      <td>1</td>\n",
       "      <td>0</td>\n",
       "    </tr>\n",
       "  </tbody>\n",
       "</table>\n",
       "<p>828 rows × 5 columns</p>\n",
       "</div>"
      ],
      "text/plain": [
       "       TOTEXP22  OBTOTV22  AGE22X  INS22X  FAMINC22\n",
       "40         2977         1      63       1         0\n",
       "57          632         0      49       1         0\n",
       "73            0         0      32       1         0\n",
       "75            0         0      15       1         0\n",
       "76            0         0      14       1         0\n",
       "...         ...       ...     ...     ...       ...\n",
       "22238         0         0      31       1         0\n",
       "22239       648         2      11       1         0\n",
       "22240        75         1       5       1         0\n",
       "22323      4172        16      74       1         0\n",
       "22366      6549         7      75       1         0\n",
       "\n",
       "[828 rows x 5 columns]"
      ]
     },
     "execution_count": 11,
     "metadata": {},
     "output_type": "execute_result"
    }
   ],
   "source": [
    "# Check for outliers\n",
    "\n",
    "df_selected[df_selected['FAMINC22'] <= 0]#.count()"
   ]
  },
  {
   "cell_type": "code",
   "execution_count": 12,
   "metadata": {},
   "outputs": [],
   "source": [
    "df_selected = df_selected[df_selected['FAMINC22'] >= 0]"
   ]
  },
  {
   "cell_type": "code",
   "execution_count": 13,
   "metadata": {},
   "outputs": [
    {
     "data": {
      "application/vnd.microsoft.datawrangler.viewer.v0+json": {
       "columns": [
        {
         "name": "index",
         "rawType": "object",
         "type": "string"
        },
        {
         "name": "TOTEXP22",
         "rawType": "float64",
         "type": "float"
        },
        {
         "name": "OBTOTV22",
         "rawType": "float64",
         "type": "float"
        },
        {
         "name": "AGE22X",
         "rawType": "float64",
         "type": "float"
        },
        {
         "name": "INS22X",
         "rawType": "float64",
         "type": "float"
        },
        {
         "name": "FAMINC22",
         "rawType": "float64",
         "type": "float"
        }
       ],
       "conversionMethod": "pd.DataFrame",
       "ref": "bafd5612-2903-448c-9b35-e59768fa7a9d",
       "rows": [
        [
         "count",
         "22414.0",
         "22414.0",
         "22414.0",
         "22414.0",
         "22414.0"
        ],
        [
         "mean",
         "7641.097840635317",
         "6.741590077630053",
         "42.97019719817971",
         "1.0773177478361737",
         "90971.3616489694"
        ],
        [
         "std",
         "22999.23929983649",
         "13.025701917428156",
         "24.000474135815743",
         "0.35148932246853865",
         "87727.67366927631"
        ],
        [
         "min",
         "0.0",
         "0.0",
         "-1.0",
         "-1.0",
         "0.0"
        ],
        [
         "25%",
         "260.0",
         "0.0",
         "22.0",
         "1.0",
         "30000.0"
        ],
        [
         "50%",
         "1605.0",
         "2.0",
         "44.0",
         "1.0",
         "65916.0"
        ],
        [
         "75%",
         "6415.5",
         "7.0",
         "63.0",
         "1.0",
         "125000.0"
        ],
        [
         "max",
         "1338276.0",
         "341.0",
         "85.0",
         "2.0",
         "787696.0"
        ]
       ],
       "shape": {
        "columns": 5,
        "rows": 8
       }
      },
      "text/html": [
       "<div>\n",
       "<style scoped>\n",
       "    .dataframe tbody tr th:only-of-type {\n",
       "        vertical-align: middle;\n",
       "    }\n",
       "\n",
       "    .dataframe tbody tr th {\n",
       "        vertical-align: top;\n",
       "    }\n",
       "\n",
       "    .dataframe thead th {\n",
       "        text-align: right;\n",
       "    }\n",
       "</style>\n",
       "<table border=\"1\" class=\"dataframe\">\n",
       "  <thead>\n",
       "    <tr style=\"text-align: right;\">\n",
       "      <th></th>\n",
       "      <th>TOTEXP22</th>\n",
       "      <th>OBTOTV22</th>\n",
       "      <th>AGE22X</th>\n",
       "      <th>INS22X</th>\n",
       "      <th>FAMINC22</th>\n",
       "    </tr>\n",
       "  </thead>\n",
       "  <tbody>\n",
       "    <tr>\n",
       "      <th>count</th>\n",
       "      <td>2.241400e+04</td>\n",
       "      <td>22414.000000</td>\n",
       "      <td>22414.000000</td>\n",
       "      <td>22414.000000</td>\n",
       "      <td>22414.000000</td>\n",
       "    </tr>\n",
       "    <tr>\n",
       "      <th>mean</th>\n",
       "      <td>7.641098e+03</td>\n",
       "      <td>6.741590</td>\n",
       "      <td>42.970197</td>\n",
       "      <td>1.077318</td>\n",
       "      <td>90971.361649</td>\n",
       "    </tr>\n",
       "    <tr>\n",
       "      <th>std</th>\n",
       "      <td>2.299924e+04</td>\n",
       "      <td>13.025702</td>\n",
       "      <td>24.000474</td>\n",
       "      <td>0.351489</td>\n",
       "      <td>87727.673669</td>\n",
       "    </tr>\n",
       "    <tr>\n",
       "      <th>min</th>\n",
       "      <td>0.000000e+00</td>\n",
       "      <td>0.000000</td>\n",
       "      <td>-1.000000</td>\n",
       "      <td>-1.000000</td>\n",
       "      <td>0.000000</td>\n",
       "    </tr>\n",
       "    <tr>\n",
       "      <th>25%</th>\n",
       "      <td>2.600000e+02</td>\n",
       "      <td>0.000000</td>\n",
       "      <td>22.000000</td>\n",
       "      <td>1.000000</td>\n",
       "      <td>30000.000000</td>\n",
       "    </tr>\n",
       "    <tr>\n",
       "      <th>50%</th>\n",
       "      <td>1.605000e+03</td>\n",
       "      <td>2.000000</td>\n",
       "      <td>44.000000</td>\n",
       "      <td>1.000000</td>\n",
       "      <td>65916.000000</td>\n",
       "    </tr>\n",
       "    <tr>\n",
       "      <th>75%</th>\n",
       "      <td>6.415500e+03</td>\n",
       "      <td>7.000000</td>\n",
       "      <td>63.000000</td>\n",
       "      <td>1.000000</td>\n",
       "      <td>125000.000000</td>\n",
       "    </tr>\n",
       "    <tr>\n",
       "      <th>max</th>\n",
       "      <td>1.338276e+06</td>\n",
       "      <td>341.000000</td>\n",
       "      <td>85.000000</td>\n",
       "      <td>2.000000</td>\n",
       "      <td>787696.000000</td>\n",
       "    </tr>\n",
       "  </tbody>\n",
       "</table>\n",
       "</div>"
      ],
      "text/plain": [
       "           TOTEXP22      OBTOTV22        AGE22X        INS22X       FAMINC22\n",
       "count  2.241400e+04  22414.000000  22414.000000  22414.000000   22414.000000\n",
       "mean   7.641098e+03      6.741590     42.970197      1.077318   90971.361649\n",
       "std    2.299924e+04     13.025702     24.000474      0.351489   87727.673669\n",
       "min    0.000000e+00      0.000000     -1.000000     -1.000000       0.000000\n",
       "25%    2.600000e+02      0.000000     22.000000      1.000000   30000.000000\n",
       "50%    1.605000e+03      2.000000     44.000000      1.000000   65916.000000\n",
       "75%    6.415500e+03      7.000000     63.000000      1.000000  125000.000000\n",
       "max    1.338276e+06    341.000000     85.000000      2.000000  787696.000000"
      ]
     },
     "execution_count": 13,
     "metadata": {},
     "output_type": "execute_result"
    }
   ],
   "source": [
    "df_selected.describe()"
   ]
  },
  {
   "cell_type": "code",
   "execution_count": 14,
   "metadata": {},
   "outputs": [
    {
     "data": {
      "text/plain": [
       "<Axes: xlabel='OBTOTV22', ylabel='TOTEXP22'>"
      ]
     },
     "execution_count": 14,
     "metadata": {},
     "output_type": "execute_result"
    },
    {
     "data": {
      "image/png": "[encoded data removed]",
      "text/plain": [
       "<Figure size 640x480 with 1 Axes>"
      ]
     },
     "metadata": {},
     "output_type": "display_data"
    }
   ],
   "source": [
    "sns.scatterplot(x='OBTOTV22', y='TOTEXP22', data=df_selected)"
   ]
  },
  {
   "cell_type": "code",
   "execution_count": 15,
   "metadata": {},
   "outputs": [
    {
     "data": {
      "application/vnd.microsoft.datawrangler.viewer.v0+json": {
       "columns": [
        {
         "name": "index",
         "rawType": "int64",
         "type": "integer"
        },
        {
         "name": "TOTEXP22",
         "rawType": "int64",
         "type": "integer"
        },
        {
         "name": "OBTOTV22",
         "rawType": "int64",
         "type": "integer"
        },
        {
         "name": "AGE22X",
         "rawType": "int64",
         "type": "integer"
        },
        {
         "name": "INS22X",
         "rawType": "int64",
         "type": "integer"
        },
        {
         "name": "FAMINC22",
         "rawType": "int64",
         "type": "integer"
        }
       ],
       "conversionMethod": "pd.DataFrame",
       "ref": "e372434a-c3ca-4272-be41-d53375fbf9b7",
       "rows": [
        [
         "7028",
         "1338276",
         "0",
         "19",
         "1",
         "27840"
        ],
        [
         "7263",
         "667004",
         "49",
         "46",
         "1",
         "112151"
        ],
        [
         "12725",
         "512939",
         "25",
         "27",
         "2",
         "9000"
        ],
        [
         "15488",
         "403457",
         "3",
         "21",
         "1",
         "205205"
        ],
        [
         "20865",
         "802849",
         "45",
         "36",
         "1",
         "156810"
        ],
        [
         "21993",
         "633472",
         "1",
         "9",
         "1",
         "161616"
        ],
        [
         "22168",
         "699295",
         "0",
         "-1",
         "-1",
         "12756"
        ]
       ],
       "shape": {
        "columns": 5,
        "rows": 7
       }
      },
      "text/html": [
       "<div>\n",
       "<style scoped>\n",
       "    .dataframe tbody tr th:only-of-type {\n",
       "        vertical-align: middle;\n",
       "    }\n",
       "\n",
       "    .dataframe tbody tr th {\n",
       "        vertical-align: top;\n",
       "    }\n",
       "\n",
       "    .dataframe thead th {\n",
       "        text-align: right;\n",
       "    }\n",
       "</style>\n",
       "<table border=\"1\" class=\"dataframe\">\n",
       "  <thead>\n",
       "    <tr style=\"text-align: right;\">\n",
       "      <th></th>\n",
       "      <th>TOTEXP22</th>\n",
       "      <th>OBTOTV22</th>\n",
       "      <th>AGE22X</th>\n",
       "      <th>INS22X</th>\n",
       "      <th>FAMINC22</th>\n",
       "    </tr>\n",
       "  </thead>\n",
       "  <tbody>\n",
       "    <tr>\n",
       "      <th>7028</th>\n",
       "      <td>1338276</td>\n",
       "      <td>0</td>\n",
       "      <td>19</td>\n",
       "      <td>1</td>\n",
       "      <td>27840</td>\n",
       "    </tr>\n",
       "    <tr>\n",
       "      <th>7263</th>\n",
       "      <td>667004</td>\n",
       "      <td>49</td>\n",
       "      <td>46</td>\n",
       "      <td>1</td>\n",
       "      <td>112151</td>\n",
       "    </tr>\n",
       "    <tr>\n",
       "      <th>12725</th>\n",
       "      <td>512939</td>\n",
       "      <td>25</td>\n",
       "      <td>27</td>\n",
       "      <td>2</td>\n",
       "      <td>9000</td>\n",
       "    </tr>\n",
       "    <tr>\n",
       "      <th>15488</th>\n",
       "      <td>403457</td>\n",
       "      <td>3</td>\n",
       "      <td>21</td>\n",
       "      <td>1</td>\n",
       "      <td>205205</td>\n",
       "    </tr>\n",
       "    <tr>\n",
       "      <th>20865</th>\n",
       "      <td>802849</td>\n",
       "      <td>45</td>\n",
       "      <td>36</td>\n",
       "      <td>1</td>\n",
       "      <td>156810</td>\n",
       "    </tr>\n",
       "    <tr>\n",
       "      <th>21993</th>\n",
       "      <td>633472</td>\n",
       "      <td>1</td>\n",
       "      <td>9</td>\n",
       "      <td>1</td>\n",
       "      <td>161616</td>\n",
       "    </tr>\n",
       "    <tr>\n",
       "      <th>22168</th>\n",
       "      <td>699295</td>\n",
       "      <td>0</td>\n",
       "      <td>-1</td>\n",
       "      <td>-1</td>\n",
       "      <td>12756</td>\n",
       "    </tr>\n",
       "  </tbody>\n",
       "</table>\n",
       "</div>"
      ],
      "text/plain": [
       "       TOTEXP22  OBTOTV22  AGE22X  INS22X  FAMINC22\n",
       "7028    1338276         0      19       1     27840\n",
       "7263     667004        49      46       1    112151\n",
       "12725    512939        25      27       2      9000\n",
       "15488    403457         3      21       1    205205\n",
       "20865    802849        45      36       1    156810\n",
       "21993    633472         1       9       1    161616\n",
       "22168    699295         0      -1      -1     12756"
      ]
     },
     "execution_count": 15,
     "metadata": {},
     "output_type": "execute_result"
    }
   ],
   "source": [
    "df_selected[df_selected['TOTEXP22']>0.4*1e6]"
   ]
  },
  {
   "cell_type": "code",
   "execution_count": 16,
   "metadata": {},
   "outputs": [
    {
     "data": {
      "text/plain": [
       "<Axes: xlabel='OBTOTV22', ylabel='TOTEXP22'>"
      ]
     },
     "execution_count": 16,
     "metadata": {},
     "output_type": "execute_result"
    },
    {
     "data": {
      "image/png": "[encoded data removed]",
      "text/plain": [
       "<Figure size 640x480 with 1 Axes>"
      ]
     },
     "metadata": {},
     "output_type": "display_data"
    }
   ],
   "source": [
    "# Remove the outliers\n",
    "\n",
    "sns.scatterplot(x='OBTOTV22', y='TOTEXP22', data=df_selected[df_selected['TOTEXP22'] < 0.5*1e6])"
   ]
  },
  {
   "cell_type": "code",
   "execution_count": 17,
   "metadata": {},
   "outputs": [
    {
     "data": {
      "application/vnd.microsoft.datawrangler.viewer.v0+json": {
       "columns": [
        {
         "name": "index",
         "rawType": "object",
         "type": "string"
        },
        {
         "name": "TOTEXP22",
         "rawType": "float64",
         "type": "float"
        },
        {
         "name": "OBTOTV22",
         "rawType": "float64",
         "type": "float"
        },
        {
         "name": "AGE22X",
         "rawType": "float64",
         "type": "float"
        },
        {
         "name": "INS22X",
         "rawType": "float64",
         "type": "float"
        },
        {
         "name": "FAMINC22",
         "rawType": "float64",
         "type": "float"
        }
       ],
       "conversionMethod": "pd.DataFrame",
       "ref": "92b64801-1e8d-4f0e-bc10-fd6158da7fd9",
       "rows": [
        [
         "TOTEXP22",
         "1.0",
         "0.31736902412785495",
         "0.16241572473389712",
         "-0.09475234573705162",
         "-0.021430550376796392"
        ],
        [
         "OBTOTV22",
         "0.31736902412785495",
         "1.0",
         "0.20153898975709253",
         "-0.07806004079476228",
         "0.01864634602694094"
        ],
        [
         "AGE22X",
         "0.16241572473389712",
         "0.20153898975709253",
         "1.0",
         "0.03190098243592473",
         "-0.07915222783049161"
        ],
        [
         "INS22X",
         "-0.09475234573705162",
         "-0.07806004079476228",
         "0.03190098243592473",
         "1.0",
         "-0.0688010411254169"
        ],
        [
         "FAMINC22",
         "-0.021430550376796392",
         "0.01864634602694094",
         "-0.07915222783049161",
         "-0.0688010411254169",
         "1.0"
        ]
       ],
       "shape": {
        "columns": 5,
        "rows": 5
       }
      },
      "text/html": [
       "<div>\n",
       "<style scoped>\n",
       "    .dataframe tbody tr th:only-of-type {\n",
       "        vertical-align: middle;\n",
       "    }\n",
       "\n",
       "    .dataframe tbody tr th {\n",
       "        vertical-align: top;\n",
       "    }\n",
       "\n",
       "    .dataframe thead th {\n",
       "        text-align: right;\n",
       "    }\n",
       "</style>\n",
       "<table border=\"1\" class=\"dataframe\">\n",
       "  <thead>\n",
       "    <tr style=\"text-align: right;\">\n",
       "      <th></th>\n",
       "      <th>TOTEXP22</th>\n",
       "      <th>OBTOTV22</th>\n",
       "      <th>AGE22X</th>\n",
       "      <th>INS22X</th>\n",
       "      <th>FAMINC22</th>\n",
       "    </tr>\n",
       "  </thead>\n",
       "  <tbody>\n",
       "    <tr>\n",
       "      <th>TOTEXP22</th>\n",
       "      <td>1.000000</td>\n",
       "      <td>0.317369</td>\n",
       "      <td>0.162416</td>\n",
       "      <td>-0.094752</td>\n",
       "      <td>-0.021431</td>\n",
       "    </tr>\n",
       "    <tr>\n",
       "      <th>OBTOTV22</th>\n",
       "      <td>0.317369</td>\n",
       "      <td>1.000000</td>\n",
       "      <td>0.201539</td>\n",
       "      <td>-0.078060</td>\n",
       "      <td>0.018646</td>\n",
       "    </tr>\n",
       "    <tr>\n",
       "      <th>AGE22X</th>\n",
       "      <td>0.162416</td>\n",
       "      <td>0.201539</td>\n",
       "      <td>1.000000</td>\n",
       "      <td>0.031901</td>\n",
       "      <td>-0.079152</td>\n",
       "    </tr>\n",
       "    <tr>\n",
       "      <th>INS22X</th>\n",
       "      <td>-0.094752</td>\n",
       "      <td>-0.078060</td>\n",
       "      <td>0.031901</td>\n",
       "      <td>1.000000</td>\n",
       "      <td>-0.068801</td>\n",
       "    </tr>\n",
       "    <tr>\n",
       "      <th>FAMINC22</th>\n",
       "      <td>-0.021431</td>\n",
       "      <td>0.018646</td>\n",
       "      <td>-0.079152</td>\n",
       "      <td>-0.068801</td>\n",
       "      <td>1.000000</td>\n",
       "    </tr>\n",
       "  </tbody>\n",
       "</table>\n",
       "</div>"
      ],
      "text/plain": [
       "          TOTEXP22  OBTOTV22    AGE22X    INS22X  FAMINC22\n",
       "TOTEXP22  1.000000  0.317369  0.162416 -0.094752 -0.021431\n",
       "OBTOTV22  0.317369  1.000000  0.201539 -0.078060  0.018646\n",
       "AGE22X    0.162416  0.201539  1.000000  0.031901 -0.079152\n",
       "INS22X   -0.094752 -0.078060  0.031901  1.000000 -0.068801\n",
       "FAMINC22 -0.021431  0.018646 -0.079152 -0.068801  1.000000"
      ]
     },
     "execution_count": 17,
     "metadata": {},
     "output_type": "execute_result"
    }
   ],
   "source": [
    "# correlation\n",
    "\n",
    "df_selected.corr()"
   ]
  },
  {
   "cell_type": "markdown",
   "metadata": {},
   "source": [
    " the correlation shows weak Positive for Number of Office visit OBTOTV22 so more visit somewhat increases costs but not a lot. Age is very weak at 0.162 So barely Increase expenditure, The insurance is very, very weak at -0.094 So therefore has no effect. And the family income FAMINC22 Basically, has no correlation at -0.021"
   ]
  },
  {
   "cell_type": "markdown",
   "metadata": {},
   "source": [
    "So I'm going to run a quick regression to see what what we can learn even with those weak correlations. I'm going to use the expenditure as dependent variable and the other four variables as predictors or Independent."
   ]
  },
  {
   "cell_type": "code",
   "execution_count": 20,
   "metadata": {},
   "outputs": [
    {
     "name": "stdout",
     "output_type": "stream",
     "text": [
      "Collecting statsmodels\n",
      "  Downloading statsmodels-0.14.4-cp313-cp313-macosx_11_0_arm64.whl.metadata (9.2 kB)\n",
      "Requirement already satisfied: numpy<3,>=1.22.3 in ./venv/lib/python3.13/site-packages (from statsmodels) (2.2.3)\n",
      "Collecting scipy!=1.9.2,>=1.8 (from statsmodels)\n",
      "  Downloading scipy-1.15.2-cp313-cp313-macosx_14_0_arm64.whl.metadata (61 kB)\n",
      "Requirement already satisfied: pandas!=2.1.0,>=1.4 in ./venv/lib/python3.13/site-packages (from statsmodels) (2.2.3)\n",
      "Collecting patsy>=0.5.6 (from statsmodels)\n",
      "  Downloading patsy-1.0.1-py2.py3-none-any.whl.metadata (3.3 kB)\n",
      "Requirement already satisfied: packaging>=21.3 in ./venv/lib/python3.13/site-packages (from statsmodels) (24.2)\n",
      "Requirement already satisfied: python-dateutil>=2.8.2 in ./venv/lib/python3.13/site-packages (from pandas!=2.1.0,>=1.4->statsmodels) (2.9.0.post0)\n",
      "Requirement already satisfied: pytz>=2020.1 in ./venv/lib/python3.13/site-packages (from pandas!=2.1.0,>=1.4->statsmodels) (2025.1)\n",
      "Requirement already satisfied: tzdata>=2022.7 in ./venv/lib/python3.13/site-packages (from pandas!=2.1.0,>=1.4->statsmodels) (2025.1)\n",
      "Requirement already satisfied: six>=1.5 in ./venv/lib/python3.13/site-packages (from python-dateutil>=2.8.2->pandas!=2.1.0,>=1.4->statsmodels) (1.17.0)\n",
      "Downloading statsmodels-0.14.4-cp313-cp313-macosx_11_0_arm64.whl (9.9 MB)\n",
      "\u001b[2K   \u001b[90m━━━━━━━━━━━━━━━━━━━━━━━━━━━━━━━━━━━━━━━━\u001b[0m \u001b[32m9.9/9.9 MB\u001b[0m \u001b[31m22.1 MB/s\u001b[0m eta \u001b[36m0:00:00\u001b[0ma \u001b[36m0:00:01\u001b[0m\n",
      "\u001b[?25hDownloading patsy-1.0.1-py2.py3-none-any.whl (232 kB)\n",
      "Downloading scipy-1.15.2-cp313-cp313-macosx_14_0_arm64.whl (22.4 MB)\n",
      "\u001b[2K   \u001b[90m━━━━━━━━━━━━━━━━━━━━━━━━━━━━━━━━━━━━━━━━\u001b[0m \u001b[32m22.4/22.4 MB\u001b[0m \u001b[31m22.6 MB/s\u001b[0m eta \u001b[36m0:00:00\u001b[0ma \u001b[36m0:00:01\u001b[0m\n",
      "\u001b[?25hInstalling collected packages: scipy, patsy, statsmodels\n",
      "Successfully installed patsy-1.0.1 scipy-1.15.2 statsmodels-0.14.4\n",
      "Note: you may need to restart the kernel to use updated packages.\n"
     ]
    }
   ],
   "source": [
    "pip install statsmodels"
   ]
  },
  {
   "cell_type": "code",
   "execution_count": null,
   "metadata": {},
   "outputs": [],
   "source": [
    "X = sm.add_constant"
   ]
  },
  {
   "cell_type": "code",
   "execution_count": 21,
   "metadata": {},
   "outputs": [
    {
     "name": "stdout",
     "output_type": "stream",
     "text": [
      "                            OLS Regression Results                            \n",
      "==============================================================================\n",
      "Dep. Variable:               TOTEXP22   R-squared:                       0.117\n",
      "Model:                            OLS   Adj. R-squared:                  0.117\n",
      "Method:                 Least Squares   F-statistic:                     742.6\n",
      "Date:                Thu, 13 Mar 2025   Prob (F-statistic):               0.00\n",
      "Time:                        01:58:08   Log-Likelihood:            -2.5552e+05\n",
      "No. Observations:               22414   AIC:                         5.110e+05\n",
      "Df Residuals:                   22409   BIC:                         5.111e+05\n",
      "Df Model:                           4                                         \n",
      "Covariance Type:            nonrobust                                         \n",
      "==============================================================================\n",
      "                 coef    std err          t      P>|t|      [0.025      0.975]\n",
      "------------------------------------------------------------------------------\n",
      "const       5881.5376    565.190     10.406      0.000    4773.726    6989.349\n",
      "OBTOTV22     513.3977     11.363     45.182      0.000     491.125     535.670\n",
      "AGE22X       100.0271      6.169     16.214      0.000      87.935     112.119\n",
      "INS22X     -5040.2759    413.322    -12.195      0.000   -5850.415   -4230.136\n",
      "FAMINC22      -0.0063      0.002     -3.784      0.000      -0.010      -0.003\n",
      "==============================================================================\n",
      "Omnibus:                    50416.010   Durbin-Watson:                   1.968\n",
      "Prob(Omnibus):                  0.000   Jarque-Bera (JB):        743757251.715\n",
      "Skew:                          20.917   Prob(JB):                         0.00\n",
      "Kurtosis:                     894.423   Cond. No.                     5.84e+05\n",
      "==============================================================================\n",
      "\n",
      "Notes:\n",
      "[1] Standard Errors assume that the covariance matrix of the errors is correctly specified.\n",
      "[2] The condition number is large, 5.84e+05. This might indicate that there are\n",
      "strong multicollinearity or other numerical problems.\n"
     ]
    }
   ],
   "source": [
    "# regression\n",
    "\n",
    "import statsmodels.api as sm\n",
    "\n",
    "# Define predictors (add a constant for the intercept)\n",
    "X = sm.add_constant(df_selected[['OBTOTV22', 'AGE22X', 'INS22X', 'FAMINC22']])\n",
    "y = df_selected['TOTEXP22']\n",
    "\n",
    "# Fit the model\n",
    "model = sm.OLS(y, X).fit()\n",
    "\n",
    "# Print the summary\n",
    "print(model.summary())"
   ]
  },
  {
   "cell_type": "code",
   "execution_count": null,
   "metadata": {},
   "outputs": [],
   "source": [
    "import statsmodels.api as sm\n",
    "\n",
    "X = sm.add_\n"
   ]
  }
 ],
 "metadata": {
  "kernelspec": {
   "display_name": "venv",
   "language": "python",
   "name": "python3"
  },
  "language_info": {
   "codemirror_mode": {
    "name": "ipython",
    "version": 3
   },
   "file_extension": ".py",
   "mimetype": "text/x-python",
   "name": "python",
   "nbconvert_exporter": "python",
   "pygments_lexer": "ipython3",
   "version": "3.13.2"
  }
 },
 "nbformat": 4,
 "nbformat_minor": 2
}
